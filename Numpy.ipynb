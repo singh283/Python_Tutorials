{
 "cells": [
  {
   "cell_type": "code",
   "execution_count": null,
   "id": "694754cf",
   "metadata": {},
   "outputs": [],
   "source": [
    "# Numpy - Numerical python - library consisiting of  multidimesional array objects and collection of routines to process \n",
    "# the array \n",
    "\n",
    "# The need for NumPy arises when we are working with multi-dimensional arrays. \n",
    "# The traditional array module does not support multi-dimensional arrays\n",
    "\n",
    "# Comparison of Numpy array over List \n",
    "# https://www.geeksforgeeks.org/python-lists-vs-numpy-arrays/ \n",
    "  \n",
    "\n",
    "# Using Numpy we can do mathematical and logical operations on array.\n",
    "# Fourier transforms and routine for shape manipulation.\n",
    "# Operations related to  Linear algebra and random number generation.\n",
    "\n",
    "# Originally Python was not designed for numeric computation. \n",
    "# As people started using python for various tasks, the need for fast numeric computation arose. \n",
    "# And the Numpy was created by a group of people in 2005 to address this challenge.\n",
    "\n",
    "# https://www.scaler.com/topics/2d-array-in-python/ \n",
    "\n",
    "1. Numpy array is a collection of similar data-types that are densely packed in memory. \n",
    "    A Python list can have different data-types, which puts lots of extra constraints while doing computation on it.\n",
    "\n",
    "2. Numpy is able to divide a task into multiple subtasks and process them parallelly.\n",
    "3. Numpy functions are implemented in C. Which again makes it faster compared to Python Lists.\n"
   ]
  },
  {
   "cell_type": "code",
   "execution_count": 1,
   "id": "c0ff0adf",
   "metadata": {},
   "outputs": [],
   "source": [
    "import numpy as np"
   ]
  },
  {
   "cell_type": "code",
   "execution_count": 106,
   "id": "9268abb6",
   "metadata": {},
   "outputs": [
    {
     "name": "stdout",
     "output_type": "stream",
     "text": [
      "[[1 2 3]]\n",
      "(1, 3)\n",
      "2\n",
      "3\n"
     ]
    }
   ],
   "source": [
    "arr11 = np.array([ [1,2,3] ])\n",
    "\n",
    "print(arr11)\n",
    "print(arr11.shape)\n",
    "print(arr11.ndim)\n",
    "print(arr11.size) # total no of elements in array\n"
   ]
  },
  {
   "cell_type": "code",
   "execution_count": 90,
   "id": "e602edf4",
   "metadata": {},
   "outputs": [
    {
     "name": "stdout",
     "output_type": "stream",
     "text": [
      "(3,)\n",
      "1\n"
     ]
    }
   ],
   "source": [
    "arr0 = np.array([1,2,3])\n",
    "print(arr0.shape)\n",
    "\n",
    "print(arr0.ndim)"
   ]
  },
  {
   "cell_type": "code",
   "execution_count": 94,
   "id": "d5aa50e2",
   "metadata": {},
   "outputs": [
    {
     "data": {
      "text/plain": [
       "array([[ 1,  2,  3],\n",
       "       [ 4,  2,  5],\n",
       "       [ 9, 10, 11]])"
      ]
     },
     "execution_count": 94,
     "metadata": {},
     "output_type": "execute_result"
    }
   ],
   "source": [
    "arr = np.array([ [1,2,3] , [4,2,5] , [9,10,11] ] )\n",
    "\n",
    "arr"
   ]
  },
  {
   "cell_type": "code",
   "execution_count": 4,
   "id": "205b3436",
   "metadata": {},
   "outputs": [
    {
     "name": "stdout",
     "output_type": "stream",
     "text": [
      "[[1 2 3]\n",
      " [4 2 5]]\n"
     ]
    }
   ],
   "source": [
    "\n",
    "print(arr)"
   ]
  },
  {
   "cell_type": "code",
   "execution_count": 5,
   "id": "78f0f77f",
   "metadata": {},
   "outputs": [
    {
     "name": "stdout",
     "output_type": "stream",
     "text": [
      "<class 'numpy.ndarray'>\n"
     ]
    }
   ],
   "source": [
    "print(type(arr))"
   ]
  },
  {
   "cell_type": "code",
   "execution_count": 7,
   "id": "15618f70",
   "metadata": {},
   "outputs": [
    {
     "name": "stdout",
     "output_type": "stream",
     "text": [
      "(2, 3)\n"
     ]
    }
   ],
   "source": [
    "print(arr.shape)"
   ]
  },
  {
   "cell_type": "code",
   "execution_count": 18,
   "id": "f6a6f782",
   "metadata": {},
   "outputs": [
    {
     "name": "stdout",
     "output_type": "stream",
     "text": [
      "2\n"
     ]
    }
   ],
   "source": [
    "print(arr.ndim)\n"
   ]
  },
  {
   "cell_type": "code",
   "execution_count": 12,
   "id": "ca861de2",
   "metadata": {},
   "outputs": [
    {
     "data": {
      "text/plain": [
       "array([[[ 1,  2,  3],\n",
       "        [ 4,  2,  5],\n",
       "        [10, 11, 13]]])"
      ]
     },
     "execution_count": 12,
     "metadata": {},
     "output_type": "execute_result"
    }
   ],
   "source": [
    "arr1 = np.array( [ [ [1,2,3] , [4,2,5] , [10,11,13] ]  ] )\n",
    "\n",
    "arr1"
   ]
  },
  {
   "cell_type": "code",
   "execution_count": 20,
   "id": "fca5eacf",
   "metadata": {},
   "outputs": [
    {
     "name": "stdout",
     "output_type": "stream",
     "text": [
      "3\n",
      "(1, 3, 3)\n"
     ]
    }
   ],
   "source": [
    "print(arr1.ndim)\n",
    "print(arr1.shape)"
   ]
  },
  {
   "cell_type": "code",
   "execution_count": 16,
   "id": "117033bb",
   "metadata": {},
   "outputs": [
    {
     "data": {
      "text/plain": [
       "array([[[ 1,  2,  3],\n",
       "        [ 4,  2,  5],\n",
       "        [10, 11, 13]],\n",
       "\n",
       "       [[ 9,  8,  7],\n",
       "        [15, 12, 14],\n",
       "        [20, 21, 22]]])"
      ]
     },
     "execution_count": 16,
     "metadata": {},
     "output_type": "execute_result"
    }
   ],
   "source": [
    "arr2 = np.array( [ [ [1,2,3] , [4,2,5] , [10,11,13] ] , [ [9,8,7] , [15,12,14] ,  [20,21,22]] ]  )\n",
    "                  \n",
    "arr2"
   ]
  },
  {
   "cell_type": "code",
   "execution_count": 21,
   "id": "63ce6aab",
   "metadata": {},
   "outputs": [
    {
     "name": "stdout",
     "output_type": "stream",
     "text": [
      "3\n",
      "(2, 3, 3)\n"
     ]
    }
   ],
   "source": [
    "print(arr2.ndim)\n",
    "print(arr2.shape)"
   ]
  },
  {
   "cell_type": "code",
   "execution_count": 27,
   "id": "15778d5f",
   "metadata": {},
   "outputs": [
    {
     "name": "stdout",
     "output_type": "stream",
     "text": [
      "2\n"
     ]
    }
   ],
   "source": [
    "arr4 = np.array([ [] ])\n",
    "\n",
    "print(arr4.ndim)"
   ]
  },
  {
   "cell_type": "code",
   "execution_count": 81,
   "id": "caf7040f",
   "metadata": {},
   "outputs": [
    {
     "name": "stdout",
     "output_type": "stream",
     "text": [
      "[[list([1, 2, 3]) list([4, 5, 6])]\n",
      " [list([0, 0]) list([1, 1])]]\n",
      "2\n",
      "(2, 2)\n",
      "object\n"
     ]
    },
    {
     "name": "stderr",
     "output_type": "stream",
     "text": [
      "C:\\Users\\amikumar61\\AppData\\Local\\Temp\\ipykernel_28564\\4202796111.py:1: VisibleDeprecationWarning: Creating an ndarray from ragged nested sequences (which is a list-or-tuple of lists-or-tuples-or ndarrays with different lengths or shapes) is deprecated. If you meant to do this, you must specify 'dtype=object' when creating the ndarray.\n",
      "  arr5 = np.array( [ [   [1,2,3] , [4,5,6] ] ,  [ [0,0] , [1,1] ] ]  )\n"
     ]
    }
   ],
   "source": [
    "arr5 = np.array( [ [   [1,2,3] , [4,5,6] ] ,  [ [0,0] , [1,1] ] ]  )\n",
    "print(arr5)\n",
    "print(arr5.ndim)\n",
    "print(arr5.shape)\n",
    "print(arr5.dtype)"
   ]
  },
  {
   "cell_type": "code",
   "execution_count": 79,
   "id": "c3bd3c03",
   "metadata": {},
   "outputs": [
    {
     "name": "stdout",
     "output_type": "stream",
     "text": [
      "[[list([1, 2, 3]) list([4, 5, 6])]\n",
      " [list([0, 0]) list([1, 1])]]\n",
      "2\n",
      "(2, 2)\n",
      "object\n"
     ]
    }
   ],
   "source": [
    "arr5 = np.array( [ [   [1,2,3] , [4,5,6] ] ,  [ [0,0] , [1,1] ] ]  , dtype=object )\n",
    "print(arr5)\n",
    "print(arr5.ndim)\n",
    "print(arr5.shape)\n",
    "print(arr5.dtype)"
   ]
  },
  {
   "cell_type": "code",
   "execution_count": 82,
   "id": "3d835dae",
   "metadata": {},
   "outputs": [
    {
     "name": "stdout",
     "output_type": "stream",
     "text": [
      "[[[1 2 3]\n",
      "  [4 5 6]]\n",
      "\n",
      " [[0 0 0]\n",
      "  [1 1 1]]]\n",
      "3\n",
      "(2, 2, 3)\n"
     ]
    }
   ],
   "source": [
    "arr5 = np.array( [ [   [1,2,3] , [4,5,6] ] ,  [ [0,0,0] , [1,1,1] ] ]   )\n",
    "\n",
    "print(arr5)\n",
    "print(arr5.ndim)\n",
    "print(arr5.shape)"
   ]
  },
  {
   "cell_type": "code",
   "execution_count": 64,
   "id": "1c59f9ab",
   "metadata": {},
   "outputs": [
    {
     "name": "stdout",
     "output_type": "stream",
     "text": [
      "[2000 3000 4000 5000]\n",
      "1 (4,) int32\n"
     ]
    },
    {
     "data": {
      "text/plain": [
       "array([2000, 3000, 4000, 5000])"
      ]
     },
     "execution_count": 64,
     "metadata": {},
     "output_type": "execute_result"
    }
   ],
   "source": [
    "lst = [2000, 3000, 4000, 5000]\n",
    "\n",
    "arr_lst =  np.array(lst)\n",
    "print(arr_lst)\n",
    "print(arr_lst.ndim , arr_lst.shape , arr_lst.dtype)\n",
    "arr_lst"
   ]
  },
  {
   "cell_type": "code",
   "execution_count": 109,
   "id": "fafb7807",
   "metadata": {},
   "outputs": [
    {
     "name": "stdout",
     "output_type": "stream",
     "text": [
      "[2000. 3000. 4000. 5000.]\n",
      "1 (4,) float64\n"
     ]
    },
    {
     "data": {
      "text/plain": [
       "array([2000., 3000., 4000., 5000.])"
      ]
     },
     "execution_count": 109,
     "metadata": {},
     "output_type": "execute_result"
    }
   ],
   "source": [
    "# Upcasting : \n",
    "\n",
    "# Python automatically converts one data type to another data type. \n",
    "# This process doesn’t need any user involvement Python promotes the conversion of lower data type, \n",
    "# for example, integer to higher data type says float to avoid data loss. \n",
    "# This type of conversion or type casting is called UpCasting\n",
    "\n",
    "lst1 = [2000, 3000, 4000, 5000.0]\n",
    "arr_lst1 =  np.array(lst1)\n",
    "print(arr_lst1)\n",
    "print(arr_lst1.ndim , arr_lst1.shape , arr_lst1.dtype)\n",
    "arr_lst1"
   ]
  },
  {
   "cell_type": "code",
   "execution_count": 67,
   "id": "39906928",
   "metadata": {},
   "outputs": [
    {
     "name": "stdout",
     "output_type": "stream",
     "text": [
      "['2000' '3000' '4000' '5000.0' 'amit']\n",
      "1 (5,) <U32\n"
     ]
    },
    {
     "data": {
      "text/plain": [
       "array(['2000', '3000', '4000', '5000.0', 'amit'], dtype='<U32')"
      ]
     },
     "execution_count": 67,
     "metadata": {},
     "output_type": "execute_result"
    }
   ],
   "source": [
    "lst2 = [2000, 3000, 4000, 5000.0, 'amit']\n",
    "arr_lst2 =  np.array(lst2)\n",
    "print(arr_lst2)\n",
    "print(arr_lst2.ndim , arr_lst2.shape , arr_lst2.dtype)\n",
    "arr_lst2"
   ]
  },
  {
   "cell_type": "code",
   "execution_count": 69,
   "id": "1a34b0bd",
   "metadata": {},
   "outputs": [
    {
     "name": "stdout",
     "output_type": "stream",
     "text": [
      "[list([2000, 3000]) 4000 5000.0 'amit']\n",
      "1 (4,) object\n"
     ]
    },
    {
     "name": "stderr",
     "output_type": "stream",
     "text": [
      "C:\\Users\\amikumar61\\AppData\\Local\\Temp\\ipykernel_28564\\3288120288.py:2: VisibleDeprecationWarning: Creating an ndarray from ragged nested sequences (which is a list-or-tuple of lists-or-tuples-or ndarrays with different lengths or shapes) is deprecated. If you meant to do this, you must specify 'dtype=object' when creating the ndarray.\n",
      "  arr_lst3 =  np.array(lst3)\n"
     ]
    },
    {
     "data": {
      "text/plain": [
       "array([list([2000, 3000]), 4000, 5000.0, 'amit'], dtype=object)"
      ]
     },
     "execution_count": 69,
     "metadata": {},
     "output_type": "execute_result"
    }
   ],
   "source": [
    "lst3 = [[2000, 3000 ] , 4000, 5000.0, 'amit']\n",
    "arr_lst3 =  np.array(lst3)\n",
    "print(arr_lst3)\n",
    "print(arr_lst3.ndim , arr_lst3.shape , arr_lst3.dtype)\n",
    "arr_lst3"
   ]
  },
  {
   "cell_type": "code",
   "execution_count": 73,
   "id": "9b396b2c",
   "metadata": {},
   "outputs": [
    {
     "name": "stdout",
     "output_type": "stream",
     "text": [
      "[list([2000, 3000]) 4000 5000.0 'amit']\n",
      "1 (4,) object\n"
     ]
    },
    {
     "data": {
      "text/plain": [
       "array([list([2000, 3000]), 4000, 5000.0, 'amit'], dtype=object)"
      ]
     },
     "execution_count": 73,
     "metadata": {},
     "output_type": "execute_result"
    }
   ],
   "source": [
    "lst3 = [[2000, 3000 ] , 4000, 5000.0, 'amit']\n",
    "arr_lst3 =  np.array(lst3, dtype=object)\n",
    "print(arr_lst3)\n",
    "print(arr_lst3.ndim , arr_lst3.shape , arr_lst3.dtype)\n",
    "arr_lst3"
   ]
  },
  {
   "cell_type": "code",
   "execution_count": 114,
   "id": "03caeee5",
   "metadata": {},
   "outputs": [],
   "source": [
    "#  Ways to create an array object using numpy packages \n",
    "\n",
    "# print(dir(np))\n",
    "\n",
    "# np.array()\n",
    "# np.ones()\n",
    "# np.zeros()\n",
    "# np.empty()\n",
    "# np.linspace()   - Generates only 1D array \n",
    "# np.arrange()    - Generates only 1D array \n",
    "# np.random.rand*()"
   ]
  },
  {
   "cell_type": "code",
   "execution_count": 128,
   "id": "8f7d8108",
   "metadata": {},
   "outputs": [
    {
     "name": "stdout",
     "output_type": "stream",
     "text": [
      "[3.17249321e+180 1.61590357e+184 4.96124884e-090 5.98633990e+174\n",
      " 9.98570068e-048]\n",
      "Array element datatype :  float64\n",
      "Shape of array : (5,)\n",
      "Type of  arr1 : <class 'numpy.ndarray'>\n",
      "Size/ total no of elements  of array : 5\n",
      "Dimension of array :  1\n"
     ]
    }
   ],
   "source": [
    "# np.empty() - Return a new array of given shape and type, without initializing entries. \n",
    "\n",
    "arr1 = np.empty(5)\n",
    "print(arr1)\n",
    "print('Array element datatype : ', arr1.dtype)\n",
    "print('Shape of array :' , arr1.shape )\n",
    "print('Type of  arr1 :' , type(arr1))\n",
    "print('Size/ total no of elements  of array :' , arr1.size)\n",
    "print('Dimension of array : ' , arr1.ndim)"
   ]
  },
  {
   "cell_type": "code",
   "execution_count": 129,
   "id": "4e28a381",
   "metadata": {},
   "outputs": [
    {
     "name": "stdout",
     "output_type": "stream",
     "text": [
      "[[nan  0.]\n",
      " [ 0.  0.]\n",
      " [ 0.  0.]\n",
      " [ 0.  0.]\n",
      " [ 0.  0.]]\n",
      "Array element datatype :  float64\n",
      "Shape of array : (5, 2)\n",
      "Type of  arr2 : <class 'numpy.ndarray'>\n",
      "Size/ total no of elements  of array : 10\n",
      "Dimension of array :  2\n"
     ]
    }
   ],
   "source": [
    "arr2 = np.empty((5,2))   \n",
    "print(arr2)\n",
    "print('Array element datatype : ', arr2.dtype)\n",
    "print('Shape of array :' , arr2.shape )\n",
    "print('Type of  arr2 :' , type(arr2))\n",
    "print('Size/ total no of elements  of array :' , arr2.size)\n",
    "print('Dimension of array : ' , arr2.ndim)"
   ]
  },
  {
   "cell_type": "code",
   "execution_count": 130,
   "id": "242fd44c",
   "metadata": {},
   "outputs": [
    {
     "name": "stdout",
     "output_type": "stream",
     "text": [
      "[[[8.94760103e-312 9.98012605e-322 0.00000000e+000]\n",
      "  [0.00000000e+000 2.98891773e-032 5.02034658e+175]]\n",
      "\n",
      " [[9.23470432e-071 6.12262980e+169 1.76008897e-076]\n",
      "  [6.34550994e-066 6.86839922e-038 2.16385130e+190]]\n",
      "\n",
      " [[1.94918964e-153 9.97328607e-143 1.06396443e+224]\n",
      "  [1.70100503e+256 5.49109388e-143 9.30537467e+199]]\n",
      "\n",
      " [[3.91177819e+179 2.81185624e-033 1.43259767e+161]\n",
      "  [8.84558286e+165 7.75480389e-144 5.49810101e-143]]\n",
      "\n",
      " [[5.58288124e-091 2.76066132e-057 8.54518750e-072]\n",
      "  [4.29598672e-096 4.82337433e+228 3.67152456e-062]]]\n",
      "Array element datatype :  float64\n",
      "Shape of array : (5, 2, 3)\n",
      "Type of  arr2 : <class 'numpy.ndarray'>\n",
      "Size/ total no of elements  of array : 30\n",
      "Dimension of array :  3\n"
     ]
    }
   ],
   "source": [
    "arr2 = np.empty((5, 2, 3))    # 3D array \n",
    "print(arr2)\n",
    "print('Array element datatype : ', arr2.dtype)\n",
    "print('Shape of array :' , arr2.shape )\n",
    "print('Type of  arr2 :' , type(arr2))\n",
    "print('Size/ total no of elements  of array :' , arr2.size)\n",
    "print('Dimension of array : ' , arr2.ndim)"
   ]
  },
  {
   "cell_type": "code",
   "execution_count": 132,
   "id": "8d87f983",
   "metadata": {},
   "outputs": [
    {
     "name": "stdout",
     "output_type": "stream",
     "text": [
      "[1. 1. 1. 1. 1. 1. 1. 1. 1. 1.]\n",
      "float64\n"
     ]
    }
   ],
   "source": [
    "arr2 = np.ones(10)   \n",
    "print(arr2)\n",
    "print(arr2.dtype)"
   ]
  },
  {
   "cell_type": "code",
   "execution_count": 135,
   "id": "d58dceb3",
   "metadata": {},
   "outputs": [
    {
     "name": "stdout",
     "output_type": "stream",
     "text": [
      "[[1. 1. 1.]\n",
      " [1. 1. 1.]\n",
      " [1. 1. 1.]\n",
      " [1. 1. 1.]\n",
      " [1. 1. 1.]]\n",
      "float64\n"
     ]
    }
   ],
   "source": [
    "arr2 = np.ones((5,3))  \n",
    "print(arr2)\n",
    "print(arr2.dtype)"
   ]
  },
  {
   "cell_type": "code",
   "execution_count": 137,
   "id": "42a2b9f0",
   "metadata": {},
   "outputs": [
    {
     "name": "stdout",
     "output_type": "stream",
     "text": [
      "[[0. 0. 0. 0. 0.]\n",
      " [0. 0. 0. 0. 0.]\n",
      " [0. 0. 0. 0. 0.]\n",
      " [0. 0. 0. 0. 0.]\n",
      " [0. 0. 0. 0. 0.]]\n",
      "float64 <class 'numpy.ndarray'>\n"
     ]
    }
   ],
   "source": [
    "arr2 = np.zeros((5,5))  \n",
    "print(arr2)\n",
    "print(arr2.dtype , type(arr2))"
   ]
  },
  {
   "cell_type": "code",
   "execution_count": 141,
   "id": "35fe73ce",
   "metadata": {},
   "outputs": [
    {
     "name": "stdout",
     "output_type": "stream",
     "text": [
      "[4 5 6 7 8 9]\n",
      "int32 <class 'numpy.ndarray'>\n"
     ]
    }
   ],
   "source": [
    "# np.arange([start], stop ,[step])-  Return evenly spaced values within a given interval.\n",
    "\n",
    "# arange always gives ONLY 1D array\n",
    "\n",
    "# return type - ndarray\n",
    "# start - 0\n",
    "# step - 1\n",
    "\n",
    "arr2 = np.arange(4,10)  \n",
    "print(arr2)\n",
    "print(arr2.dtype , type(arr2))"
   ]
  },
  {
   "cell_type": "code",
   "execution_count": 144,
   "id": "c81d01c0",
   "metadata": {},
   "outputs": [
    {
     "name": "stdout",
     "output_type": "stream",
     "text": [
      "[10  9  8  7  6  5  4  3  2  1  0 -1 -2 -3 -4 -5 -6 -7 -8 -9]\n",
      "int32 <class 'numpy.ndarray'>\n"
     ]
    }
   ],
   "source": [
    "arr2 = np.arange(10,-10, -1)  \n",
    "print(arr2)\n",
    "print(arr2.dtype , type(arr2))"
   ]
  },
  {
   "cell_type": "code",
   "execution_count": 146,
   "id": "33c7ec14",
   "metadata": {},
   "outputs": [
    {
     "name": "stdout",
     "output_type": "stream",
     "text": [
      "[0 2 4 6 8]\n",
      "int32 <class 'numpy.ndarray'>\n"
     ]
    }
   ],
   "source": [
    "arr2 = np.arange(10, step = 2)  \n",
    "print(arr2)\n",
    "print(arr2.dtype , type(arr2))"
   ]
  },
  {
   "cell_type": "code",
   "execution_count": 160,
   "id": "ca3b5aae",
   "metadata": {},
   "outputs": [
    {
     "data": {
      "text/plain": [
       "array([[8, 8, 8],\n",
       "       [8, 8, 8]])"
      ]
     },
     "execution_count": 160,
     "metadata": {},
     "output_type": "execute_result"
    }
   ],
   "source": [
    "for i in np.arange(10, step = 2) :\n",
    "    arr = np.array([ [i, i, i] , [i,i,i] ])\n",
    "\n",
    "arr"
   ]
  },
  {
   "cell_type": "code",
   "execution_count": 162,
   "id": "437497d8",
   "metadata": {},
   "outputs": [
    {
     "name": "stdout",
     "output_type": "stream",
     "text": [
      "[ 0.          0.20408163  0.40816327  0.6122449   0.81632653  1.02040816\n",
      "  1.2244898   1.42857143  1.63265306  1.83673469  2.04081633  2.24489796\n",
      "  2.44897959  2.65306122  2.85714286  3.06122449  3.26530612  3.46938776\n",
      "  3.67346939  3.87755102  4.08163265  4.28571429  4.48979592  4.69387755\n",
      "  4.89795918  5.10204082  5.30612245  5.51020408  5.71428571  5.91836735\n",
      "  6.12244898  6.32653061  6.53061224  6.73469388  6.93877551  7.14285714\n",
      "  7.34693878  7.55102041  7.75510204  7.95918367  8.16326531  8.36734694\n",
      "  8.57142857  8.7755102   8.97959184  9.18367347  9.3877551   9.59183673\n",
      "  9.79591837 10.        ]\n",
      "float64 <class 'numpy.ndarray'>\n"
     ]
    }
   ],
   "source": [
    "# np.linspace() - returns an ndarray with evenly spaced values over specified interval.\n",
    "\n",
    "# By feault it generates  50  elements which are evenly spaced over specified interval.\n",
    "# np.linspace always gives ONLY 1D array\n",
    "\n",
    "arr = np.linspace(0,10)\n",
    "\n",
    "print(arr)\n",
    "print(arr.dtype , type(arr))"
   ]
  },
  {
   "cell_type": "code",
   "execution_count": 163,
   "id": "8d75057e",
   "metadata": {},
   "outputs": [
    {
     "name": "stdout",
     "output_type": "stream",
     "text": [
      "[ 0.          0.52631579  1.05263158  1.57894737  2.10526316  2.63157895\n",
      "  3.15789474  3.68421053  4.21052632  4.73684211  5.26315789  5.78947368\n",
      "  6.31578947  6.84210526  7.36842105  7.89473684  8.42105263  8.94736842\n",
      "  9.47368421 10.        ]\n",
      "float64 <class 'numpy.ndarray'>\n"
     ]
    }
   ],
   "source": [
    "arr = np.linspace(0,10, 20)\n",
    "\n",
    "print(arr)\n",
    "print(arr.dtype , type(arr))"
   ]
  },
  {
   "cell_type": "code",
   "execution_count": 165,
   "id": "f78a3ece",
   "metadata": {},
   "outputs": [
    {
     "name": "stdout",
     "output_type": "stream",
     "text": [
      "0\n",
      "2\n",
      "4\n",
      "0\n",
      "1\n",
      "0\n",
      "0\n",
      "1\n",
      "2\n",
      "3\n"
     ]
    }
   ],
   "source": [
    "# np.random.rand*\n",
    "\n",
    "# np.random.randint() -- # Return random integers from `low` (inclusive) to `high` (exclusive).\n",
    "# \n",
    "\n",
    "for i in range(10):\n",
    "    print(np.random.randint(6))\n"
   ]
  },
  {
   "cell_type": "code",
   "execution_count": 166,
   "id": "a6a85cea",
   "metadata": {},
   "outputs": [
    {
     "name": "stdout",
     "output_type": "stream",
     "text": [
      "4\n",
      "4\n",
      "4\n",
      "4\n",
      "5\n",
      "2\n",
      "5\n",
      "2\n",
      "2\n",
      "4\n"
     ]
    }
   ],
   "source": [
    "for i in range(10):\n",
    "    print(np.random.randint(2, 6))  # [2,6)  -  all elements will be >= 2 and <6"
   ]
  },
  {
   "cell_type": "code",
   "execution_count": 167,
   "id": "14ddf94a",
   "metadata": {},
   "outputs": [
    {
     "name": "stdout",
     "output_type": "stream",
     "text": [
      "[2 7 2 2 4 3 5 2 7 6]\n",
      "int32 <class 'numpy.ndarray'>\n"
     ]
    }
   ],
   "source": [
    "arr = np.random.randint(2,8, 10)  # [2,8) - returns array having total 10 elments >=2 and < 8 \n",
    "\n",
    "print(arr)\n",
    "print(arr.dtype , type(arr))"
   ]
  },
  {
   "cell_type": "code",
   "execution_count": 168,
   "id": "d726e4cd",
   "metadata": {},
   "outputs": [
    {
     "name": "stdout",
     "output_type": "stream",
     "text": [
      "[[3 6]\n",
      " [6 2]\n",
      " [7 3]\n",
      " [6 6]\n",
      " [3 4]]\n",
      "int32 <class 'numpy.ndarray'>\n"
     ]
    }
   ],
   "source": [
    "arr = np.random.randint(2,8, (5,2))  # [2,8) - returns 2D array of 5 rows  and 2 cols having elments >=2 and < 8 \n",
    "\n",
    "print(arr)\n",
    "print(arr.dtype , type(arr))"
   ]
  },
  {
   "cell_type": "code",
   "execution_count": 171,
   "id": "aa79f31e",
   "metadata": {},
   "outputs": [
    {
     "name": "stdout",
     "output_type": "stream",
     "text": [
      "[0.86704767 0.39395879 0.24919849 0.19505443 0.36747612 0.15683552\n",
      " 0.82175698 0.12581404 0.73393668 0.44985655]\n",
      "\n",
      "[[0.36723307 0.08812562]\n",
      " [0.72729919 0.06211933]\n",
      " [0.30855194 0.45669654]\n",
      " [0.28850735 0.38313477]\n",
      " [0.59397341 0.30157084]]\n"
     ]
    }
   ],
   "source": [
    "# array using np.random.rand()\n",
    "\n",
    "# Create an array of the given shape and populate it with\n",
    "# random samples from a uniform distribution\n",
    "# over ``[0, 1)``.\n",
    "        \n",
    "arr = np.random.rand(10)\n",
    "print(arr)\n",
    "\n",
    "print()\n",
    "        \n",
    "arr = np.random.rand(5,2)\n",
    "print(arr)"
   ]
  },
  {
   "cell_type": "code",
   "execution_count": 173,
   "id": "5b3c2849",
   "metadata": {},
   "outputs": [
    {
     "name": "stdout",
     "output_type": "stream",
     "text": [
      "[[ 0.01935726  0.63921108 -0.74261273]\n",
      " [-0.19129507  2.03043567 -0.02608293]\n",
      " [ 1.20228594 -1.40609537  0.8320994 ]\n",
      " [-1.60478687 -0.23860864  0.41672348]\n",
      " [ 0.3970596  -1.36112155 -0.78634694]]\n",
      "\n",
      "float64 <class 'numpy.ndarray'> (5, 3) 15\n"
     ]
    }
   ],
   "source": [
    "# array using np.random.randn()\n",
    "\n",
    "# Return a sample (or samples) from the \"standard normal\"  (Gaussian) distribution.\n",
    "\n",
    "arr = np.random.randn(5,3)\n",
    "print(arr)\n",
    "print()\n",
    "print(arr.dtype ,  type(arr),  arr.shape , arr.size )"
   ]
  },
  {
   "cell_type": "markdown",
   "id": "ed245c92",
   "metadata": {},
   "source": [
    "# Comparing List vs Array for computational speed "
   ]
  },
  {
   "cell_type": "code",
   "execution_count": 235,
   "id": "cf8366d2",
   "metadata": {},
   "outputs": [],
   "source": [
    "import timeit as tt\n",
    "# Time execution of a Python statement or expression \n",
    "\n",
    "?timeit"
   ]
  },
  {
   "cell_type": "code",
   "execution_count": 178,
   "id": "d45077ef",
   "metadata": {},
   "outputs": [
    {
     "name": "stdout",
     "output_type": "stream",
     "text": [
      "Elapsed time :  0.00344\n"
     ]
    }
   ],
   "source": [
    "\n",
    "py_lst =  [  i for i in range(100000)]\n",
    "start = tt.timeit()\n",
    "\n",
    "py_lst = [i+2  for i in range(100000)]\n",
    "\n",
    "end = tt.timeit()\n",
    "\n",
    "print('Elapsed time : ', round((end - start) , 5))\n",
    "\n"
   ]
  },
  {
   "cell_type": "code",
   "execution_count": 181,
   "id": "3026a849",
   "metadata": {},
   "outputs": [
    {
     "name": "stdout",
     "output_type": "stream",
     "text": [
      "(100000,) 1\n",
      "Elapsed time :  0.00047\n"
     ]
    }
   ],
   "source": [
    "arr =  np.array([ i for i in range(100000)])\n",
    "print(arr.shape, arr.ndim)\n",
    "\n",
    "start = tt.timeit()\n",
    "\n",
    "arr += 2 \n",
    "\n",
    "end = tt.timeit()\n",
    "\n",
    "print('Elapsed time : ', round((end - start) , 5))"
   ]
  },
  {
   "cell_type": "code",
   "execution_count": 183,
   "id": "6f73a5a7",
   "metadata": {},
   "outputs": [
    {
     "name": "stdout",
     "output_type": "stream",
     "text": [
      "[ 0.          0.52631579  1.05263158  1.57894737  2.10526316  2.63157895\n",
      "  3.15789474  3.68421053  4.21052632  4.73684211  5.26315789  5.78947368\n",
      "  6.31578947  6.84210526  7.36842105  7.89473684  8.42105263  8.94736842\n",
      "  9.47368421 10.        ]\n",
      "float64 <class 'numpy.ndarray'> 1\n"
     ]
    }
   ],
   "source": [
    "arr = np.linspace(0,10, 20)\n",
    "\n",
    "print(arr)\n",
    "print(arr.dtype , type(arr), arr.ndim)\n"
   ]
  },
  {
   "cell_type": "code",
   "execution_count": 212,
   "id": "483417dd",
   "metadata": {},
   "outputs": [
    {
     "data": {
      "text/plain": [
       "array([[ 0.        ],\n",
       "       [ 0.52631579],\n",
       "       [ 1.05263158],\n",
       "       [ 1.57894737],\n",
       "       [ 2.10526316],\n",
       "       [ 2.63157895],\n",
       "       [ 3.15789474],\n",
       "       [ 3.68421053],\n",
       "       [ 4.21052632],\n",
       "       [ 4.73684211],\n",
       "       [ 5.26315789],\n",
       "       [ 5.78947368],\n",
       "       [ 6.31578947],\n",
       "       [ 6.84210526],\n",
       "       [ 7.36842105],\n",
       "       [ 7.89473684],\n",
       "       [ 8.42105263],\n",
       "       [ 8.94736842],\n",
       "       [ 9.47368421],\n",
       "       [10.        ]])"
      ]
     },
     "execution_count": 212,
     "metadata": {},
     "output_type": "execute_result"
    }
   ],
   "source": [
    "# Reshape() -  Returns an array containing the same data with a new shape.\n",
    "\n",
    "arr.reshape(5,4)\n",
    "\n",
    "arr.reshape(20,1)"
   ]
  },
  {
   "cell_type": "code",
   "execution_count": 213,
   "id": "b4226d72",
   "metadata": {},
   "outputs": [
    {
     "data": {
      "text/plain": [
       "array([[ 0.        ,  0.52631579,  1.05263158,  1.57894737],\n",
       "       [ 2.10526316,  2.63157895,  3.15789474,  3.68421053],\n",
       "       [ 4.21052632,  4.73684211,  5.26315789,  5.78947368],\n",
       "       [ 6.31578947,  6.84210526,  7.36842105,  7.89473684],\n",
       "       [ 8.42105263,  8.94736842,  9.47368421, 10.        ]])"
      ]
     },
     "execution_count": 213,
     "metadata": {},
     "output_type": "execute_result"
    }
   ],
   "source": [
    "np.reshape(arr, (5,4))"
   ]
  },
  {
   "cell_type": "code",
   "execution_count": 220,
   "id": "ce1bd7ff",
   "metadata": {},
   "outputs": [
    {
     "name": "stdout",
     "output_type": "stream",
     "text": [
      "[ 0.          0.52631579  1.05263158  1.57894737  2.10526316  2.63157895\n",
      "  3.15789474  3.68421053  4.21052632  4.73684211  5.26315789  5.78947368\n",
      "  6.31578947  6.84210526  7.36842105  7.89473684  8.42105263  8.94736842\n",
      "  9.47368421 10.        ]\n",
      "\n",
      "[[[ 0.          0.52631579]\n",
      "  [ 1.05263158  1.57894737]\n",
      "  [ 2.10526316  2.63157895]\n",
      "  [ 3.15789474  3.68421053]\n",
      "  [ 4.21052632  4.73684211]]\n",
      "\n",
      " [[ 5.26315789  5.78947368]\n",
      "  [ 6.31578947  6.84210526]\n",
      "  [ 7.36842105  7.89473684]\n",
      "  [ 8.42105263  8.94736842]\n",
      "  [ 9.47368421 10.        ]]]\n",
      "\n",
      "3 (20,) 20\n"
     ]
    }
   ],
   "source": [
    "# reshape will not do the transformation on original array \n",
    "\n",
    "#  In Case where we are using \"np.arange()\"\" OR \"np.linspace\" which always returns 1D array and our requirement is to have \n",
    "#  hihger dimension of that returned array , there we can make use of np.reshape()\n",
    "\n",
    "print(arr)\n",
    "print() \n",
    "arr1 =  np.reshape(arr , (2,5,2))\n",
    "\n",
    "print(arr1)\n",
    "print()\n",
    "print(arr1.ndim , arr.shape, arr.size)"
   ]
  },
  {
   "cell_type": "code",
   "execution_count": 231,
   "id": "047f0cb2",
   "metadata": {},
   "outputs": [
    {
     "name": "stdout",
     "output_type": "stream",
     "text": [
      "[[0.40352953 0.69330938]\n",
      " [0.16010646 0.80821927]\n",
      " [0.7349278  0.83580993]\n",
      " [0.10997986 0.47061429]\n",
      " [0.61403617 0.24293092]]\n",
      "\n",
      "\n",
      "  After applying  np.ravel() \n",
      "\n",
      "\n",
      "[0.40352953 0.69330938 0.16010646 0.80821927 0.7349278  0.83580993\n",
      " 0.10997986 0.47061429 0.61403617 0.24293092]\n"
     ]
    }
   ],
   "source": [
    "arr = np.random.rand(5,2)\n",
    "\n",
    "# ravel()\n",
    "\n",
    "print(arr)    #  this is 2D array , now with  the help of ravel function -- return a contiguous flattened array.;\n",
    "#  however this does not change the orignal array  \n",
    "\n",
    "print('\\n\\n  After applying  np.ravel() \\n\\n')\n",
    "\n",
    "print(arr.ravel())\n",
    "\n",
    "# Result  is flattened 1D array "
   ]
  },
  {
   "cell_type": "code",
   "execution_count": 251,
   "id": "e1d9f054",
   "metadata": {},
   "outputs": [
    {
     "name": "stdout",
     "output_type": "stream",
     "text": [
      "((45000, 89000), (34000, 43000), (55000, 12000))\n"
     ]
    },
    {
     "data": {
      "text/plain": [
       "[134000, 77000, 67000]"
      ]
     },
     "execution_count": 251,
     "metadata": {},
     "output_type": "execute_result"
    }
   ],
   "source": [
    "# Operations on  array  objects ..\n",
    "\n",
    "bonus = [45000, 34000, 55000]\n",
    "salary = [89000, 43000, 12000]\n",
    "\n",
    "x = zip(bonus , salary)   \n",
    "\n",
    "# A zip object yielding tuples until an input is exhausted. \n",
    "\n",
    "print(tuple(x))\n",
    "\n",
    "[ x+y for x , y in zip(bonus, salary) ]\n"
   ]
  },
  {
   "cell_type": "code",
   "execution_count": 252,
   "id": "f19b9fd2",
   "metadata": {},
   "outputs": [
    {
     "name": "stdout",
     "output_type": "stream",
     "text": [
      "[45000 34000 55000]\n",
      "[45000 34000 55000]\n"
     ]
    },
    {
     "data": {
      "text/plain": [
       "array([134000,  77000,  67000])"
      ]
     },
     "execution_count": 252,
     "metadata": {},
     "output_type": "execute_result"
    }
   ],
   "source": [
    "bonus = [45000, 34000, 55000]\n",
    "salary = [89000, 43000, 12000]\n",
    "\n",
    "print(np.array(bonus))\n",
    "print(np.array(bonus))\n",
    "\n",
    "np.array(bonus) + np.array(salary)\n",
    "\n",
    "# Numpy  array  objects supports vector operations (in above case Element wise addtion )"
   ]
  },
  {
   "cell_type": "code",
   "execution_count": 253,
   "id": "afb334b3",
   "metadata": {},
   "outputs": [
    {
     "name": "stdout",
     "output_type": "stream",
     "text": [
      "[30000, 40000, 60000, 30000, 40000, 60000]\n",
      "[ 60000  80000 120000]\n"
     ]
    }
   ],
   "source": [
    "print(2*[30000, 40000, 60000])\n",
    "print(2*np.array([30000, 40000, 60000]))  # element wise multiplication"
   ]
  },
  {
   "cell_type": "code",
   "execution_count": 254,
   "id": "95e8d647",
   "metadata": {},
   "outputs": [
    {
     "data": {
      "text/plain": [
       "array([[0., 0.],\n",
       "       [0., 0.],\n",
       "       [0., 0.],\n",
       "       [0., 0.],\n",
       "       [0., 0.]])"
      ]
     },
     "execution_count": 254,
     "metadata": {},
     "output_type": "execute_result"
    }
   ],
   "source": [
    "arr -arr"
   ]
  },
  {
   "cell_type": "code",
   "execution_count": 255,
   "id": "1e714ba4",
   "metadata": {},
   "outputs": [
    {
     "data": {
      "text/plain": [
       "array([[1., 1.],\n",
       "       [1., 1.],\n",
       "       [1., 1.],\n",
       "       [1., 1.],\n",
       "       [1., 1.]])"
      ]
     },
     "execution_count": 255,
     "metadata": {},
     "output_type": "execute_result"
    }
   ],
   "source": [
    "arr/arr"
   ]
  },
  {
   "cell_type": "code",
   "execution_count": 256,
   "id": "404ac3a2",
   "metadata": {},
   "outputs": [
    {
     "ename": "ValueError",
     "evalue": "operands could not be broadcast together with shapes (3,) (2,) ",
     "output_type": "error",
     "traceback": [
      "\u001b[1;31m---------------------------------------------------------------------------\u001b[0m",
      "\u001b[1;31mValueError\u001b[0m                                Traceback (most recent call last)",
      "Input \u001b[1;32mIn [256]\u001b[0m, in \u001b[0;36m<cell line: 4>\u001b[1;34m()\u001b[0m\n\u001b[0;32m      1\u001b[0m arr1 \u001b[38;5;241m=\u001b[39m np\u001b[38;5;241m.\u001b[39marray([\u001b[38;5;241m200\u001b[39m,  \u001b[38;5;241m300\u001b[39m, \u001b[38;5;241m400\u001b[39m])\n\u001b[0;32m      2\u001b[0m arr2 \u001b[38;5;241m=\u001b[39m np\u001b[38;5;241m.\u001b[39marray([\u001b[38;5;241m2\u001b[39m,  \u001b[38;5;241m3\u001b[39m ])\n\u001b[1;32m----> 4\u001b[0m \u001b[43marr1\u001b[49m\u001b[43m \u001b[49m\u001b[38;5;241;43m*\u001b[39;49m\u001b[43m \u001b[49m\u001b[43marr2\u001b[49m\n",
      "\u001b[1;31mValueError\u001b[0m: operands could not be broadcast together with shapes (3,) (2,) "
     ]
    }
   ],
   "source": [
    "arr1 = np.array([200,  300, 400])\n",
    "arr2 = np.array([2,  3 ])\n",
    "\n",
    "arr1 * arr2  # valueError: operands could not be broadcast together with shapes (3,) (2,) "
   ]
  },
  {
   "cell_type": "code",
   "execution_count": 257,
   "id": "3b55db9b",
   "metadata": {},
   "outputs": [
    {
     "data": {
      "text/plain": [
       "array([ 400,  900, 1600])"
      ]
     },
     "execution_count": 257,
     "metadata": {},
     "output_type": "execute_result"
    }
   ],
   "source": [
    "arr1 = np.array([200,  300, 400])\n",
    "arr2 = np.array([2,  3 , 4])\n",
    "\n",
    "arr1 *  arr2"
   ]
  },
  {
   "cell_type": "code",
   "execution_count": 267,
   "id": "c50855a9",
   "metadata": {},
   "outputs": [
    {
     "name": "stdout",
     "output_type": "stream",
     "text": [
      "[1 2 3 4 5 6 7 8 9]\n",
      "1\n",
      "5\n",
      "3\n",
      "9\n",
      "1\n",
      "[1 2 3 4]\n",
      "[1 2 3 4 5 6 7 8 9]\n",
      "[9 8]\n",
      "[1 2 3 4]\n",
      "[]\n",
      "[5]\n"
     ]
    }
   ],
   "source": [
    "# Accessing elements of an array  \n",
    "\n",
    "arr = np.arange(1,10)\n",
    "\n",
    "print(arr)\n",
    "\n",
    "print(arr[0])\n",
    "print(arr[4])\n",
    "print(arr[2])\n",
    "print(arr[-1])\n",
    "print(arr[-len(arr)])\n",
    "print(arr[0:4]) # retrun will be array[1 2 3 4]\n",
    "print(arr[:])\n",
    "print(arr[-1:-3:-1])\n",
    "print(arr[:4])\n",
    "print(arr[4:4]) # array[]\n",
    "print(arr[4:5])"
   ]
  },
  {
   "cell_type": "code",
   "execution_count": 280,
   "id": "bcca9a63",
   "metadata": {},
   "outputs": [
    {
     "name": "stdout",
     "output_type": "stream",
     "text": [
      "[[ 0.          0.52631579  1.05263158  1.57894737  2.10526316]\n",
      " [ 2.63157895  3.15789474  3.68421053  4.21052632  4.73684211]\n",
      " [ 5.26315789  5.78947368  6.31578947  6.84210526  7.36842105]\n",
      " [ 7.89473684  8.42105263  8.94736842  9.47368421 10.        ]]\n",
      "0.0\n",
      "0.0\n",
      "5.789473684210526\n",
      "[0.52631579 1.05263158]\n",
      "[0.52631579 1.05263158]\n",
      "[[2.63157895 3.15789474 3.68421053 4.21052632 4.73684211]]\n",
      "[[0.52631579 1.05263158]\n",
      " [3.15789474 3.68421053]]\n"
     ]
    }
   ],
   "source": [
    "arr = np.linspace(0,10, 20).reshape(4,5)\n",
    "\n",
    "print(arr)\n",
    "\n",
    "print(arr[0][0])\n",
    "print(arr[0,0])\n",
    "print(arr[2,1])\n",
    "\n",
    "print(arr[0][1:3])\n",
    "print(arr[0,1:3])\n",
    "\n",
    "print(arr[0:2][1:3]) #  ThiS won't work so use as below (it has range for rows as well as columns )\n",
    "\n",
    "# NOTE : Other than  1D  indexing(chain/list indexing [i][j]) for higher dimesnions we should use Matrix indexing [i,j]\n",
    "\n",
    "print(arr[0:2,1:3]) \n"
   ]
  },
  {
   "cell_type": "code",
   "execution_count": 286,
   "id": "2dd58e4e",
   "metadata": {},
   "outputs": [
    {
     "name": "stdout",
     "output_type": "stream",
     "text": [
      "[[ 0.          0.52631579  1.05263158  1.57894737  2.10526316]\n",
      " [ 2.63157895  3.15789474  3.68421053  4.21052632  4.73684211]\n",
      " [ 5.26315789  5.78947368  6.31578947  6.84210526  7.36842105]\n",
      " [ 7.89473684  8.42105263  8.94736842  9.47368421 10.        ]]\n",
      "\n",
      "[[False False False False False]\n",
      " [False False False  True  True]\n",
      " [ True  True  True  True  True]\n",
      " [ True  True  True  True  True]]\n",
      "\n",
      "[ 4.21052632  4.73684211  5.26315789  5.78947368  6.31578947  6.84210526\n",
      "  7.36842105  7.89473684  8.42105263  8.94736842  9.47368421 10.        ]\n"
     ]
    }
   ],
   "source": [
    "# Comparison Operator \n",
    "\n",
    "print(arr)\n",
    "\n",
    "print()\n",
    "\n",
    "print(arr > 4 )\n",
    "\n",
    "print()\n",
    "\n",
    "\n",
    "print(arr[arr > 4]) # retruns 1D array  "
   ]
  },
  {
   "cell_type": "code",
   "execution_count": 6,
   "id": "fbfca20d",
   "metadata": {},
   "outputs": [
    {
     "name": "stdout",
     "output_type": "stream",
     "text": [
      "**** np.where() ****\n",
      "[[ 1  2  3  4  5]\n",
      " [ 6  7  8  9 10]]\n",
      "\n",
      "[[ 0  0  0  0  5]\n",
      " [ 6  7  8  9 10]]\n",
      "\n",
      "**** np.max() ****\n",
      "10\n",
      "\n",
      "[ 6  7  8  9 10]\n",
      "\n",
      "[ 5 10]\n",
      "\n",
      "**** np.argmax() ****\n",
      "9\n",
      "\n",
      "**** np.min() ****\n",
      "1\n",
      "[1 2 3 4 5]\n",
      "[1 6]\n",
      "\n",
      "**** np.sort() ****\n",
      "[4 6 7 9]\n",
      "\n",
      "**** np.shape() ****\n",
      "(2, 5)\n",
      "\n",
      "**** np.corrcoef() ****\n",
      "[[11 12 13 14 15]\n",
      " [16 17 18 19 20]]\n",
      "\n",
      "[[1. 1. 1. 1.]\n",
      " [1. 1. 1. 1.]\n",
      " [1. 1. 1. 1.]\n",
      " [1. 1. 1. 1.]]\n",
      "\n",
      "**** np.all() ****\n",
      "True\n",
      "\n",
      "[[0 1 2]\n",
      " [2 3 1]]\n",
      "\n",
      "False\n",
      "[False  True  True]\n",
      "[False  True]\n",
      "[[1 1 2]\n",
      " [2 3 1]]\n",
      "\n",
      "True\n",
      "\n",
      "**** np.any() ****\n",
      "[[ 1  2  3  4  5]\n",
      " [ 6  7  8  9 10]]\n",
      "True\n",
      "[[ 0  0  0  0  0]\n",
      " [ 6  7  8  9 10]]\n",
      "True\n",
      "\n",
      "**** np.mean() ****\n",
      "[[ 1  2  3  4  5]\n",
      " [ 6  7  8  9 10]]\n",
      "5.5\n",
      "\n",
      "[3.5 4.5 5.5 6.5 7.5]\n",
      "\n",
      "[3. 8.]\n"
     ]
    }
   ],
   "source": [
    "# in-built methods  \n",
    "\n",
    "# print(dir(np))\n",
    "arr =  np.arange(1,11).reshape(2,5)\n",
    "\n",
    "# np.where(condition , [x,y])   \n",
    "# Returns an array with elements from `x` where `condition` is True, and elements\n",
    "# from `y` elsewhere.\n",
    "\n",
    "print(\"**** np.where() ****\")\n",
    "print(arr)\n",
    "print()\n",
    "print(np.where(arr > 4 , arr ,  0) ) \n",
    "\n",
    "# here wherever the elements satisfies the condition those are filtered \n",
    "#  and rest which do not satisfy will have value as  0 \n",
    "\n",
    "print()\n",
    "\n",
    "# np.max()\n",
    "# Returns the indices of the maximum values along an axis. \n",
    "\n",
    "print(\"**** np.max() ****\")\n",
    "print(np.max(arr))  \n",
    "print()\n",
    "\n",
    "print(np.max(arr , axis = 0 ))  \n",
    "print()\n",
    "\n",
    "print(np.max(arr , axis = 1))\n",
    "\n",
    "# np.argmax()\n",
    "# Returns the indices of the maximum values along an axis.\n",
    "print()\n",
    "print(\"**** np.argmax() ****\")\n",
    "print(np.argmax(arr))\n",
    "\n",
    "# np.min()\n",
    "# Return the minimum of an array or minimum along an axis.\n",
    "\n",
    "print()\n",
    "print(\"**** np.min() ****\")\n",
    "print(np.min(arr))\n",
    "print(np.min(arr, axis = 0))\n",
    "print(np.min(arr, axis = 1))\n",
    "\n",
    "#  np.sort(a ,) \n",
    "#  Returns a sorted copy of an array.\n",
    "#  a : array_like\n",
    "#      Array to be sorted.\n",
    "\n",
    "print()\n",
    "print(\"**** np.sort() ****\")\n",
    "print(np.sort([4,9,7,6]))\n",
    "\n",
    "# np.shape()\n",
    "\n",
    "# Return the shape of an array.\n",
    "# return type is a tuple of int \n",
    "print()\n",
    "print(\"**** np.shape() ****\")\n",
    "print(np.shape(arr))\n",
    "\n",
    "# np.corrcoef() \n",
    "# The correlation coefficient matrix of the variables.\n",
    "# A correlation is a relationship between two random variables basically with respect to statistics.\n",
    "# A correlation coefficient is a statistical measure of the change in one variable defined by another variable.\n",
    "\n",
    "print()\n",
    "print(\"**** np.corrcoef() ****\")\n",
    "arr1 = np.arange(11,21).reshape(2,5)\n",
    "print(arr1)\n",
    "print()\n",
    "print(np.corrcoef(arr, arr1))\n",
    "\n",
    "# np.all()\n",
    "# Test whether all array elements along a given axis evaluate to True.\n",
    "# If all elements are non zero  then  np.all() returns True.\n",
    "\n",
    "print()\n",
    "print(\"**** np.all() ****\")\n",
    "print(np.all(arr))\n",
    "\n",
    "print()\n",
    "\n",
    "a = np.array([ [0,1,2], [2,3,1] ])\n",
    "print(a)\n",
    "print()\n",
    "print(np.all(a))\n",
    "print(np.all(a, axis = 0))\n",
    "print(np.all(a, axis = 1))\n",
    "\n",
    "a1 = np.array([ [1,1,2], [2,3,1] ])\n",
    "print(a1)\n",
    "print()\n",
    "print(np.all(a1))\n",
    "\n",
    "\n",
    "# np.any()\n",
    "# Test whether any array element along a given axis evaluates to True.\n",
    "# If any of the elements is non zero it will return True.\n",
    "\n",
    "print()\n",
    "print(\"**** np.any() ****\")\n",
    "print(arr)\n",
    "print(np.any(arr))\n",
    "\n",
    "arr[0,:] = 0\n",
    "print(arr)\n",
    "print(np.any(arr))\n",
    "\n",
    "\n",
    "\n",
    "arr =  np.arange(1,11).reshape(2,5)\n",
    "# np.mean()\n",
    "# Compute the arithmetic mean along the specified axis.\n",
    " \n",
    "    \n",
    "print()\n",
    "print(\"**** np.mean() ****\")\n",
    "print(arr)\n",
    "print(np.mean(arr))\n",
    "print()\n",
    "print(np.mean(arr,  axis = 0)) # axis = 0  column wise \n",
    "print()\n",
    "print(np.mean(arr, axis =1))  # axis = 0  row wise \n",
    "\n",
    "# np.std()\n",
    "\n",
    "# np.log()"
   ]
  }
 ],
 "metadata": {
  "kernelspec": {
   "display_name": "Python 3 (ipykernel)",
   "language": "python",
   "name": "python3"
  },
  "language_info": {
   "codemirror_mode": {
    "name": "ipython",
    "version": 3
   },
   "file_extension": ".py",
   "mimetype": "text/x-python",
   "name": "python",
   "nbconvert_exporter": "python",
   "pygments_lexer": "ipython3",
   "version": "3.9.12"
  }
 },
 "nbformat": 4,
 "nbformat_minor": 5
}

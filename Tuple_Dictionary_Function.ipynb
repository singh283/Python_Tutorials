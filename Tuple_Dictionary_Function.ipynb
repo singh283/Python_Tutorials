{
 "cells": [
  {
   "cell_type": "code",
   "execution_count": 2,
   "id": "0ce70efe",
   "metadata": {},
   "outputs": [
    {
     "name": "stdout",
     "output_type": "stream",
     "text": [
      "1\n",
      "10\n",
      "20\n",
      "2\n",
      "10\n"
     ]
    }
   ],
   "source": [
    "# x = [1,2]\n",
    "# y = [10, 100]\n",
    "\n",
    "# for i in x:\n",
    "#     for j in y:\n",
    "#         if i % 2 == 0:\n",
    "#             print(i*j)\n",
    "#         print(i)\n",
    "#         break\n",
    "#     print(j)"
   ]
  },
  {
   "cell_type": "code",
   "execution_count": null,
   "id": "b356aced",
   "metadata": {},
   "outputs": [],
   "source": [
    "# Tuple - uses small brackets ()\n",
    "# Tuple is a collection of  heterogeneous elements \n",
    "# elements are seperated by comma\n",
    "# Tuple is immutable \n",
    "# Tuple is  a seq \n",
    "     # Indexing , slicing , concatenation , Repetition \n",
    "     # supports  -ve and +ve indexing \n",
    "\n",
    "# Tuple can have DUPLICATE elements "
   ]
  },
  {
   "cell_type": "code",
   "execution_count": 18,
   "id": "0ebfee8b",
   "metadata": {},
   "outputs": [
    {
     "name": "stdout",
     "output_type": "stream",
     "text": [
      "enter the tuple:  'Python' , \n",
      "('Python',) <class 'tuple'>\n"
     ]
    }
   ],
   "source": [
    "#  Different ways of creating a Tuple \n",
    "\n",
    "# tpl = (10 , 10.20 , 10 + 20j , 'Python' , True , None , [1,2,3] , (1,2,3))\n",
    "# print(tpl , type(tpl))\n",
    "\n",
    "# tpl = 10 , 10.20 , 10 + 20j , 'Python' , True , None , [1,2,3] , (1,2,3)\n",
    "# print(tpl , type(tpl))\n",
    "\n",
    "# creating  a tuple with single element \n",
    "# tpl = 10 ,\n",
    "# print(tpl , type(tpl))\n",
    "\n",
    "# creating  a tuple using tuple() - tuple function takes only 1 arg\n",
    "\n",
    "# tpl = tuple('Python')\n",
    "# print(tpl , type(tpl))  #  passing  a string to tuple function returns tuple with each element in the string as individual \n",
    "                        #  element of the tuple , same as in case of list   \n",
    "\n",
    "# tpl = tuple((10, 20 ,30 , 40))  #  passing tuple inside a tuple()\n",
    "# print(tpl , type(tpl))\n",
    "\n",
    "# tpl = tuple([10, 20 ,30 , 40]) #  passing list inside a tuple()\n",
    "# print(tpl , type(tpl))\n",
    "\n",
    "# tpl = tuple({1:100 , 2:200 , 3:300 , 4:400})  #  passing dict inside a tuple()\n",
    "# print(tpl , type(tpl))\n",
    "\n",
    "#  taking tuple as input from user \n",
    "\n",
    "# user_input =  eval(input('enter the tuple:  '))\n",
    "# print(user_input , type(user_input))"
   ]
  },
  {
   "cell_type": "code",
   "execution_count": 19,
   "id": "f012d279",
   "metadata": {},
   "outputs": [
    {
     "ename": "TypeError",
     "evalue": "'tuple' object does not support item assignment",
     "output_type": "error",
     "traceback": [
      "\u001b[1;31m---------------------------------------------------------------------------\u001b[0m",
      "\u001b[1;31mTypeError\u001b[0m                                 Traceback (most recent call last)",
      "Input \u001b[1;32mIn [19]\u001b[0m, in \u001b[0;36m<cell line: 6>\u001b[1;34m()\u001b[0m\n\u001b[0;32m      1\u001b[0m \u001b[38;5;66;03m#  Immutability of Tuple \u001b[39;00m\n\u001b[0;32m      2\u001b[0m \n\u001b[0;32m      3\u001b[0m \u001b[38;5;66;03m# 1. Item assignment is not possible \u001b[39;00m\n\u001b[0;32m      4\u001b[0m \n\u001b[0;32m      5\u001b[0m \u001b[38;5;66;03m# tpl = (10 , 10.20 , 10 + 20j , 'Python' , True , None , [1,2,3] , (1,2,3))\u001b[39;00m\n\u001b[1;32m----> 6\u001b[0m tpl[\u001b[38;5;241m2\u001b[39m] \u001b[38;5;241m=\u001b[39m \u001b[38;5;124m'\u001b[39m\u001b[38;5;124mamit\u001b[39m\u001b[38;5;124m'\u001b[39m\n",
      "\u001b[1;31mTypeError\u001b[0m: 'tuple' object does not support item assignment"
     ]
    }
   ],
   "source": [
    "#  Immutability of Tuple \n",
    "\n",
    "# 1. Item assignment is not possible \n",
    "# 2. changes will not be done in same object \n",
    "\n",
    "# tpl = (10 , 10.20 , 10 + 20j , 'Python' , True , None , [1,2,3] , (1,2,3))\n",
    "# tpl[2] = 'amit'"
   ]
  },
  {
   "cell_type": "code",
   "execution_count": 21,
   "id": "05bcd2c7",
   "metadata": {},
   "outputs": [
    {
     "name": "stdout",
     "output_type": "stream",
     "text": [
      "('amit', 'IT') <class 'tuple'>\n"
     ]
    }
   ],
   "source": [
    "# Tuple Packing - Assigning multiple values to a single variable \n",
    "\n",
    "# a = 10,20,30,40,50\n",
    "# print(a , type(a))\n",
    "\n",
    "\n",
    "# emp_name = 'amit'\n",
    "# emp_dept = 'IT'\n",
    "\n",
    "# emp_details = emp_name , emp_dept\n",
    "# print(emp_details , type(emp_details))\n",
    "\n"
   ]
  },
  {
   "cell_type": "code",
   "execution_count": 22,
   "id": "6052669c",
   "metadata": {},
   "outputs": [
    {
     "name": "stdout",
     "output_type": "stream",
     "text": [
      "amit\n",
      "IT\n"
     ]
    }
   ],
   "source": [
    "# Tuple Unpacking \n",
    "# No of elements inside the tuple and the no of variables should MATCH\n",
    "\n",
    "# e_name , e_dept =  emp_details \n",
    "# print(e_name)\n",
    "# print(e_dept)"
   ]
  },
  {
   "cell_type": "code",
   "execution_count": 26,
   "id": "3a2ebb25",
   "metadata": {},
   "outputs": [
    {
     "name": "stdout",
     "output_type": "stream",
     "text": [
      "10\n",
      "20\n",
      "30\n",
      "40\n",
      "50\n"
     ]
    }
   ],
   "source": [
    "# List Unpacking\n",
    "\n",
    "# lst = [10,20,30,40,50]\n",
    "# a , b, c, d, e = lst\n",
    "# print(a)\n",
    "# print(b)\n",
    "# print(c)\n",
    "# print(d)\n",
    "# print(e)\n",
    "\n",
    "# Unpacking can be applied to any sequence "
   ]
  },
  {
   "cell_type": "code",
   "execution_count": 32,
   "id": "41d4aa19",
   "metadata": {},
   "outputs": [
    {
     "name": "stdout",
     "output_type": "stream",
     "text": [
      "2\n",
      "3\n"
     ]
    }
   ],
   "source": [
    "# Tuple Methods \n",
    "# print(dir(tpl))\n",
    "\n",
    "# count , index \n",
    "\n",
    "# tpl = (10, 20, 34, 50, 56 , 60, 100, 302 , 99, 33, 44, 55, 20)\n",
    "# print(tpl.count(20))\n",
    "\n",
    "# print(tpl.index(50))\n",
    "\n"
   ]
  },
  {
   "cell_type": "code",
   "execution_count": 47,
   "id": "0e210841",
   "metadata": {},
   "outputs": [
    {
     "name": "stdout",
     "output_type": "stream",
     "text": [
      "(10, 20, 30, 40, 111)\n",
      "[10, 20, 30, 40, 111, 222] <class 'list'>\n",
      "(10, 20, 30, 40, 111, 222)\n"
     ]
    }
   ],
   "source": [
    "#  Concatenating tuple to a tuple \n",
    "\n",
    "# tpl =  10,20,30, 40\n",
    "# tpl +=  111,\n",
    "\n",
    "# print(tpl)\n",
    "\n",
    "# Specifically Tuple only has 2  methods , but if we want to perform any operation on Tuple we can convert the tuple to LIST\n",
    "# and after doing the operation again convert the list back to TUPLE.\n",
    "\n",
    "# lst =  list(tpl)\n",
    "# lst.append(222)\n",
    "# print(lst ,type(lst))\n",
    "\n",
    "# tpl = tuple(lst)\n",
    "# print(tpl)"
   ]
  },
  {
   "cell_type": "code",
   "execution_count": 54,
   "id": "b1340e50",
   "metadata": {},
   "outputs": [
    {
     "name": "stdout",
     "output_type": "stream",
     "text": [
      "{'emp_name': 'amit', 'emp_dept': 'IT', 'emp_address': 'bangalore'} <class 'dict'>\n",
      "amit\n",
      "emp_name\n",
      "emp_dept\n",
      "emp_address\n"
     ]
    }
   ],
   "source": [
    "# Dictionary - data structure to store Structured data ,\n",
    "# It is a collection of key:value pair , elements are seperated by comma\n",
    "# It is not a sequence like STRING , TUPLE  , LIST , so cannot perform Indexing , Slicing , concatenation , Repetition\n",
    "\n",
    "# Can access the values using Keys \n",
    "# Dictionary is mutabale \n",
    "# key should be immutable and value should be mutable .\n",
    "\n",
    "# emp_name = 'amit'\n",
    "# emp_dept = 'IT'\n",
    "# emp_address = 'bangalore'\n",
    "\n",
    "\n",
    "# emp_dict =  {'emp_name':'amit', 'emp_dept':'IT' , 'emp_address':'bangalore'}\n",
    "# print(emp_dict, type(emp_dict))\n",
    "# print(emp_dict['emp_name'])\n",
    "\n",
    "# for i in emp_dict:\n",
    "#     print(i)\n",
    "    "
   ]
  },
  {
   "cell_type": "code",
   "execution_count": 59,
   "id": "cb2e139e",
   "metadata": {},
   "outputs": [
    {
     "name": "stdout",
     "output_type": "stream",
     "text": [
      "{1: None, 2: 200, (20+30j): 900, (1, 2, 3): [100, 101, 100], 'P': 'Python,'}\n"
     ]
    }
   ],
   "source": [
    "# Dictionary is mutabale \n",
    "# key should be immutable and value should be mutable .\n",
    "\n",
    "# d = {1:100, 2:200 , [1,2,3]:(1,2,3) }\n",
    "# print(d)\n",
    "\n",
    "# above statement will give ValueError because here key is mutuable (list is used as key)\n",
    "\n",
    "# d = {1:100, 2:200 , [1,2,3]:(1,2,3) }\n",
    "# print(d)\n",
    "\n",
    "# keys cannot be duplicated in dictionary \n",
    "\n",
    "# d = {1:100, 2:200 , 20+30j:900 ,  True:None ,  (1,2,3):[100,101,100] , 'P':'Python'}\n",
    "# print(d)\n",
    "\n",
    "#  Above we can find that in the output dict  1 is having value as None because keys 1 and True are same and the later\n",
    "# value replaces the previous value ."
   ]
  },
  {
   "cell_type": "code",
   "execution_count": 55,
   "id": "52df1247",
   "metadata": {},
   "outputs": [
    {
     "name": "stdout",
     "output_type": "stream",
     "text": [
      "['__class__', '__class_getitem__', '__contains__', '__delattr__', '__delitem__', '__dir__', '__doc__', '__eq__', '__format__', '__ge__', '__getattribute__', '__getitem__', '__gt__', '__hash__', '__init__', '__init_subclass__', '__ior__', '__iter__', '__le__', '__len__', '__lt__', '__ne__', '__new__', '__or__', '__reduce__', '__reduce_ex__', '__repr__', '__reversed__', '__ror__', '__setattr__', '__setitem__', '__sizeof__', '__str__', '__subclasshook__', 'clear', 'copy', 'fromkeys', 'get', 'items', 'keys', 'pop', 'popitem', 'setdefault', 'update', 'values']\n"
     ]
    }
   ],
   "source": [
    "print(dir(dict))"
   ]
  },
  {
   "cell_type": "code",
   "execution_count": 71,
   "id": "4800713c",
   "metadata": {},
   "outputs": [
    {
     "data": {
      "text/plain": [
       "['P', 'h', 'n', 'o', 't', 'y']"
      ]
     },
     "execution_count": 71,
     "metadata": {},
     "output_type": "execute_result"
    }
   ],
   "source": [
    "# Few built-in Functions :\n",
    "\n",
    "#  zip(iter_1, iter_2, iter_3 ..... iter_n)\n",
    "# It returns a iterable object  \n",
    "\n",
    "# lst1= list(zip('Python' , [10,20,30,40,50,60] , (100,101,102,103,104,105)))\n",
    "# print(lst1)\n",
    "\n",
    "# In case the iterables have unequal no of elements then the zip will result in the no of tuples equal  to \n",
    "# no of elements in the iterable which has lowest no of elements\n",
    "\n",
    "# lst1 = list(zip('Python' , [10,20,30,40,50] , (100,101,102,103)))\n",
    "# print(lst1)\n",
    "\n",
    "\n",
    "# enumerate(iterable) - creates a list of tuples each having 2 elements \n",
    "#                              (one is the index and other is the value at that index)\n",
    "# It returns a iterable object  \n",
    "\n",
    "# list(enumerate('Python'))\n",
    "\n",
    "# reversed(iterbale) - returns a iterable object \n",
    "\n",
    "# print(list(reversed('Python')))\n",
    "# print(list(reversed(['Python', 'CLass'])))\n",
    "\n",
    "# sorted(iterable) - It returns a list where each  element of the iterable is in sorted order \n",
    "\n",
    "# sorted('Python')\n"
   ]
  },
  {
   "cell_type": "code",
   "execution_count": 80,
   "id": "cecc5f28",
   "metadata": {},
   "outputs": [
    {
     "data": {
      "text/plain": [
       "{'P': 0, 'y': 1, 't': 2, 'h': 3, 'o': 4, 'n': 5}"
      ]
     },
     "execution_count": 80,
     "metadata": {},
     "output_type": "execute_result"
    }
   ],
   "source": [
    "# Creating a dictionary \n",
    "\n",
    "# d = eval(input('enter the dictionary: '))\n",
    "# print(d)\n",
    "\n",
    "# Using dict() \n",
    "\n",
    "# d =  dict(enumerate('Python'))\n",
    "# print(d , type(d))\n",
    "\n",
    "# dict([ele[::-1] for ele in enumerate('Python')])\n",
    "\n",
    "\n",
    "# d = dict([(1,100), (2,200), (3,300), (4,400)]) - passing list of tuples inside dict()\n",
    "# print(d , type(d))\n",
    "\n"
   ]
  },
  {
   "cell_type": "code",
   "execution_count": 105,
   "id": "61e8d882",
   "metadata": {},
   "outputs": [
    {
     "name": "stdout",
     "output_type": "stream",
     "text": [
      "{'emp_name': 'Amit', 'emp_dept': 'IT', 'emp_loc': 'Delhi', 'emp_skill': 'Python', 'emp_city': None, 'emp_pin': '560006'} 1654856317248\n"
     ]
    }
   ],
   "source": [
    "# Updating the dict\n",
    "\n",
    "# emp_lst = 'Amit', 'IT' , 'Bangalore'\n",
    "# emp_key = ['emp_name' , 'emp_dept' , 'emp_loc']\n",
    "\n",
    "# emp_det = dict(zip(emp_key , emp_lst))\n",
    "# print(emp_det, id(emp_det))\n",
    "# emp_det['emp_loc'] = 'Delhi'\n",
    "# print(emp_det , id(emp_det) )\n",
    "\n",
    "# emp_det['emp_skill'] = 'Python'\n",
    "# print(emp_det , id(emp_det) )\n",
    "\n",
    "# # Accessing elements  from  dict \n",
    "\n",
    "# print(emp_det['emp_name'], emp_det['emp_skill'] , sep ='\\n')\n",
    "\n",
    "# emp_det['emp_dob'] # this will give KeyError\n",
    "\n"
   ]
  },
  {
   "cell_type": "code",
   "execution_count": null,
   "id": "5e484983",
   "metadata": {},
   "outputs": [],
   "source": [
    "# print(dir(dict))\n",
    "\n",
    "# dict methods: \n",
    "\n",
    "# 'clear', 'copy', 'fromkeys', 'get', 'items', 'keys', 'pop', 'popitem', 'setdefault', 'update', 'values'"
   ]
  },
  {
   "cell_type": "code",
   "execution_count": 101,
   "id": "eb1e6563",
   "metadata": {},
   "outputs": [
    {
     "name": "stdout",
     "output_type": "stream",
     "text": [
      "{'emp_name': 'Amit', 'emp_dept': 'IT', 'emp_loc': 'Delhi', 'emp_skill': 'Python'}\n",
      "Python\n",
      "None\n",
      "key does not exists\n",
      "{'emp_name': 'Amit', 'emp_dept': 'IT', 'emp_loc': 'Delhi', 'emp_skill': 'Python'}\n"
     ]
    }
   ],
   "source": [
    "# get(key) - it returns the associated value if the key is present else it returns None if key is not present\n",
    "# get(key,value) - it returns the associated value if the key is present else it returns the value if key is not present\n",
    "\n",
    "# print(emp_det)\n",
    "# print(emp_det.get('emp_skill'))\n",
    "# print(emp_det.get('emp_city'))\n",
    "# print(emp_det.get('emp_city', 'key does not exists'))\n",
    "\n",
    "# print(emp_det)"
   ]
  },
  {
   "cell_type": "code",
   "execution_count": 104,
   "id": "2e62b4f8",
   "metadata": {},
   "outputs": [
    {
     "name": "stdout",
     "output_type": "stream",
     "text": [
      "{'emp_name': 'Amit', 'emp_dept': 'IT', 'emp_loc': 'Delhi', 'emp_skill': 'Python', 'emp_city': None, 'emp_pin': '560006'}\n",
      "Python\n",
      "None\n",
      "560006\n",
      "{'emp_name': 'Amit', 'emp_dept': 'IT', 'emp_loc': 'Delhi', 'emp_skill': 'Python', 'emp_city': None, 'emp_pin': '560006'}\n"
     ]
    }
   ],
   "source": [
    "# setdefault(key) - it returns the associated value if the key is present else it returns None if key is not present\n",
    "      # and updates the dictionary with  key:None \n",
    "# setdefault(key,value) - it returns the associated value if the key is present else it returns the value if key is not present\n",
    "    # and updates the dictionary with  key:Value \n",
    "    \n",
    "    \n",
    "# print(emp_det)\n",
    "# print(emp_det.setdefault('emp_skill'))\n",
    "# print(emp_det.setdefault('emp_city'))\n",
    "# print(emp_det.setdefault('emp_pin', '560006'))\n",
    "\n",
    "# print(emp_det)"
   ]
  },
  {
   "cell_type": "code",
   "execution_count": 106,
   "id": "a465da41",
   "metadata": {},
   "outputs": [
    {
     "name": "stdout",
     "output_type": "stream",
     "text": [
      "[10, 20, 30, 40] 1654856448128\n",
      "(10, 20, 30, 40) 1654856481824\n",
      "(10, 20, 30, 40) 1654856481824\n"
     ]
    }
   ],
   "source": [
    "# lst = [10,20,30,40]\n",
    "# print(lst , id(lst))\n",
    "# tpl = (10,20,30,40)\n",
    "# print(tpl , id(tpl))\n",
    "\n",
    "# lst = tpl  \n",
    "# print(lst , id(lst))"
   ]
  },
  {
   "cell_type": "code",
   "execution_count": 107,
   "id": "e228a933",
   "metadata": {},
   "outputs": [
    {
     "name": "stdout",
     "output_type": "stream",
     "text": [
      "[10, 20, 30, 40] 1654850661760\n",
      "(10, 20, 30, 40) 1654856481184\n",
      "[10, 20, 30, 40] 1654850661760\n"
     ]
    }
   ],
   "source": [
    "# lst = [10,20,30,40]\n",
    "# print(lst , id(lst))\n",
    "# tpl = (10,20,30,40)\n",
    "# print(tpl , id(tpl))\n",
    "\n",
    "# tpl = lst \n",
    "# print(lst , id(lst))"
   ]
  },
  {
   "cell_type": "code",
   "execution_count": 110,
   "id": "5e0222b2",
   "metadata": {},
   "outputs": [
    {
     "name": "stdout",
     "output_type": "stream",
     "text": [
      "{'emp_name': 'Amit', 'emp_dept': 'IT', 'emp_loc': 'Bangalore'} <class 'dict'> 1654812612400\n",
      "{'emp_name': 'Amit', 'emp_dept': 'IT', 'emp_loc': 'Bangalore', 'emp_state': 'karnataka', 'emp_pin': '560076'} <class 'dict'> 1654812612400\n"
     ]
    }
   ],
   "source": [
    "# update  - similar to extend method of list \n",
    "\n",
    "# emp_lst = 'Amit', 'IT' , 'Bangalore'\n",
    "# emp_key = ['emp_name' , 'emp_dept' , 'emp_loc']\n",
    "\n",
    "# emp_det = dict(zip(emp_key , emp_lst))\n",
    "\n",
    "# print(emp_det , type(emp_det), id(emp_dept))\n",
    "\n",
    "# emp_info = {'emp_state':'karnataka', 'emp_pin':'560076'}\n",
    "\n",
    "# emp_det.update(emp_info)\n",
    "\n",
    "# print(emp_det , type(emp_det), id(emp_dept))"
   ]
  },
  {
   "cell_type": "code",
   "execution_count": 113,
   "id": "2c4f8dce",
   "metadata": {},
   "outputs": [
    {
     "name": "stdout",
     "output_type": "stream",
     "text": [
      "{'P': None, 'y': None, 't': None, 'h': None, 'o': None, 'n': None}\n",
      "{'P': 10, 'y': 10, 't': 10, 'h': 10, 'o': 10, 'n': 10}\n"
     ]
    }
   ],
   "source": [
    "# fromkeys(iterable , default =None)\n",
    "# Creates a dictionary where elements of iterable will be the key and default is set as value for each key \n",
    "\n",
    "# d = {}\n",
    "# d = d.fromkeys('Python')\n",
    "# print(d)\n",
    "\n",
    "# d = d.fromkeys('Python', 10)\n",
    "# print(d)"
   ]
  },
  {
   "cell_type": "code",
   "execution_count": 120,
   "id": "e8cccc25",
   "metadata": {},
   "outputs": [
    {
     "name": "stdout",
     "output_type": "stream",
     "text": [
      "{'emp_name': 'Amit', 'emp_dept': 'IT', 'emp_loc': 'Bangalore', 'emp_pin': '560076'}\n",
      "{'emp_name': 'Amit', 'emp_dept': 'IT', 'emp_loc': 'Bangalore', 'emp_pin': '560076'}\n"
     ]
    },
    {
     "data": {
      "text/plain": [
       "'key does not exist'"
      ]
     },
     "execution_count": 120,
     "metadata": {},
     "output_type": "execute_result"
    }
   ],
   "source": [
    "# pop ,  popitem\n",
    "\n",
    "# pop(k) - If key is available it removes the key value pair from the dictionary else if key not present then gives key error\n",
    "# pop(k,v) - If the key is available it removes the key value pair from the dictionary else it gives v as output\n",
    "\n",
    "# print(emp_det)\n",
    "# emp_det.pop('emp_state') \n",
    "\n",
    "# print(emp_det)\n",
    "\n",
    "# emp_det.pop('emp_state', 'key does not exist') "
   ]
  },
  {
   "cell_type": "code",
   "execution_count": 121,
   "id": "1ca5fb15",
   "metadata": {},
   "outputs": [
    {
     "name": "stdout",
     "output_type": "stream",
     "text": [
      "{'emp_name': 'Amit', 'emp_dept': 'IT', 'emp_loc': 'Bangalore'}\n"
     ]
    }
   ],
   "source": [
    "# popitem() -  removes the last entry from the dict\n",
    "# emp_det.popitem()\n",
    "# print(emp_det)\n"
   ]
  },
  {
   "cell_type": "code",
   "execution_count": 131,
   "id": "c6659a57",
   "metadata": {},
   "outputs": [
    {
     "name": "stdout",
     "output_type": "stream",
     "text": [
      "{'emp_name': 'Amit', 'emp_dept': 'IT', 'emp_loc': 'Bangalore'}\n",
      "dict_keys(['emp_name', 'emp_dept', 'emp_loc'])\n",
      "['emp_name', 'emp_dept', 'emp_loc']\n",
      "['Amit', 'IT', 'Bangalore']\n",
      "[('emp_name', 'Amit'), ('emp_dept', 'IT'), ('emp_loc', 'Bangalore')]\n"
     ]
    }
   ],
   "source": [
    "# items, keys, values \n",
    "\n",
    "# print(emp_det)\n",
    "\n",
    "# print(emp_det.keys())\n",
    "\n",
    "# print(list(emp_det.keys()))\n",
    "\n",
    "# print(list(emp_det.values()))\n",
    "\n",
    "# print(list(emp_det.items()))\n"
   ]
  },
  {
   "cell_type": "code",
   "execution_count": 134,
   "id": "95fb99fb",
   "metadata": {},
   "outputs": [
    {
     "data": {
      "text/plain": [
       "{}"
      ]
     },
     "execution_count": 134,
     "metadata": {},
     "output_type": "execute_result"
    }
   ],
   "source": [
    "# clear - removes all the elements from dict \n",
    "\n",
    "# emp_det.clear()\n",
    "\n",
    "# emp_det"
   ]
  },
  {
   "cell_type": "code",
   "execution_count": 18,
   "id": "f34be99a",
   "metadata": {},
   "outputs": [
    {
     "name": "stdout",
     "output_type": "stream",
     "text": [
      "{'aksingh283@': 'gmail', 'ashish_kumar@': 'gmail', 'ravi@': 'hotmail', 'sid@': 'redifmail'}\n",
      "{'aksingh283@': 'gmail', 'ashish_kumar@': 'gmail', 'ravi@': 'hotmail', 'sid@': 'redifmail'}\n"
     ]
    }
   ],
   "source": [
    "# Dictionary Comprehension \n",
    "\n",
    "# {key:value for ele in iterable}\n",
    "\n",
    "# email_lst = ['aksingh283@gmail.com' , 'ashish_kumar@gmail.com',  'ravi@hotmail.com',  'sid@redifmail.com']\n",
    "\n",
    "# d = {i[:i.index('@')+1]:i[i.index('@')+1:i.index('.')] for i in email_lst }\n",
    "\n",
    "# print(d)\n",
    "\n",
    "\n",
    "# d1 = {email_lst[ele][:email_lst[ele].index('@')+1]: email_lst[ele][email_lst[ele].index('@')+1:email_lst[ele].index('.')] for ele in range(4) }\n",
    "\n",
    "# print(d1)"
   ]
  },
  {
   "cell_type": "code",
   "execution_count": 1,
   "id": "b82e6523",
   "metadata": {},
   "outputs": [
    {
     "name": "stdout",
     "output_type": "stream",
     "text": [
      "['__add__', '__class__', '__contains__', '__delattr__', '__dir__', '__doc__', '__eq__', '__format__', '__ge__', '__getattribute__', '__getitem__', '__getnewargs__', '__gt__', '__hash__', '__init__', '__init_subclass__', '__iter__', '__le__', '__len__', '__lt__', '__mod__', '__mul__', '__ne__', '__new__', '__reduce__', '__reduce_ex__', '__repr__', '__rmod__', '__rmul__', '__setattr__', '__sizeof__', '__str__', '__subclasshook__', 'capitalize', 'casefold', 'center', 'count', 'encode', 'endswith', 'expandtabs', 'find', 'format', 'format_map', 'index', 'isalnum', 'isalpha', 'isascii', 'isdecimal', 'isdigit', 'isidentifier', 'islower', 'isnumeric', 'isprintable', 'isspace', 'istitle', 'isupper', 'join', 'ljust', 'lower', 'lstrip', 'maketrans', 'partition', 'removeprefix', 'removesuffix', 'replace', 'rfind', 'rindex', 'rjust', 'rpartition', 'rsplit', 'rstrip', 'split', 'splitlines', 'startswith', 'strip', 'swapcase', 'title', 'translate', 'upper', 'zfill']\n"
     ]
    }
   ],
   "source": []
  },
  {
   "cell_type": "code",
   "execution_count": 10,
   "id": "8e7f7420",
   "metadata": {},
   "outputs": [
    {
     "name": "stdout",
     "output_type": "stream",
     "text": [
      "[10, 20, 30, 40]\n",
      "[10, 20, 30, 40]\n",
      "True\n",
      "1349289924032\n",
      "1349289801536\n",
      "False\n",
      "[10, 20, 30, 40]\n",
      "[111, 20, 30, 40]\n",
      "[10, 20, 30, [100, 200, 300]]\n",
      "[10, 20, 30, [100, 222, 300]]\n",
      "1349289802496\n",
      "1349289803584\n"
     ]
    }
   ],
   "source": [
    "# lst = [10,20,30,40]\n",
    "# lst1 = lst \n",
    "\n",
    "# print(lst)\n",
    "# print(lst1)\n",
    "\n",
    "# print(lst == lst1)\n",
    "\n",
    "# print(id(lst))\n",
    "# print(id(lst1))\n",
    "\n",
    "# print(lst is lst1)\n",
    "\n",
    "# Shallow copy and Deep Copy \n",
    "# applicable for mutable objects and not for immutable objects \n",
    "# print('****** Shallow Copy Example *****')\n",
    "\n",
    "# Shallow Copy  -  slicing ,  copy \n",
    "\n",
    "# lst_s = [10,20,30,40]\n",
    "# lst_s1 = lst_s[::] \n",
    "\n",
    "\n",
    "# print(lst_s)\n",
    "# print(lst_s1)\n",
    "\n",
    "# print(lst_s == lst_s1)\n",
    "\n",
    "\n",
    "# print(id(lst_s))\n",
    "# print(id(lst_s1))\n",
    "\n",
    "\n",
    "# print(lst_s is lst_s1)\n",
    "\n",
    "# lst_s1[0] = 111\n",
    "\n",
    "# print(lst_s)\n",
    "# print(lst_s1)\n",
    "\n",
    "#  in case we have nested list then during shallow copy both points to same object (nested list), so changes in nested list\n",
    "# will have impact in both the orignal and the shallow copy created  .\n",
    "\n",
    "# lst = [10,20,30 ,[100,200,300]]\n",
    "# lst3 = lst[::]\n",
    "\n",
    "# print(lst , id(lst))\n",
    "# print(lst3, id(lst3))\n",
    "\n",
    "# Above we have created a shallow copy lst3 of lst .  \n",
    "# NOW since lst is having a nested list and if we make any changes to the nested list it will be reflected in shallow copy\n",
    "# as well because both lst and lst3 shares the sames nested object.\n",
    "\n",
    "# print(id(lst[-1])) \n",
    "# print(id(lst3[-1])) \n",
    "\n",
    "# lst[-1][0] = 101\n",
    "\n",
    "# print(lst , id(lst))\n",
    "# print(lst3, id(lst3))\n",
    "\n",
    "# To  solve the above issues we have \"Deep Copy\" , making changes to the nested object  will not have impact on the copy or \n",
    "# vice - versa\n",
    "\n",
    "# from copy import  deepcopy\n",
    "\n",
    "# lst = [10,20,30 ,[100,200,300]]\n",
    "# lst4 = deepcopy(lst)\n",
    "\n",
    "# lst4[-1][1] = 222\n",
    "# print(lst)\n",
    "# print(lst4)\n",
    "\n",
    "# print(id(lst[-1]))\n",
    "# print(id(lst4[-1]))\n"
   ]
  },
  {
   "cell_type": "code",
   "execution_count": 11,
   "id": "351b8619",
   "metadata": {},
   "outputs": [
    {
     "name": "stdout",
     "output_type": "stream",
     "text": [
      " This is my_function \n"
     ]
    }
   ],
   "source": [
    "# Functions : \n",
    "# functions - advantage is code reusability \n",
    "\n",
    "# built-in functions -  len, float \n",
    "# user defined \n",
    "\n",
    "#syntax \n",
    "\n",
    "def func_name(param):\n",
    "    ''' documentation '''\n",
    "    code\n",
    "    code\n",
    "    code\n",
    "    return ret_val\n",
    "\n",
    "# example\n",
    "\n",
    "def my_func():\n",
    "    ''' This is my_function '''\n",
    "    \n",
    "\n",
    "my_func()\n",
    "\n",
    "# to access the documenation\n",
    "\n",
    "print(my_func.__doc__)"
   ]
  },
  {
   "cell_type": "code",
   "execution_count": 12,
   "id": "17716e58",
   "metadata": {},
   "outputs": [
    {
     "name": "stdout",
     "output_type": "stream",
     "text": [
      "10\n",
      "20\n",
      "30\n"
     ]
    }
   ],
   "source": [
    "# def my_func(a,b,c):\n",
    "#     print(a)\n",
    "#     print(b)\n",
    "#     print(c)\n",
    "    \n",
    "# my_func(10,20,30)\n",
    "\n",
    "# Argumnets are actual values \n",
    "# Parameters are variables that stores the arguments."
   ]
  },
  {
   "cell_type": "code",
   "execution_count": null,
   "id": "71368892",
   "metadata": {},
   "outputs": [],
   "source": [
    "# Types of Parameters : \n",
    "    1. Postional Parmeters \n",
    "    2. defualt parameters \n",
    "    3. keyworded arguments \n",
    "    4. Variable length positional arguments  - *args\n",
    "    5. Variable length keyworded arguments  -  **kwargs \n",
    "    "
   ]
  },
  {
   "cell_type": "code",
   "execution_count": 19,
   "id": "00412c45",
   "metadata": {},
   "outputs": [
    {
     "name": "stdout",
     "output_type": "stream",
     "text": [
      "ashish_kumar@gmail.com\n"
     ]
    }
   ],
   "source": [
    "# 1. Positional Parameters\n",
    "    # order is important \n",
    "    # no of arguments and parameter should match \n",
    "    \n",
    "# To filter out the emails where length of user name is more than 10 \n",
    "\n",
    "# lst = ['aksingh283@gmail.com' , 'ashish_kumar@gmail.com',  'ravi@hotmail.com',  'sid@redifmail.com']\n",
    "\n",
    "# def lst_func(lst , len_usr_name):\n",
    "#     for email in lst:\n",
    "#         if len(email[:email.index('@')]) > len_usr_name :\n",
    "#             print(email)\n",
    "            \n",
    "# lst_func(lst , 10 )\n"
   ]
  },
  {
   "cell_type": "code",
   "execution_count": 31,
   "id": "587f16fe",
   "metadata": {},
   "outputs": [
    {
     "name": "stdout",
     "output_type": "stream",
     "text": [
      "414141\n",
      "Dragon#\n",
      "101010\n",
      "star#\n",
      "4141414141\n",
      "Dragon$\n",
      "1010101010\n",
      "star$\n"
     ]
    }
   ],
   "source": [
    "# 2. Defualt Parameter\n",
    "# Defualt Parameter should always follow the positional parameter .\n",
    "\n",
    "# def my_func(lst , no_of_times = 3 ,  terminating_val = '#'):\n",
    "#     for i in lst:\n",
    "#             if i.isnumeric():\n",
    "#                 print(i*no_of_times)\n",
    "#             else:\n",
    "#                 print(i + terminating_val)\n",
    "            \n",
    "# my_func(['41', 'Dragon' , '10', 'star'])\n",
    "# my_func(['41', 'Dragon' , '10', 'star'], 5 , '$')"
   ]
  },
  {
   "cell_type": "code",
   "execution_count": 35,
   "id": "10cf03da",
   "metadata": {},
   "outputs": [
    {
     "ename": "SyntaxError",
     "evalue": "positional argument follows keyword argument (2133548331.py, line 16)",
     "output_type": "error",
     "traceback": [
      "\u001b[1;36m  Input \u001b[1;32mIn [35]\u001b[1;36m\u001b[0m\n\u001b[1;33m    my_func( terminating_val = '$', 5,  ['41', 'Dragon' , '10', 'star'] )\u001b[0m\n\u001b[1;37m                                                                        ^\u001b[0m\n\u001b[1;31mSyntaxError\u001b[0m\u001b[1;31m:\u001b[0m positional argument follows keyword argument\n"
     ]
    }
   ],
   "source": [
    "# 3. keyworded arguments\n",
    "\n",
    "# def my_func(lst , no_of_times = 3 ,  terminating_val = '#'):\n",
    "#     for i in lst:\n",
    "#             if i.isnumeric():\n",
    "#                 print(i*no_of_times)\n",
    "#             else:\n",
    "#                 print(i + terminating_val)\n",
    "            \n",
    "# my_func(['41', 'Dragon' , '10', 'star'])\n",
    "# my_func(['41', 'Dragon' , '10', 'star'] , terminating_val = '$') \n",
    "\n",
    "# above we are skipping one of the default Parameters so in case whenever we skip any of the defualt paramters we should \n",
    "# be using keyworded argument  \n",
    "\n",
    "\n",
    "# my_func( terminating_val = '$',  ['41', 'Dragon' , '10', 'star'] ) \n",
    "\n",
    "# BUT ALSO need to remeber that if we are using a MIX of postional and keyworded argument then  keyworded argument\n",
    "# should always come after positional argument  . "
   ]
  },
  {
   "cell_type": "code",
   "execution_count": 40,
   "id": "180ab733",
   "metadata": {},
   "outputs": [
    {
     "name": "stdout",
     "output_type": "stream",
     "text": [
      "(30, 40, 50) <class 'tuple'>\n",
      "150\n",
      "(30, 40, 50) <class 'tuple'>\n",
      "150\n",
      "111\n",
      "(40, 50) <class 'tuple'>\n",
      "120\n",
      "30\n"
     ]
    }
   ],
   "source": [
    "# 3. Variable  length positional argument   *args\n",
    "# *args internally is a TUPLE \n",
    "\n",
    "# def fun(a,b, *arg):\n",
    "#     print(arg , type(arg))\n",
    "#     print(a+b+sum(arg))\n",
    "\n",
    "# fun(10,20, 30,40,50)\n",
    "\n",
    "\n",
    "# def fun(a,b, *arg , c = 111): # here arg is taking 30 , 40, 50 and default value is coming for 'c'\n",
    "#     print(arg , type(arg))\n",
    "#     print(a+b+sum(arg))\n",
    "#     print(c)\n",
    "\n",
    "# fun(10,20, 30,40,50)\n",
    "\n",
    "\n",
    "# def fun(a,b, *arg , c = 111): # here arg is taking 30 , 40 and if we want some explicit value for default param 'c'\n",
    "#     print(arg , type(arg))    # then we need to pass it as keyworded argument \n",
    "#     print(a+b+sum(arg))\n",
    "#     print(c)\n",
    "\n",
    "# fun(10,20, 30,40,c= 50)\n",
    "\n",
    "\n",
    "# def fun(a,b,  c = 111, *arg ):   # here *arg is taking the left over values 40  and 50 as 30 is considered as value for 'c'\n",
    "#     print(arg , type(arg))\n",
    "#     print(a+b+sum(arg))\n",
    "#     print(c)\n",
    "    \n",
    "# fun(10,20, 30,40,50)"
   ]
  },
  {
   "cell_type": "code",
   "execution_count": 45,
   "id": "9766f248",
   "metadata": {},
   "outputs": [
    {
     "name": "stdout",
     "output_type": "stream",
     "text": [
      "{} <class 'dict'>\n",
      "() <class 'tuple'>\n",
      "Amit\n",
      "3333\n",
      "100000\n",
      "{'e_city': 'Bengaluru', 'e_state': 'Karnataka'} <class 'dict'>\n",
      "() <class 'tuple'>\n",
      "Amit\n",
      "3333\n",
      "100000\n"
     ]
    }
   ],
   "source": [
    "# 4. Variable length keyworded argument  **kwargs \n",
    "# **kwargs internally is a DICT  \n",
    "\n",
    "# def emp_details(e_name , e_id , e_sal , *args , **kwargs):\n",
    "#     print(kwargs , type(kwargs))\n",
    "#     print(args , type(args))\n",
    "#     print(e_name)\n",
    "#     print(e_id)\n",
    "#     print(e_sal)\n",
    "\n",
    "# emp_details('Amit' , 3333 , 100000 )\n",
    "\n",
    "# emp_details('Amit' , 3333 , 100000 , e_city = 'Bengaluru' , e_state = 'Karnataka')\n"
   ]
  },
  {
   "cell_type": "code",
   "execution_count": 53,
   "id": "0c62f8c7",
   "metadata": {},
   "outputs": [
    {
     "name": "stdout",
     "output_type": "stream",
     "text": [
      "11 21\n",
      "10 20\n",
      "==================\n",
      "\n",
      "\n",
      "\n",
      "11 21\n",
      "11 20\n"
     ]
    }
   ],
   "source": [
    "# Namespace - Container \n",
    "    # Built-in \n",
    "    # Global\n",
    "    # Local\n",
    "\n",
    "    \n",
    "# def my_func():\n",
    "#     a = 10\n",
    "#     b =20\n",
    "#     def inner_func():\n",
    "#         a = 11\n",
    "#         b = 21\n",
    "#         print(a ,b)\n",
    "#     inner_func()\n",
    "#     print(a,b)\n",
    "\n",
    "\n",
    "# my_func()\n",
    "\n",
    "# print('==================\\n\\n\\n')\n",
    "\n",
    "# def my_func():\n",
    "#     a = 10\n",
    "#     b =20\n",
    "#     def inner_func():\n",
    "#         nonlocal a   # this is used in case  of inner and outer variables.\n",
    "#         a = 11\n",
    "#         b = 21\n",
    "#         print(a ,b)\n",
    "#     inner_func()\n",
    "#     print(a,b)\n",
    "\n",
    "\n",
    "# my_func()"
   ]
  },
  {
   "cell_type": "code",
   "execution_count": 57,
   "id": "bb639281",
   "metadata": {},
   "outputs": [
    {
     "name": "stdout",
     "output_type": "stream",
     "text": [
      "11 21\n",
      "11 20\n"
     ]
    }
   ],
   "source": [
    "# global keyword \n",
    "\n",
    "# a = 10\n",
    "# b = 20\n",
    "\n",
    "# def f1():\n",
    "#     global a  \n",
    "#     a = 11\n",
    "#     b = 21\n",
    "#     print(a,b)\n",
    "# f1()\n",
    "# print(a,b)"
   ]
  },
  {
   "cell_type": "code",
   "execution_count": 58,
   "id": "a2aa3469",
   "metadata": {},
   "outputs": [
    {
     "name": "stdout",
     "output_type": "stream",
     "text": [
      "10 20\n"
     ]
    },
    {
     "data": {
      "text/plain": [
       "<function __main__.f1()>"
      ]
     },
     "execution_count": 58,
     "metadata": {},
     "output_type": "execute_result"
    }
   ],
   "source": [
    "# Function reference \n",
    "\n",
    "# def f1():\n",
    "#     a = 10\n",
    "#     b = 20\n",
    "#     print(a , b)\n",
    "    \n",
    "#f1()\n",
    "# f1  # this will give information that there is function f1() under main namespace , in order  to call the function it requires \n",
    "    # () with function name "
   ]
  },
  {
   "cell_type": "code",
   "execution_count": 65,
   "id": "c5015a08",
   "metadata": {},
   "outputs": [
    {
     "name": "stdout",
     "output_type": "stream",
     "text": [
      "Inside inner function \n"
     ]
    }
   ],
   "source": [
    "# Closure\n",
    "\n",
    "# def f1():\n",
    "#     a =10\n",
    "#     b =20\n",
    "#     return a ,b \n",
    "\n",
    "# f2 = f1      #  Here f1 is refernce to function object f1() , so as f2 =f1 same reference will be assgined to f2  \n",
    "# print(f2)\n",
    "# print(f1)\n",
    "\n",
    "# f2()        # Now since f2 = f1 , f2 also pointing to same reference as f1 which is the function object so using f2() \n",
    "            # we can call the function object \n",
    "    \n",
    "\n",
    "#  Calling the inner function in outside / Global namespace - this is called Closure \n",
    "\n",
    "# def f1():\n",
    "#     def inner():\n",
    "#         a =10\n",
    "#         b =20\n",
    "#         print('Inside inner function ')\n",
    "#     return inner\n",
    "    \n",
    "# i1 =  f1()   # here function call is returning reference of inner() which is then assigned to variable i1 ,  and now we \n",
    "                # use that i1 variable to directly call the inner() as it has its reference .\n",
    "# i1()\n",
    "    "
   ]
  },
  {
   "cell_type": "code",
   "execution_count": 70,
   "id": "6c546f0c",
   "metadata": {},
   "outputs": [
    {
     "data": {
      "text/plain": [
       "[12, 14, 16, 18]"
      ]
     },
     "execution_count": 70,
     "metadata": {},
     "output_type": "execute_result"
    }
   ],
   "source": [
    "# lst =  list(range(11,20))\n",
    "\n",
    "# def even_odd(num):\n",
    "#     return True if num%2 == 0 else False \n",
    "\n",
    "\n",
    "# def my_func(func, lst):\n",
    "#     out_lst = []\n",
    "#     for ele in  lst:\n",
    "#         if func(ele) :\n",
    "#             out_lst.append(ele)\n",
    "#     return out_lst\n",
    "\n",
    "# my_func(even_odd , lst)\n"
   ]
  },
  {
   "cell_type": "code",
   "execution_count": 74,
   "id": "d1fde8c4",
   "metadata": {},
   "outputs": [
    {
     "name": "stdout",
     "output_type": "stream",
     "text": [
      "2.51 µs ± 75 ns per loop (mean ± std. dev. of 7 runs, 100,000 loops each)\n"
     ]
    }
   ],
   "source": [
    "# %timeit my_func(even_odd , lst)\n",
    "\n",
    "# \"timeit\" is a method of measuring the execution time of your python code snippets."
   ]
  },
  {
   "cell_type": "code",
   "execution_count": 77,
   "id": "c611598d",
   "metadata": {},
   "outputs": [
    {
     "name": "stdout",
     "output_type": "stream",
     "text": [
      "13\n"
     ]
    }
   ],
   "source": [
    "# Lambda function / Anonymous function \n",
    "# Using lambda keyword\n",
    "# Syntax lambda parm:expr \n",
    "# Expr result is the return value , don't have to write the return explicitly\n",
    "\n",
    "# (lambda num : True if num%2 == 0 else False)(4)\n",
    "\n",
    "# a = (lambda num1 , num2 , num3 : num1 if ((num1>num2) and (num1>num3)) else num2 if num2>num3 else num3)(10,12,13)\n",
    "# print(a)\n"
   ]
  },
  {
   "cell_type": "code",
   "execution_count": 90,
   "id": "e22e44e3",
   "metadata": {},
   "outputs": [
    {
     "data": {
      "text/plain": [
       "(12, 14, 16, 18)"
      ]
     },
     "execution_count": 90,
     "metadata": {},
     "output_type": "execute_result"
    }
   ],
   "source": [
    "# Filter: - used to filter a seq based on some condition \n",
    "# Syntax -  filter(func , seq/iterable )\n",
    "# Returns a filter object  - which is an iterator\n",
    "# In case of filter the variable (num) which  satisfied the condition got added to the result set.\n",
    "\n",
    "\n",
    "# list(filter(even_odd , lst ))\n",
    "\n",
    "# tuple(filter(lambda num: num%2 ==0 , lst ))\n"
   ]
  },
  {
   "cell_type": "code",
   "execution_count": 106,
   "id": "70e2a021",
   "metadata": {},
   "outputs": [
    {
     "name": "stdout",
     "output_type": "stream",
     "text": [
      "[11, 12, 13, 14, 15, 16, 17, 18, 19]\n"
     ]
    },
    {
     "data": {
      "text/plain": [
       "[False, True, False, True, False, True, False, True, False]"
      ]
     },
     "execution_count": 106,
     "metadata": {},
     "output_type": "execute_result"
    }
   ],
   "source": [
    "#  Map - used to map object from one seq to another seq \n",
    "# Syntax -  map(func, iterable)\n",
    "#  returns map object - which is an iterator\n",
    "# In case of map the result of the expression got added to the result set.\n",
    "\n",
    "# print(lst)\n",
    "# list(map(lambda num: num%2 ==0 , lst))\n"
   ]
  },
  {
   "cell_type": "code",
   "execution_count": 112,
   "id": "02152a47",
   "metadata": {},
   "outputs": [
    {
     "data": {
      "text/plain": [
       "['rohitkumar', 'raghuram', 'krishna']"
      ]
     },
     "execution_count": 112,
     "metadata": {},
     "output_type": "execute_result"
    }
   ],
   "source": [
    "lst_email = ['amit@gmail.com' , 'rohitkumar@yahoomail.com' , 'raghuram@rediffmail.com', 'krishna@hotmail.com', \n",
    "            'manoj@gmail.com']\n",
    "\n",
    "# filter the list and return a list of email where username > 5\n",
    "# list(filter(lambda lst_email : len(lst_email[:lst_email.index('@')]) > 5 , lst_email))\n",
    "\n",
    "# filter the list and return a list of username for only those email id where username > 5\n",
    "# list(map(lambda email: email[:email.index('@')] , filter(lambda lst_email : len(lst_email[:lst_email.index('@')]) > 5 , lst_email)))\n",
    "\n"
   ]
  },
  {
   "cell_type": "code",
   "execution_count": 114,
   "id": "bc334bb5",
   "metadata": {},
   "outputs": [
    {
     "data": {
      "text/plain": [
       "[(10, 1), (100, 2), (54, 5), (67, 6), (87, 7), (99, 9), (23, 90)]"
      ]
     },
     "execution_count": 114,
     "metadata": {},
     "output_type": "execute_result"
    }
   ],
   "source": [
    " # sort()\n",
    "    \n",
    "# lst = [(10,1) , (100,2) , (23,90) , (99, 9) , (87, 7) , (67, 6) , (54,5)]\n",
    "\n",
    "# lst.sort(key = lambda tpl:tpl[-1])\n",
    "\n",
    "# lst"
   ]
  },
  {
   "cell_type": "code",
   "execution_count": 116,
   "id": "55d68faa",
   "metadata": {},
   "outputs": [
    {
     "data": {
      "text/plain": [
       "135"
      ]
     },
     "execution_count": 116,
     "metadata": {},
     "output_type": "execute_result"
    }
   ],
   "source": [
    "# reduce -  used to find aggregate values - sum , min, max , avg  \n",
    "# import reduce from functools \n",
    "# reduce(func,  seq)\n",
    "# returns one single aggregate value \n",
    "\n",
    "# from functools import reduce \n",
    "# lst =  list(range(11,20))\n",
    "\n",
    "# reduce(lambda x,y : x+y , lst )"
   ]
  },
  {
   "cell_type": "code",
   "execution_count": 117,
   "id": "4987d584",
   "metadata": {},
   "outputs": [
    {
     "name": "stdout",
     "output_type": "stream",
     "text": [
      "['ArithmeticError', 'AssertionError', 'AttributeError', 'BaseException', 'BlockingIOError', 'BrokenPipeError', 'BufferError', 'BytesWarning', 'ChildProcessError', 'ConnectionAbortedError', 'ConnectionError', 'ConnectionRefusedError', 'ConnectionResetError', 'DeprecationWarning', 'EOFError', 'Ellipsis', 'EnvironmentError', 'Exception', 'False', 'FileExistsError', 'FileNotFoundError', 'FloatingPointError', 'FutureWarning', 'GeneratorExit', 'IOError', 'ImportError', 'ImportWarning', 'IndentationError', 'IndexError', 'InterruptedError', 'IsADirectoryError', 'KeyError', 'KeyboardInterrupt', 'LookupError', 'MemoryError', 'ModuleNotFoundError', 'NameError', 'None', 'NotADirectoryError', 'NotImplemented', 'NotImplementedError', 'OSError', 'OverflowError', 'PendingDeprecationWarning', 'PermissionError', 'ProcessLookupError', 'RecursionError', 'ReferenceError', 'ResourceWarning', 'RuntimeError', 'RuntimeWarning', 'StopAsyncIteration', 'StopIteration', 'SyntaxError', 'SyntaxWarning', 'SystemError', 'SystemExit', 'TabError', 'TimeoutError', 'True', 'TypeError', 'UnboundLocalError', 'UnicodeDecodeError', 'UnicodeEncodeError', 'UnicodeError', 'UnicodeTranslateError', 'UnicodeWarning', 'UserWarning', 'ValueError', 'Warning', 'WindowsError', 'ZeroDivisionError', '__IPYTHON__', '__build_class__', '__debug__', '__doc__', '__import__', '__loader__', '__name__', '__package__', '__spec__', 'abs', 'all', 'any', 'ascii', 'bin', 'bool', 'breakpoint', 'bytearray', 'bytes', 'callable', 'chr', 'classmethod', 'compile', 'complex', 'copyright', 'credits', 'delattr', 'dict', 'dir', 'display', 'divmod', 'enumerate', 'eval', 'exec', 'execfile', 'filter', 'float', 'format', 'frozenset', 'get_ipython', 'getattr', 'globals', 'hasattr', 'hash', 'help', 'hex', 'id', 'input', 'int', 'isinstance', 'issubclass', 'iter', 'len', 'license', 'list', 'locals', 'map', 'max', 'memoryview', 'min', 'next', 'object', 'oct', 'open', 'ord', 'pow', 'print', 'property', 'range', 'repr', 'reversed', 'round', 'runfile', 'set', 'setattr', 'slice', 'sorted', 'staticmethod', 'str', 'sum', 'super', 'tuple', 'type', 'vars', 'zip']\n"
     ]
    }
   ],
   "source": [
    "print(dir(__builtins__))"
   ]
  },
  {
   "cell_type": "code",
   "execution_count": 119,
   "id": "255c4192",
   "metadata": {},
   "outputs": [
    {
     "name": "stdout",
     "output_type": "stream",
     "text": [
      "['__add__', '__class__', '__class_getitem__', '__contains__', '__delattr__', '__delitem__', '__dir__', '__doc__', '__eq__', '__format__', '__ge__', '__getattribute__', '__getitem__', '__gt__', '__hash__', '__iadd__', '__imul__', '__init__', '__init_subclass__', '__iter__', '__le__', '__len__', '__lt__', '__mul__', '__ne__', '__new__', '__reduce__', '__reduce_ex__', '__repr__', '__reversed__', '__rmul__', '__setattr__', '__setitem__', '__sizeof__', '__str__', '__subclasshook__', 'append', 'clear', 'copy', 'count', 'extend', 'index', 'insert', 'pop', 'remove', 'reverse', 'sort']\n"
     ]
    }
   ],
   "source": [
    "# Iterators & Generators\n",
    "\n",
    "#  Container Type/ Iterable -  list  , tuple , set ,  frozenset  ,  dictionary , byte , bytearray\n",
    "\n",
    "# print(dir(list))"
   ]
  },
  {
   "cell_type": "code",
   "execution_count": 15,
   "id": "cabc9d3b",
   "metadata": {},
   "outputs": [
    {
     "name": "stdout",
     "output_type": "stream",
     "text": [
      "['__class__', '__delattr__', '__dir__', '__doc__', '__eq__', '__format__', '__ge__', '__getattribute__', '__gt__', '__hash__', '__init__', '__init_subclass__', '__iter__', '__le__', '__length_hint__', '__lt__', '__ne__', '__new__', '__next__', '__reduce__', '__reduce_ex__', '__repr__', '__setattr__', '__setstate__', '__sizeof__', '__str__', '__subclasshook__']\n",
      "10 20 30 40\n"
     ]
    }
   ],
   "source": [
    "# Iterable  -  object which implements __iter__ function \n",
    "\n",
    "# lst = [10,20,30,40]\n",
    "\n",
    "# print(next(lst))  # this will give error as lst is not an Iterator , it is an Iterable object \n",
    "\n",
    "# lst = iter(lst)  #  here we convert the list to an Iterator object so that we can traverse the list elements using __next__\n",
    "                 # function\n",
    "    \n",
    "# print(dir(lst))   # so the lst is converted to Iterator object as we can now see it implements both __iter__ and __next__\n",
    "                  # function \n",
    "\n",
    "# print(next(lst) , next(lst) , next(lst) , next(lst) ) \n",
    "\n"
   ]
  },
  {
   "cell_type": "code",
   "execution_count": 9,
   "id": "2d228283",
   "metadata": {},
   "outputs": [
    {
     "name": "stdout",
     "output_type": "stream",
     "text": [
      "['__class__', '__class_getitem__', '__delattr__', '__dir__', '__doc__', '__eq__', '__format__', '__ge__', '__getattribute__', '__gt__', '__hash__', '__init__', '__init_subclass__', '__iter__', '__le__', '__lt__', '__ne__', '__new__', '__next__', '__reduce__', '__reduce_ex__', '__repr__', '__setattr__', '__sizeof__', '__str__', '__subclasshook__']\n",
      "(0, 'P') (1, 'y') (2, 't') (3, 'h') (4, 'o') (5, 'n')\n"
     ]
    },
    {
     "ename": "StopIteration",
     "evalue": "",
     "output_type": "error",
     "traceback": [
      "\u001b[1;31m---------------------------------------------------------------------------\u001b[0m",
      "\u001b[1;31mStopIteration\u001b[0m                             Traceback (most recent call last)",
      "Input \u001b[1;32mIn [9]\u001b[0m, in \u001b[0;36m<cell line: 14>\u001b[1;34m()\u001b[0m\n\u001b[0;32m      9\u001b[0m a \u001b[38;5;241m=\u001b[39m \u001b[38;5;28menumerate\u001b[39m(\u001b[38;5;124m'\u001b[39m\u001b[38;5;124mPython\u001b[39m\u001b[38;5;124m'\u001b[39m)\n\u001b[0;32m     11\u001b[0m \u001b[38;5;28mprint\u001b[39m(\u001b[38;5;28mnext\u001b[39m(a) , \u001b[38;5;28mnext\u001b[39m(a) , \u001b[38;5;28mnext\u001b[39m(a), \u001b[38;5;28mnext\u001b[39m(a) , \u001b[38;5;28mnext\u001b[39m(a), \u001b[38;5;28mnext\u001b[39m(a))\n\u001b[1;32m---> 14\u001b[0m \u001b[38;5;28mprint\u001b[39m(\u001b[38;5;28;43mnext\u001b[39;49m\u001b[43m(\u001b[49m\u001b[43ma\u001b[49m\u001b[43m)\u001b[49m , \u001b[38;5;28mnext\u001b[39m(a) , \u001b[38;5;28mnext\u001b[39m(a), \u001b[38;5;28mnext\u001b[39m(a) , \u001b[38;5;28mnext\u001b[39m(a), \u001b[38;5;28mnext\u001b[39m(a) , \u001b[38;5;28mnext\u001b[39m(a))\n",
      "\u001b[1;31mStopIteration\u001b[0m: "
     ]
    }
   ],
   "source": [
    "# Iterator -  object  which allows iteration over container or Iterabale object \n",
    "\n",
    "# Iterator - implements __iter__ and __next__ function \n",
    "\n",
    "# zip , enumerate , reversed, filter , map \n",
    "\n",
    "# print(dir(enumerate))   # enumerate is an Iterator as it implements both __iter__ and __next__ function \n",
    "\n",
    "# a = enumerate('Python')\n",
    "\n",
    "# print(next(a) , next(a) , next(a), next(a) , next(a), next(a))\n",
    "\n",
    "# print(next(a) , next(a) , next(a), next(a) , next(a), next(a) , next(a)) # here we are exceeding the no of elemnets in the \n",
    "                                                                      # Iterable object so getting StopIteration error\n"
   ]
  },
  {
   "cell_type": "code",
   "execution_count": 18,
   "id": "a0375074",
   "metadata": {},
   "outputs": [
    {
     "name": "stdout",
     "output_type": "stream",
     "text": [
      "10\n",
      "20\n",
      "30\n",
      "40\n"
     ]
    }
   ],
   "source": [
    "lst = [10,20,30,40]\n",
    "\n",
    "for i in lst:\n",
    "    print(i) "
   ]
  },
  {
   "cell_type": "code",
   "execution_count": 33,
   "id": "8a373251",
   "metadata": {},
   "outputs": [
    {
     "name": "stdout",
     "output_type": "stream",
     "text": [
      "10\n",
      "10.2\n",
      "(10+20j)\n",
      "Python\n",
      "[1, 2, 3]\n",
      "True\n"
     ]
    }
   ],
   "source": [
    "# Generator  \n",
    "# Syntax of defining Generator is similar to defining a function \n",
    "\n",
    "# In case of generator we use yield \n",
    "\n",
    "# yield keyword is similar to return statement\n",
    "\n",
    "# used to  define user defined seq \n",
    "\n",
    "# It is effecient in terms of memory and speed both\n",
    "\n",
    "# import sys\n",
    "# lst =  [i for i in range(10000)]\n",
    "# # print(lst)\n",
    "# print(sys.getsizeof(lst))\n",
    "\n",
    "# here above it is going to give all the values upto 10000 at a  time consuming lots of memory - 85176 bytes \n",
    "\n",
    "# samething can be done using tuple comprehension , but tuple comprehension does not generate the tuple object\n",
    "# instead it generates the Generator object\n",
    "\n",
    "# tpl = (i for i in range(10000))\n",
    "# print(tpl)\n",
    "# print(sys.getsizeof(tpl))\n",
    "\n",
    "# here above we can see that all the values are not generated at once rather it creates a generator object \n",
    "# which when used with next function starts fetching those values .\n",
    "# So it does not require huge amount of memory for storing all the values at once .\n",
    "\n",
    "# Generator object is also an Iterator  object \n",
    "\n",
    "# print(dir(tpl))\n",
    "# print(next(tpl))\n",
    "\n",
    "\n",
    "def my_gen():\n",
    "    a =10\n",
    "    b =20\n",
    "    c =a+b\n",
    "    yield 10\n",
    "    yield 10.20\n",
    "    yield 10+20j\n",
    "    yield 'Python'\n",
    "    yield [1,2,3]\n",
    "    yield True\n",
    "\n",
    "g = my_gen()\n",
    "\n",
    "for i in g:\n",
    "    print(i)"
   ]
  },
  {
   "cell_type": "code",
   "execution_count": 37,
   "id": "45071726",
   "metadata": {},
   "outputs": [
    {
     "name": "stdout",
     "output_type": "stream",
     "text": [
      "['In', 'Out', '_', '_28', '_30', '__', '___', '__builtin__', '__builtins__', '__doc__', '__loader__', '__name__', '__package__', '__spec__', '_dh', '_i', '_i1', '_i10', '_i11', '_i12', '_i13', '_i14', '_i15', '_i16', '_i17', '_i18', '_i19', '_i2', '_i20', '_i21', '_i22', '_i23', '_i24', '_i25', '_i26', '_i27', '_i28', '_i29', '_i3', '_i30', '_i31', '_i32', '_i33', '_i34', '_i35', '_i36', '_i37', '_i4', '_i5', '_i6', '_i7', '_i8', '_i9', '_ih', '_ii', '_iii', '_oh', 'a', 'exit', 'g', 'get_ipython', 'i', 'lst', 'math', 'my_gen', 'quit', 'sys', 'tpl']\n",
      "\n",
      "['In', 'Out', '_', '_28', '_30', '__', '___', '__builtin__', '__builtins__', '__doc__', '__loader__', '__name__', '__package__', '__spec__', '_dh', '_i', '_i1', '_i10', '_i11', '_i12', '_i13', '_i14', '_i15', '_i16', '_i17', '_i18', '_i19', '_i2', '_i20', '_i21', '_i22', '_i23', '_i24', '_i25', '_i26', '_i27', '_i28', '_i29', '_i3', '_i30', '_i31', '_i32', '_i33', '_i34', '_i35', '_i36', '_i37', '_i4', '_i5', '_i6', '_i7', '_i8', '_i9', '_ih', '_ii', '_iii', '_oh', 'a', 'exit', 'g', 'get_ipython', 'i', 'lst', 'math', 'my_gen', 'quit', 'sys', 'tpl']\n",
      "['__doc__', '__loader__', '__name__', '__package__', '__spec__', 'acos', 'acosh', 'asin', 'asinh', 'atan', 'atan2', 'atanh', 'ceil', 'comb', 'copysign', 'cos', 'cosh', 'degrees', 'dist', 'e', 'erf', 'erfc', 'exp', 'expm1', 'fabs', 'factorial', 'floor', 'fmod', 'frexp', 'fsum', 'gamma', 'gcd', 'hypot', 'inf', 'isclose', 'isfinite', 'isinf', 'isnan', 'isqrt', 'lcm', 'ldexp', 'lgamma', 'log', 'log10', 'log1p', 'log2', 'modf', 'nan', 'nextafter', 'perm', 'pi', 'pow', 'prod', 'radians', 'remainder', 'sin', 'sinh', 'sqrt', 'tan', 'tanh', 'tau', 'trunc', 'ulp']\n"
     ]
    },
    {
     "data": {
      "text/plain": [
       "2.0"
      ]
     },
     "execution_count": 37,
     "metadata": {},
     "output_type": "execute_result"
    }
   ],
   "source": [
    "# Modules in Python\n",
    "# Any python file(.py)  is a module \n",
    "\n",
    "print(dir())  #  Global namespace \n",
    "\n",
    "import math\n",
    "print()\n",
    "print(dir())  # after  import we can see math is added to our Global namespace\n",
    "\n",
    "print(dir(math))\n",
    "\n",
    "math.sqrt(4)"
   ]
  },
  {
   "cell_type": "code",
   "execution_count": 3,
   "id": "8f5b7790",
   "metadata": {},
   "outputs": [
    {
     "name": "stdout",
     "output_type": "stream",
     "text": [
      "['In', 'Out', '_', '__', '___', '__builtin__', '__builtins__', '__doc__', '__loader__', '__name__', '__package__', '__spec__', '_dh', '_i', '_i1', '_i2', '_i3', '_ih', '_ii', '_iii', '_oh', 'exit', 'get_ipython', 'm', 'quit']\n",
      "\n",
      "['In', 'Out', '_', '__', '___', '__builtin__', '__builtins__', '__doc__', '__loader__', '__name__', '__package__', '__spec__', '_dh', '_i', '_i1', '_i2', '_i3', '_ih', '_ii', '_iii', '_oh', 'exit', 'get_ipython', 'm', 'quit']\n",
      "2.0\n"
     ]
    },
    {
     "ename": "NameError",
     "evalue": "name 'math' is not defined",
     "output_type": "error",
     "traceback": [
      "\u001b[1;31m---------------------------------------------------------------------------\u001b[0m",
      "\u001b[1;31mNameError\u001b[0m                                 Traceback (most recent call last)",
      "Input \u001b[1;32mIn [3]\u001b[0m, in \u001b[0;36m<cell line: 12>\u001b[1;34m()\u001b[0m\n\u001b[0;32m      9\u001b[0m \u001b[38;5;28mprint\u001b[39m(\u001b[38;5;28mdir\u001b[39m())  \n\u001b[0;32m     11\u001b[0m \u001b[38;5;28mprint\u001b[39m(m\u001b[38;5;241m.\u001b[39msqrt(\u001b[38;5;241m4\u001b[39m))\n\u001b[1;32m---> 12\u001b[0m \u001b[38;5;28mprint\u001b[39m(\u001b[43mmath\u001b[49m\u001b[38;5;241m.\u001b[39msqrt(\u001b[38;5;241m4\u001b[39m))\n",
      "\u001b[1;31mNameError\u001b[0m: name 'math' is not defined"
     ]
    }
   ],
   "source": [
    "# ALternate way to import math module \n",
    "\n",
    "print(dir())\n",
    "\n",
    "import math as m    #  math module is renamed as  m \n",
    "\n",
    "print()\n",
    "\n",
    "print(dir())  \n",
    "\n",
    "print(m.sqrt(4))\n",
    "print(math.sqrt(4)) # this will give error as there is no such module named as \"math\" in global namespace"
   ]
  },
  {
   "cell_type": "code",
   "execution_count": 4,
   "id": "198e241a",
   "metadata": {},
   "outputs": [
    {
     "name": "stdout",
     "output_type": "stream",
     "text": [
      "['In', 'Out', '_', '__', '___', '__builtin__', '__builtins__', '__doc__', '__loader__', '__name__', '__package__', '__spec__', '_dh', '_i', '_i1', '_i2', '_i3', '_i4', '_ih', '_ii', '_iii', '_oh', 'exit', 'get_ipython', 'm', 'quit']\n",
      "\n",
      "['In', 'Out', '_', '__', '___', '__builtin__', '__builtins__', '__doc__', '__loader__', '__name__', '__package__', '__spec__', '_dh', '_i', '_i1', '_i2', '_i3', '_i4', '_ih', '_ii', '_iii', '_oh', 'acos', 'acosh', 'asin', 'asinh', 'atan', 'atan2', 'atanh', 'ceil', 'comb', 'copysign', 'cos', 'cosh', 'degrees', 'dist', 'e', 'erf', 'erfc', 'exit', 'exp', 'expm1', 'fabs', 'factorial', 'floor', 'fmod', 'frexp', 'fsum', 'gamma', 'gcd', 'get_ipython', 'hypot', 'inf', 'isclose', 'isfinite', 'isinf', 'isnan', 'isqrt', 'lcm', 'ldexp', 'lgamma', 'log', 'log10', 'log1p', 'log2', 'm', 'modf', 'nan', 'nextafter', 'perm', 'pi', 'pow', 'prod', 'quit', 'radians', 'remainder', 'sin', 'sinh', 'sqrt', 'tan', 'tanh', 'tau', 'trunc', 'ulp']\n"
     ]
    }
   ],
   "source": [
    "print(dir())\n",
    "\n",
    "from math import *   #  imports all functions for math module \n",
    "\n",
    "print()\n",
    "\n",
    "print(dir())"
   ]
  },
  {
   "cell_type": "code",
   "execution_count": 1,
   "id": "ae4e43a9",
   "metadata": {},
   "outputs": [
    {
     "name": "stdout",
     "output_type": "stream",
     "text": [
      "['In', 'Out', '_', '__', '___', '__builtin__', '__builtins__', '__doc__', '__loader__', '__name__', '__package__', '__spec__', '_dh', '_i', '_i1', '_ih', '_ii', '_iii', '_oh', 'exit', 'get_ipython', 'log', 'quit', 'sqrt']\n"
     ]
    }
   ],
   "source": [
    "from math import sqrt , log  \n",
    "\n",
    "print(dir())"
   ]
  },
  {
   "cell_type": "code",
   "execution_count": null,
   "id": "eb805fce",
   "metadata": {},
   "outputs": [],
   "source": []
  }
 ],
 "metadata": {
  "kernelspec": {
   "display_name": "Python 3 (ipykernel)",
   "language": "python",
   "name": "python3"
  },
  "language_info": {
   "codemirror_mode": {
    "name": "ipython",
    "version": 3
   },
   "file_extension": ".py",
   "mimetype": "text/x-python",
   "name": "python",
   "nbconvert_exporter": "python",
   "pygments_lexer": "ipython3",
   "version": "3.9.12"
  }
 },
 "nbformat": 4,
 "nbformat_minor": 5
}

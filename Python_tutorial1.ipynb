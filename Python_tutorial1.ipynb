{
 "cells": [
  {
   "cell_type": "code",
   "execution_count": 3,
   "id": "ce16662f",
   "metadata": {},
   "outputs": [
    {
     "name": "stdout",
     "output_type": "stream",
     "text": [
      "Enter the year: 1992\n",
      "leap year\n"
     ]
    }
   ],
   "source": [
    "# Logical Operators Continue ... \n",
    "\n",
    "#Logical Operator  and , or ,  not \n",
    "#They work with  logic and logic should always be evaluated as True or False \n",
    "\n",
    "# and Truth table (gives importance to False value , if any value is False the result will be False )\n",
    "#True and True = True\n",
    "#True and False = False\n",
    "#False and True = False\n",
    "#False and False = True \n",
    "\n",
    "# or Truth table (gives importance to True value , if any value is True the result will be True )\n",
    "#True or True = True\n",
    "#True or False = True\n",
    "#False or True = True\n",
    "#False or False = False \n",
    "\n",
    "# not Truth table \n",
    "# not True = False \n",
    "# not False = True\n",
    "\n",
    "year = int(input('Enter the year: '))\n",
    "if (( (year%4==0 ) and (year%100 ==0) and (year%400 == 0)) or ((year%4==0 ) and (year%100 != 0))):\n",
    "    print('leap year')\n",
    "else:\n",
    "    print('not leap year')\n"
   ]
  },
  {
   "cell_type": "code",
   "execution_count": null,
   "id": "ebf0ef4d",
   "metadata": {},
   "outputs": [],
   "source": [
    "# If A and B are not Boolean datatype then \n",
    "\n",
    "# A and B => result is A , if A is False else result is B  (in case of and False value is given priority)\n",
    "# A or B => result is A , if A is True else result is B  (in case of or True value is given priority)"
   ]
  },
  {
   "cell_type": "code",
   "execution_count": 11,
   "id": "92b2bdc7",
   "metadata": {},
   "outputs": [
    {
     "name": "stdout",
     "output_type": "stream",
     "text": [
      "False\n",
      "False\n",
      "False\n",
      "True\n",
      "True\n",
      "True\n",
      "20\n",
      "10\n",
      "0\n",
      "0.0\n",
      "False\n",
      "False\n",
      "False\n"
     ]
    }
   ],
   "source": [
    "# Boolean - True . False \n",
    "# True => 1 \n",
    "# False => 0 \n",
    "\n",
    "# Int - 0 is always False ,rest all values are  True\n",
    "# Float - 0.0 is always False ,rest all values are  True\n",
    "# Complex - 0 + 0j is always False ,rest all values are  True\n",
    "# string - '' is always False ,rest all values are  True\n",
    "# None is always False \n",
    "# List,  Tuple , dict , Set - [] , () , {} , Set() is always False, these data structures with at least one element are True.\n",
    "\n",
    "print(bool(''))\n",
    "print(bool([]))\n",
    "print(bool({}))\n",
    "print(bool(' '))\n",
    "print(bool([1]))\n",
    "print(bool({1}))\n",
    "\n",
    "print(10 and 20)\n",
    "print(10 or 20)\n",
    "\n",
    "print(0 and 0.0) # when we pass values with Boolean Operator we get values .\n",
    "print(0 or 0.0)\n",
    "\n",
    "print(bool(''))\n",
    "print(bool([]))\n",
    "print(bool({}))"
   ]
  },
  {
   "cell_type": "code",
   "execution_count": 30,
   "id": "9fe5b210",
   "metadata": {},
   "outputs": [
    {
     "name": "stdout",
     "output_type": "stream",
     "text": [
      "0b100101\n",
      "0b111001\n",
      "28\n"
     ]
    }
   ],
   "source": [
    "# Bitwise Operator (Binary Operator) - & ,| ,^ , ~ , << , >> \n",
    "# works on bit or binary values  \n",
    "# Bitwse and - &  equivalent to *\n",
    "# Bitwise or  | equivalent to + \n",
    "# Bitwise ^  equivalent to (A+B)(A'+B')\n",
    "# Bitwise ~n equivalent to -(n+1)\n",
    "# Bitwise num << by no of bits equivalent to num*(2**no of bits)\n",
    "# Bitwise num >> by no of bits equivalent to num//(2**no of bits)\n",
    "\n",
    "# print(37 & 57) => 33\n",
    "\n",
    "print(bin(37))   # 100101  \n",
    "print(bin(57))   # 111001\n",
    "\n",
    "#  100101 *  111001  =   100001  ( here we are doing normal multiplication)\n",
    "\n",
    "# print(37 ^ 57) => 28\n",
    "\n",
    "\n",
    "# print(37 | 57)  => 61 \n",
    "\n",
    "#---------------------\n",
    "# 37 => 100101 \n",
    "# 57 => 111001 \n",
    "#---------------------\n",
    "# & => 100001\n",
    "# | => 111101\n",
    "# ~ => 011100\n",
    "#-------------------\n",
    "\n",
    "# print(0b100001) => 33\n",
    "# print(0b111101)  => 61\n",
    "# print(0b011100) => 28\n",
    " \n",
    "# A = 0\n",
    "# A' = 1\n",
    "# A' = 1 \n",
    "# A = 0 \n"
   ]
  },
  {
   "cell_type": "code",
   "execution_count": 32,
   "id": "13ba86de",
   "metadata": {},
   "outputs": [
    {
     "name": "stdout",
     "output_type": "stream",
     "text": [
      "-10\n",
      "7\n"
     ]
    }
   ],
   "source": [
    "# Bitwise Negation ~ \n",
    "# ~num =  -(num+1)\n",
    "\n",
    "print(~9)\n",
    "print(~-8)"
   ]
  },
  {
   "cell_type": "code",
   "execution_count": 36,
   "id": "1e32dbbf",
   "metadata": {},
   "outputs": [
    {
     "name": "stdout",
     "output_type": "stream",
     "text": [
      "84480\n",
      "84480\n"
     ]
    }
   ],
   "source": [
    "# Bitwise LFET SHIFT <<  and >> RIGHT SHIFT\n",
    "\n",
    "# print(165 << 9)\n",
    "\n",
    "# print(165(2**9)*)"
   ]
  },
  {
   "cell_type": "code",
   "execution_count": null,
   "id": "e887615a",
   "metadata": {},
   "outputs": [],
   "source": [
    "#  Assignment Operator  =\n",
    "\n",
    "# var1 = 'amit'\n",
    "\n",
    "# var2 = 'sumit'\n",
    "\n",
    "# class Employee:\n",
    "#    def __init__(self , e_name , e_id):\n",
    "#         self.emp_name = e_name\n",
    "#         self.emp_id = e_id "
   ]
  },
  {
   "cell_type": "code",
   "execution_count": 37,
   "id": "aa249c7c",
   "metadata": {},
   "outputs": [
    {
     "name": "stdout",
     "output_type": "stream",
     "text": [
      "12\n"
     ]
    }
   ],
   "source": [
    "# Compound Assoignment Operation - += , -= , *= , /=, //= , **= , %== , &= ,|==, ^== , ~==, <<== , >>=\n",
    "\n",
    "# a =10\n",
    "# a += 2      a = a+2\n",
    "# print(a)\n"
   ]
  },
  {
   "cell_type": "code",
   "execution_count": 43,
   "id": "4e7462ee",
   "metadata": {},
   "outputs": [
    {
     "name": "stdout",
     "output_type": "stream",
     "text": [
      "True\n",
      "False\n",
      "True\n",
      "False\n"
     ]
    }
   ],
   "source": [
    "# Membership Operation -  in , not in \n",
    "# Always return Boolena values \n",
    "\n",
    "# Iterables - string , List, Tuple ,  dict, Set \n",
    "# Iterator Types - enumerate , zip ,  filter , map \n",
    "\n",
    "\n",
    "# my_str = 'peter piper picked a peck of pickled peppers'\n",
    "# my_lst = [1, 2, 3, 4, 5]\n",
    "# my_tpl = (10,20,30 ,40)\n",
    "# my_dict = {'name':'amit', 'age':30}\n",
    "\n",
    "# print('p' in my_str)\n",
    "# print('peter piper' in my_str)\n",
    "# print('peterpiper' in my_str)\n",
    "\n",
    "# print(5 in my_lst)\n",
    "\n",
    "# print(50 in my_tpl)\n",
    "# print('age' in my_dict)\n",
    "# print(30 in my_dict)"
   ]
  },
  {
   "cell_type": "code",
   "execution_count": 53,
   "id": "155bda91",
   "metadata": {},
   "outputs": [
    {
     "name": "stdout",
     "output_type": "stream",
     "text": [
      "<enumerate object at 0x000001B19BCD9B00> <class 'enumerate'>\n",
      "[(0, 'P'), (1, 'y'), (2, 't'), (3, 'h'), (4, 'o'), (5, 'n')]\n",
      "False\n"
     ]
    }
   ],
   "source": [
    "# e = enumerate('Python')\n",
    "# print(e, type(e))\n",
    "\n",
    "# print(list(e))\n",
    "\n",
    "# print((0,'P') in e)"
   ]
  },
  {
   "cell_type": "code",
   "execution_count": 55,
   "id": "6ba3e8ba",
   "metadata": {},
   "outputs": [
    {
     "name": "stdout",
     "output_type": "stream",
     "text": [
      "1862249134384\n",
      "1862249134384\n",
      "True\n",
      "True\n",
      "1862249134384\n"
     ]
    }
   ],
   "source": [
    "# a = 'Python'\n",
    "# b = 'Python'\n",
    "# print(id(a))\n",
    "# print(id(b))\n",
    "# print(a == b)\n",
    "# print(a is b)   # memory address is same so result is True\n",
    "# print(id(a))"
   ]
  },
  {
   "cell_type": "code",
   "execution_count": null,
   "id": "190657ea",
   "metadata": {},
   "outputs": [],
   "source": [
    "# why for below example getting different memory  address\n",
    "# INTEGER  CACHING \n",
    "# STRING INTERNING\n",
    "     # By using intern you ensure that you never create two string objects that have the same value \n",
    "     #  - when you request the creation of a second string object with the same value as an existing string object, \n",
    "     #   you receive a reference to the pre-existing string object. This way, you are saving memory.\n",
    "     #  String Interning is a process of storing only one copy of each distinct string value in memory.\n",
    "# OBJECT REUSABLITY "
   ]
  },
  {
   "cell_type": "code",
   "execution_count": 54,
   "id": "2054cbe9",
   "metadata": {},
   "outputs": [
    {
     "name": "stdout",
     "output_type": "stream",
     "text": [
      "1862334780336\n",
      "1862334640048\n",
      "True\n",
      "False\n",
      "1862334780336\n"
     ]
    }
   ],
   "source": [
    "# a = 'Python class' \n",
    "# b = 'Python class'\n",
    "# print(id(a))\n",
    "# print(id(b))\n",
    "# print(a == b)\n",
    "# print(a is b)   # memory address is different so result is False , because here in this case both variables a and b are \n",
    "                  # pointing to two different memory location , here String Intering is not applied may be because of diff \n",
    "                  # version of python .\n",
    "# print(id(a))"
   ]
  },
  {
   "cell_type": "code",
   "execution_count": 61,
   "id": "faeca852",
   "metadata": {},
   "outputs": [
    {
     "name": "stdout",
     "output_type": "stream",
     "text": [
      "enter the first no: 10\n",
      "enter the sec no: 12\n",
      "Greatest of two nos is :  12\n"
     ]
    }
   ],
   "source": [
    "# Ternary Operator  - expr1 if condn else expr2\n",
    "# expr1 if condn1 else expr2 if cond2 else expr3\n",
    "# We cannot use Ternary  Operator if we have multiple expresions(expr) for a given condn .\n",
    "\n",
    "# Python Ternary operator is used to select one of the two values based on a condition, it is a miniature of if-else statement\n",
    "# however here we can write the code in sinlge line.\n",
    "\n",
    "# Greatest Of two nos .\n",
    "# first_no = int(input('enter the first no: '))\n",
    "# sec_no = int(input('enter the sec no: '))\n",
    "# print(f'Greatest of two nos is : ', first_no if first_no > sec_no else sec_no )"
   ]
  },
  {
   "cell_type": "code",
   "execution_count": null,
   "id": "4c68f192",
   "metadata": {},
   "outputs": [],
   "source": [
    "# Operator Precedence \n",
    "\n",
    "# Operator*Meaning\n",
    "# ()                 ---                     "
   ]
  },
  {
   "cell_type": "code",
   "execution_count": 62,
   "id": "41fabb5e",
   "metadata": {},
   "outputs": [
    {
     "name": "stdout",
     "output_type": "stream",
     "text": [
      "(1+0j)\n"
     ]
    }
   ],
   "source": [
    "print(complex(True))"
   ]
  },
  {
   "cell_type": "code",
   "execution_count": 71,
   "id": "24e73713",
   "metadata": {},
   "outputs": [
    {
     "name": "stdout",
     "output_type": "stream",
     "text": [
      "This is documentation for f1\n"
     ]
    }
   ],
   "source": [
    "# Strings in Python  - '...' , \"....\" , '''....''' , \"\"\"....\"\"\"\n",
    "\n",
    "# my_str =  \"\"\"Amit\"\"\"\n",
    "# print(my_str , type(my_str))\n",
    "\n",
    "# print('This is Python\\'s class')\n",
    "# print(\"This is Python's class\")\n",
    "\n",
    "# my_str = 'This is Python\"s class'\n",
    "# print(my_str , type(my_str))\n",
    "\n",
    "# my_str = '''This is Python\"s clas's'''   # in case we have \" as well as ' in the string use '''...'''\n",
    "# print(my_str , type(my_str))\n",
    "\n",
    "# my_str = \"\"\"This is Python\"s clas's\"\"\"  # in case we have \" as well as ' in the string use \"\"\"....\"\"\"\n",
    "# print(my_str , type(my_str))\n",
    "\n",
    "# To write multi line string we use '''...'''\n",
    "# my_str= '''This \n",
    "# is\n",
    "# Python's\n",
    "# class'''\n",
    "# print(my_str , type(my_str))\n",
    "\n",
    "# To write the documentation \n",
    "\n",
    "# def f1():\n",
    "#     '''This is documentation for f1'''\n",
    "#     return 10\n",
    "\n",
    "# f1()\n",
    "# print(f1.__doc__)\n",
    "\n"
   ]
  },
  {
   "cell_type": "code",
   "execution_count": 95,
   "id": "a2c97814",
   "metadata": {},
   "outputs": [
    {
     "name": "stdout",
     "output_type": "stream",
     "text": [
      "Python\n",
      "Pto\n",
      "\n",
      "\n",
      "nohtyP\n",
      "Ti sPto ls\n",
      "sacnhy ish\n",
      "This is Python class\n",
      "ssalc nohtyP si sihT\n"
     ]
    }
   ],
   "source": [
    "# How string is stored in memory \n",
    " # At individual element level \n",
    " # Whole string object level \n",
    "\n",
    "# String supports +ve as well as -ve index\n",
    "  #   +ve index starts from 0 from LHS    step => +ve\n",
    "  #   -ve index starts from -1 from RHS   step => -ve (this is mandatory while Slicing in reverse direction)\n",
    "\n",
    "# Indexing , Slicing , Concatenation , repetition\n",
    "\n",
    "#Indexing -  Accessing one element at  at time.\n",
    "\n",
    "my_str = 'This is Python class'\n",
    "# print(my_str[0])\n",
    "# print(my_str[-len(my_str)])\n",
    "\n",
    "# print(my_str[19])\n",
    "# print(my_str[-1])\n",
    "# print(my_str[len(my_str)-1])\n",
    "\n",
    "\n",
    "#Slicing -  Accessing multiple elements at  at time.\n",
    "# string[start_index : stop_index+1 : step]\n",
    "\n",
    "print(my_str[8:14])  \n",
    "print(my_str[8:14:2])  \n",
    "\n",
    "print(my_str[-7:-13])  \n",
    "print(my_str[-7:-13:1])  \n",
    "  \n",
    "print(my_str[-7:-13:-1])\n",
    "\n",
    "print(my_str[::2])\n",
    "print(my_str[::-2])\n",
    "\n",
    "# Default step = 1\n",
    "# Default start = 0 , stop = len(my_str), step = +ve\n",
    "# Default start = -1 , stop = -len(my_str)-1, step = -ve\n",
    "# 'This is Python class'\n",
    "\n",
    "print(my_str[::])\n",
    "print(my_str[::-1])"
   ]
  },
  {
   "cell_type": "code",
   "execution_count": 99,
   "id": "6198ead7",
   "metadata": {},
   "outputs": [
    {
     "name": "stdout",
     "output_type": "stream",
     "text": [
      "Pythonclass\n"
     ]
    },
    {
     "ename": "TypeError",
     "evalue": "can only concatenate str (not \"int\") to str",
     "output_type": "error",
     "traceback": [
      "\u001b[1;31m---------------------------------------------------------------------------\u001b[0m",
      "\u001b[1;31mTypeError\u001b[0m                                 Traceback (most recent call last)",
      "Input \u001b[1;32mIn [99]\u001b[0m, in \u001b[0;36m<cell line: 5>\u001b[1;34m()\u001b[0m\n\u001b[0;32m      1\u001b[0m \u001b[38;5;66;03m# Concatenation '+' \u001b[39;00m\n\u001b[0;32m      2\u001b[0m \u001b[38;5;66;03m# Both operands should be string \u001b[39;00m\n\u001b[0;32m      4\u001b[0m \u001b[38;5;28mprint\u001b[39m(\u001b[38;5;124m'\u001b[39m\u001b[38;5;124mPython\u001b[39m\u001b[38;5;124m'\u001b[39m \u001b[38;5;241m+\u001b[39m \u001b[38;5;124m'\u001b[39m\u001b[38;5;124mclass\u001b[39m\u001b[38;5;124m'\u001b[39m)\n\u001b[1;32m----> 5\u001b[0m \u001b[38;5;28mprint\u001b[39m(\u001b[38;5;124;43m'\u001b[39;49m\u001b[38;5;124;43mPython\u001b[39;49m\u001b[38;5;124;43m'\u001b[39;49m\u001b[43m \u001b[49m\u001b[38;5;241;43m+\u001b[39;49m\u001b[43m \u001b[49m\u001b[38;5;241;43m1\u001b[39;49m)\n",
      "\u001b[1;31mTypeError\u001b[0m: can only concatenate str (not \"int\") to str"
     ]
    }
   ],
   "source": [
    "# String Concatenation '+' \n",
    "# Both operands should be string \n",
    "\n",
    "# print('Python' + 'class')\n",
    "# print('Python' + 1) # ERROR - can only concatenate str (not \"int\") to str "
   ]
  },
  {
   "cell_type": "code",
   "execution_count": 101,
   "id": "9c7f6c2d",
   "metadata": {},
   "outputs": [
    {
     "name": "stdout",
     "output_type": "stream",
     "text": [
      "PythonPythonPython\n"
     ]
    },
    {
     "ename": "TypeError",
     "evalue": "can't multiply sequence by non-int of type 'float'",
     "output_type": "error",
     "traceback": [
      "\u001b[1;31m---------------------------------------------------------------------------\u001b[0m",
      "\u001b[1;31mTypeError\u001b[0m                                 Traceback (most recent call last)",
      "Input \u001b[1;32mIn [101]\u001b[0m, in \u001b[0;36m<cell line: 5>\u001b[1;34m()\u001b[0m\n\u001b[0;32m      1\u001b[0m \u001b[38;5;66;03m# String Repetition * \u001b[39;00m\n\u001b[0;32m      2\u001b[0m \u001b[38;5;66;03m#  One Operand should be string and another should be int \u001b[39;00m\n\u001b[0;32m      4\u001b[0m \u001b[38;5;28mprint\u001b[39m(\u001b[38;5;124m'\u001b[39m\u001b[38;5;124mPython\u001b[39m\u001b[38;5;124m'\u001b[39m \u001b[38;5;241m*\u001b[39m \u001b[38;5;241m3\u001b[39m)\n\u001b[1;32m----> 5\u001b[0m \u001b[38;5;28mprint\u001b[39m(\u001b[38;5;124;43m'\u001b[39;49m\u001b[38;5;124;43mPython\u001b[39;49m\u001b[38;5;124;43m'\u001b[39;49m\u001b[43m \u001b[49m\u001b[38;5;241;43m*\u001b[39;49m\u001b[43m \u001b[49m\u001b[38;5;241;43m3.0\u001b[39;49m)\n",
      "\u001b[1;31mTypeError\u001b[0m: can't multiply sequence by non-int of type 'float'"
     ]
    }
   ],
   "source": [
    "# String Repetition * \n",
    "#  One Operand should be string and another should be int \n",
    "\n",
    "# print('Python' * 3)\n",
    "# print('Python' * 3.0) # ERROR - can't multiply sequence by non-int of type 'float' "
   ]
  },
  {
   "cell_type": "code",
   "execution_count": 102,
   "id": "da833947",
   "metadata": {},
   "outputs": [
    {
     "name": "stdout",
     "output_type": "stream",
     "text": [
      "['__add__', '__class__', '__contains__', '__delattr__', '__dir__', '__doc__', '__eq__', '__format__', '__ge__', '__getattribute__', '__getitem__', '__getnewargs__', '__gt__', '__hash__', '__init__', '__init_subclass__', '__iter__', '__le__', '__len__', '__lt__', '__mod__', '__mul__', '__ne__', '__new__', '__reduce__', '__reduce_ex__', '__repr__', '__rmod__', '__rmul__', '__setattr__', '__sizeof__', '__str__', '__subclasshook__', 'capitalize', 'casefold', 'center', 'count', 'encode', 'endswith', 'expandtabs', 'find', 'format', 'format_map', 'index', 'isalnum', 'isalpha', 'isascii', 'isdecimal', 'isdigit', 'isidentifier', 'islower', 'isnumeric', 'isprintable', 'isspace', 'istitle', 'isupper', 'join', 'ljust', 'lower', 'lstrip', 'maketrans', 'partition', 'removeprefix', 'removesuffix', 'replace', 'rfind', 'rindex', 'rjust', 'rpartition', 'rsplit', 'rstrip', 'split', 'splitlines', 'startswith', 'strip', 'swapcase', 'title', 'translate', 'upper', 'zfill']\n"
     ]
    }
   ],
   "source": [
    "# String Methods \n",
    "\n",
    "# print(dir(str))\n",
    "\n",
    "# 'capitalize', 'casefold', 'center', 'count', 'encode', 'endswith', 'expandtabs', 'find', 'format', \n",
    "# 'format_map', 'index', 'isalnum', 'isalpha', 'isascii', 'isdecimal', 'isdigit', 'isidentifier', 'islower', \n",
    "# 'isnumeric', 'isprintable', 'isspace', 'istitle', 'isupper', 'join', 'ljust', 'lower', 'lstrip', 'maketrans', \n",
    "# 'partition', 'removeprefix', 'removesuffix', 'replace', 'rfind', 'rindex', 'rjust', 'rpartition', 'rsplit', 'rstrip', \n",
    "# 'split', 'splitlines', 'startswith', 'strip', 'swapcase', 'title', 'translate', 'upper', 'zfill'\n",
    "\n",
    "\n",
    "# __xxx__ - these are called  'Magic Methods'/ Dunder internally used by Python for doing operation , \n",
    "# like when we do add operation '+' two  add two nos, then Python interanally calls __add__ method . \n",
    "\n",
    "# '__add__', '__class__', '__contains__', '__delattr__', '__dir__', '__doc__', '__eq__', '__format__', '__ge__', \n",
    "# '__getattribute__', '__getitem__', '__getnewargs__', '__gt__', '__hash__', '__init__', '__init_subclass__', '__iter__', \n",
    "# '__le__', '__len__', '__lt__', '__mod__', '__mul__', '__ne__', '__new__', '__reduce__', '__reduce_ex__', '__repr__', \n",
    "# '__rmod__', '__rmul__', '__setattr__', '__sizeof__', '__str__', '__subclasshook__'"
   ]
  },
  {
   "cell_type": "code",
   "execution_count": 116,
   "id": "9fd9ee9a",
   "metadata": {},
   "outputs": [
    {
     "name": "stdout",
     "output_type": "stream",
     "text": [
      "True\n",
      "False\n",
      "True\n",
      "True\n"
     ]
    }
   ],
   "source": [
    "# 'capitalize', 'casefold', title , swapcase \n",
    "\n",
    "# my_str = 'peter piper picked a peck of pickled peppers'\n",
    "# print(my_str.capitalize())  # Capitalize first letter of the string \n",
    "# print(my_str.title())       # Capitalize first letter of each word of the string \n",
    "\n",
    "# print(my_str.swapcase())\n",
    "\n",
    "# print(my_str.lower())\n",
    "# print(my_str.casefold())     # casefold method does same thing as lower method but is more aggresive \n",
    "\n",
    "# my_str = 'fließen'\n",
    "# print(my_str.lower())  \n",
    "# print(my_str.casefold())      # wherever we are expecting the input to be not in ASCII character there we can use \n",
    "                              # casefold() to convert the non-ASCII character to its lower case ASCII  equivalent\n",
    "    \n",
    "    \n",
    "# startswith \n",
    "my_str = 'peter piper picked a peck of pickled peppers'\n",
    "\n",
    "print(my_str.startswith('p'))\n",
    "print(my_str.startswith('pip'))\n",
    "print(my_str.startswith('pet'))\n",
    "print(my_str.startswith('p', 21, 30))\n"
   ]
  }
 ],
 "metadata": {
  "kernelspec": {
   "display_name": "Python 3 (ipykernel)",
   "language": "python",
   "name": "python3"
  },
  "language_info": {
   "codemirror_mode": {
    "name": "ipython",
    "version": 3
   },
   "file_extension": ".py",
   "mimetype": "text/x-python",
   "name": "python",
   "nbconvert_exporter": "python",
   "pygments_lexer": "ipython3",
   "version": "3.9.12"
  }
 },
 "nbformat": 4,
 "nbformat_minor": 5
}

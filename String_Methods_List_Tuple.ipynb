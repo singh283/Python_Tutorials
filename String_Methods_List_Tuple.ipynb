{
 "cells": [
  {
   "cell_type": "code",
   "execution_count": null,
   "id": "681fe002",
   "metadata": {},
   "outputs": [],
   "source": [
    "# Integer Caching \n",
    "# String Interning\n",
    "\n",
    "# Object Resusability (CPython)\n",
    "    # Integer => -5 to 256 \n",
    "    # String => A-Z, a-z , 0-9, _\n",
    "    # Boolean => True , False\n",
    "    # None\n"
   ]
  },
  {
   "cell_type": "code",
   "execution_count": 5,
   "id": "3120503e",
   "metadata": {},
   "outputs": [
    {
     "name": "stdout",
     "output_type": "stream",
     "text": [
      "21\n",
      "21\n"
     ]
    }
   ],
   "source": [
    "# String Methods:\n",
    "\n",
    "# find() - it returns the lowest index of the fisrt occurence of the matching substring into the main string .\n",
    "# IF substring is not found returns -1 \n",
    "\n",
    "# rfind() - it returns the hihgest index of the matching substring into the main string .\n",
    "# IF substring is not found returns -1 \n",
    "\n",
    "# my_str = 'peter piper picked a peck of pickled peppers'\n",
    "# print(my_str.find('p'))\n",
    "# print(my_str.find('z')) \n",
    "# print(my_str.find('peck'))\n",
    "\n",
    "# print(my_str.rfind('p'))\n",
    "# print(my_str.rfind('z')) \n",
    "# print(my_str.rfind('peck'))\n"
   ]
  },
  {
   "cell_type": "code",
   "execution_count": 8,
   "id": "a5341157",
   "metadata": {},
   "outputs": [
    {
     "name": "stdout",
     "output_type": "stream",
     "text": [
      "0\n",
      "21\n",
      "40\n",
      "21\n"
     ]
    }
   ],
   "source": [
    "# index() - it returns the lowest index of the fisrt occurence of the matching substring into the main string .\n",
    "# IF substring is not found returns valueError\n",
    "\n",
    "# rindex() - it returns the hihgest index of the matching substring into the main string .\n",
    "# IF substring is not found returns valueError\n",
    "\n",
    "\n",
    "# print(my_str.index('p'))\n",
    "# print(my_str.index('z')) \n",
    "# print(my_str.index('peck'))\n",
    "\n",
    "# print(my_str.rindex('p'))\n",
    "# print(my_str.rindex('z')) \n",
    "# print(my_str.rindex('peck'))"
   ]
  },
  {
   "cell_type": "markdown",
   "id": "6aefce17",
   "metadata": {},
   "source": [
    "As mentioned above if substring NOT found find returns -1 BUT index gives \"value Error\""
   ]
  },
  {
   "cell_type": "code",
   "execution_count": 10,
   "id": "87730505",
   "metadata": {},
   "outputs": [
    {
     "name": "stdout",
     "output_type": "stream",
     "text": [
      "9\n",
      "5\n",
      "1 2\n"
     ]
    }
   ],
   "source": [
    "# count()\n",
    "\n",
    "my_str = 'peter piper picked a peck of pickled peppers'\n",
    "print(my_str.count('p'))\n",
    "print(my_str.count('pe'))\n",
    "print(my_str.count('pe', 6 , 21), my_str.count('pi', 6 , 21))"
   ]
  },
  {
   "cell_type": "code",
   "execution_count": 18,
   "id": "258db7ed",
   "metadata": {},
   "outputs": [
    {
     "name": "stdout",
     "output_type": "stream",
     "text": [
      "Peter \u000b",
      "piper picked \n",
      "a peck of \tpickled peppers\n",
      "False\n",
      "Peter \\vpiper picked \\na peck of \\tpickled peppers\n",
      "True\n",
      "True\n"
     ]
    }
   ],
   "source": [
    "# isidentifier - True is string is valid identifier else False ( Gives - True in case of keyword)\n",
    "# isprintable - checks if all charatcers in a string are in printable format.\n",
    "\n",
    "my_str = 'Peter \\vpiper picked \\na peck of \\tpickled peppers'\n",
    "print(my_str)\n",
    "print(my_str.isprintable())  # since all characters are not printable \\v, \\n , \\t \n",
    "\n",
    "my_str = 'Peter \\\\vpiper picked \\\\na peck of \\\\tpickled peppers'\n",
    "print(my_str)\n",
    "print(my_str.isprintable()) # now it is printable as we have use '\\' character to  void there special behaviour.\n",
    "\n",
    "import keyword\n",
    "print(keyword.iskeyword('for'))\n",
    "\n",
    "\n"
   ]
  },
  {
   "cell_type": "code",
   "execution_count": 27,
   "id": "6dd25cd3",
   "metadata": {},
   "outputs": [
    {
     "name": "stdout",
     "output_type": "stream",
     "text": [
      "              Python\n",
      "**************Python\n",
      "Python++++++++++++++\n",
      "*******Python*******\n",
      "00000000000000Python\n",
      "00000000000000Python\n"
     ]
    }
   ],
   "source": [
    "# center , rjust, ljust , zfill - used for string formatting \n",
    "\n",
    "# my_str = 'Python'\n",
    "# print(my_str.rjust(20))\n",
    "# print(my_str.rjust(20, '*'))\n",
    "# print(my_str.ljust(20, '+'))\n",
    "# print(my_str.center(20, '*'))\n",
    "\n",
    "# print(my_str.zfill(20))\n",
    "# print(my_str.rjust(20, '0'))"
   ]
  },
  {
   "cell_type": "code",
   "execution_count": 29,
   "id": "74b1e70f",
   "metadata": {},
   "outputs": [
    {
     "name": "stdout",
     "output_type": "stream",
     "text": [
      "zeter zizer zicked a zeck of zickled zezzers\n",
      "zeter zizer zicked a zeck of pickled peppers\n"
     ]
    }
   ],
   "source": [
    "# strip , lstrip , rstrip -  Used to un-necessry spaces from ends of the string \n",
    "\n",
    "# replace - replace all the occurences of the substring from the string \n",
    "\n",
    "my_str = 'peter piper picked a peck of pickled peppers'\n",
    "\n",
    "# print(my_str.replace('p' , 'z'))\n",
    "# print(my_str.replace('p' , 'z', 5)) # replaces first 5  occurences  of the substring from the string"
   ]
  },
  {
   "cell_type": "code",
   "execution_count": 35,
   "id": "48eb79ea",
   "metadata": {},
   "outputs": [
    {
     "name": "stdout",
     "output_type": "stream",
     "text": [
      "['peter', 'piper', 'picked', 'a', 'peck', 'of', 'pickled', 'peppers']\n"
     ]
    },
    {
     "data": {
      "text/plain": [
       "'peterpiperpickedapeckofpickledpeppers'"
      ]
     },
     "execution_count": 35,
     "metadata": {},
     "output_type": "execute_result"
    }
   ],
   "source": [
    "# SPLIT <STRING SE LIST> , JOIN   <LIST SE STRING> \n",
    "# by default split method splits the string from spaces and returns a list.\n",
    "# and the split charcter will not be included in the rseult .\n",
    "\n",
    "my_str = 'peter piper picked a peck of pickled peppers'\n",
    "\n",
    "# print(my_str.split())\n",
    "# print(my_str.split('p'))\n",
    "\n",
    "# lst_split = my_str.split()\n",
    "# print(lst_split)\n",
    "\n",
    "# join method takes a list as an argument and returns a string .  \n",
    "# ' '.join(lst_split)\n",
    "# '-->'.join(lst_split)\n",
    "# ''.join(lst_split)"
   ]
  },
  {
   "cell_type": "code",
   "execution_count": 37,
   "id": "9a375ab0",
   "metadata": {},
   "outputs": [
    {
     "name": "stdout",
     "output_type": "stream",
     "text": [
      "('peter piper picked ', 'a', ' peck of pickled peppers')\n",
      "('peter', ' ', 'piper picked a peck of pickled peppers')\n"
     ]
    }
   ],
   "source": [
    "# Partition - retruns a TUPLE of three elements \n",
    "\n",
    "# first element -  is from begining to the partition character or word -1\n",
    "# second element - the partition character  or the word itself.\n",
    "# third element  - from partition charcter or word +1 till end \n",
    "\n",
    "# my_str = 'peter piper picked a peck of pickled peppers'\n",
    "# print(my_str.partition('a'))\n",
    "# print(my_str.partition(' '))"
   ]
  },
  {
   "cell_type": "code",
   "execution_count": 39,
   "id": "1a9aaa69",
   "metadata": {},
   "outputs": [
    {
     "name": "stdout",
     "output_type": "stream",
     "text": [
      "['peter piper picked ', 'a peck of pickled peppers']\n",
      "['peter piper picked ', 'a peck of ', 'pickled peppers']\n"
     ]
    }
   ],
   "source": [
    "# splitlines - returns a list of elements splitted from \\n\n",
    "\n",
    "# my_str = 'peter piper picked \\na peck of pickled peppers'\n",
    "# print(my_str.splitlines())\n",
    "\n",
    "# my_str = 'peter piper picked \\na peck of \\npickled peppers'\n",
    "# print(my_str.splitlines())"
   ]
  },
  {
   "cell_type": "code",
   "execution_count": 75,
   "id": "7f5628e3",
   "metadata": {},
   "outputs": [
    {
     "name": "stdout",
     "output_type": "stream",
     "text": [
      "sreppep delkcip fo kcep a dekcip repip retep\n",
      "retep repip dekcip a kcep fo delkcip sreppep\n",
      "retep repip dekcip a kcep fo delkcip sreppep\n",
      "reteP repiP dekciP A kceP fO delkciP sreppeP\n"
     ]
    },
    {
     "data": {
      "text/plain": [
       "['r-e-t-e-p',\n",
       " 'r-e-p-i-p',\n",
       " 'd-e-k-c-i-p',\n",
       " 'a',\n",
       " 'k-c-e-p',\n",
       " 'f-o',\n",
       " 'd-e-l-k-c-i-p',\n",
       " 's-r-e-p-p-e-p']"
      ]
     },
     "execution_count": 75,
     "metadata": {},
     "output_type": "execute_result"
    }
   ],
   "source": [
    "my_str = 'peter piper picked a peck of pickled peppers'\n",
    "\n",
    "print(my_str[::-1])\n",
    "\n",
    "# loop comprehension \n",
    "# out_str = [i[::-1] for i in my_str.split()]\n",
    "# print(' '.join(out_str))\n",
    "\n",
    "# print(' '.join([i[::-1] for i in my_str.split()]))\n",
    "\n",
    "\n",
    "# print(' '.join([i[::-1] for i in my_str.title().split()]))\n",
    "\n",
    "# ['-'.join(i[::-1]) for i in my_str.split()]"
   ]
  },
  {
   "cell_type": "code",
   "execution_count": 100,
   "id": "449d6ab3",
   "metadata": {},
   "outputs": [
    {
     "data": {
      "text/plain": [
       "[100, 200, 300, 400]"
      ]
     },
     "execution_count": 100,
     "metadata": {},
     "output_type": "execute_result"
    }
   ],
   "source": [
    "# List - Any value kept inside []\n",
    "# lst = [10, 10.20 , 10+20j , 'Python' , True , None ]\n",
    "# print(lst , type(lst))\n",
    "\n",
    "# List - Is a sequence \n",
    "    # List supprorts +ve and -ve indexing \n",
    "    # Indexing , Slicing , Concatenation , Repetition , len()\n",
    "    \n",
    "# List is a collection of heterogeneous data elements \n",
    "# List can have duplicate elements \n",
    "# List is mutuable type \n",
    "    # Allow the item assignment\n",
    "    # changes will be done in the same object.\n",
    "    \n",
    "\n",
    "# List Creation:\n",
    "\n",
    "# lst = [10, 10.20 , 10+20j , 'Python' , True , None ]\n",
    "# print(lst , type(lst))\n",
    "\n",
    "# using list(iterable) function :\n",
    "# Iterable - is any object which implements __iter__ method \n",
    "# print(dir(list))\n",
    "# print(dir(str))\n",
    "# print(dir(tuple))\n",
    "# print(dir(dict))\n",
    "\n",
    "# All above are iterables as they uses __iter__ method \n",
    "\n",
    "# lst1 = list(input('enter the list : '))  # this will turn the string each character  into individual element of the list.\n",
    "# print(lst1, type(lst1))\n",
    "\n",
    "# so we should eval here while taking input  as a list \n",
    "# lst1 = eval(input('enter the list : '))  \n",
    "# print(lst1, type(lst1))\n",
    "\n",
    "# lst1 = list('10,20,30,40')    # string as Iterable \n",
    "# print(lst1, type(lst1), id(lst1))\n",
    "\n",
    "# lst1 = list([10,20,30,40])   # list as Iterable \n",
    "# print(lst1, type(lst1), id(lst1))\n",
    "\n",
    "# lst1 = list((10,20,30,40))   # tuple as Iterable \n",
    "# print(lst1, type(lst1), id(lst1))\n",
    "\n",
    "# lst1 = list({1:100, 2:200, 3:300, 4:400})   # dict as Iterable \n",
    "# print(lst1, type(lst1))\n",
    "\n",
    "# Creating list using list comprehension \n",
    "# [expr for var in iterable if condn]\n",
    "\n",
    "\n",
    "# [ i*10 for i in range(1,5)]\n",
    "\n",
    "# my_str = 'Python'\n",
    "# [i for i in my_str]\n",
    "\n",
    "# [i for i in {1:100, 2:200, 3:300, 4:400}]\n",
    "\n",
    "# d = {1:100, 2:200, 3:300, 4:400}\n",
    "# [d[i] for i in d]"
   ]
  },
  {
   "cell_type": "code",
   "execution_count": 78,
   "id": "014aa61a",
   "metadata": {},
   "outputs": [
    {
     "name": "stdout",
     "output_type": "stream",
     "text": [
      "amit\n",
      "30\n"
     ]
    }
   ],
   "source": [
    "# eval - evaluates the expression  inside the quotes \n",
    "\n",
    "# print(eval(\"'am'+'it'\"))\n",
    "# print(eval(\"10+20\"))\n"
   ]
  },
  {
   "cell_type": "code",
   "execution_count": 106,
   "id": "f96717ce",
   "metadata": {},
   "outputs": [
    {
     "name": "stdout",
     "output_type": "stream",
     "text": [
      "[1, 2, 3, 4]\n",
      "[12, 14, 16, 18]\n",
      "[12, 11, 10, 9, 8, 7, 6, 5, 4, 3, 2, 1, 0, -1, -2, -3, -4, -5, -6, -7, -8, -9, -10, -11, -12, -13, -14, -15]\n",
      "[1, 2, 3, 4]\n"
     ]
    }
   ],
   "source": [
    "# range - Is a sequqnce \n",
    "# syntax - range(start , stop , step)\n",
    "\n",
    "# print(list(range(1,5)))\n",
    "# print(list(range(12,20, 2)))\n",
    "# print(list(range(12,-16, -1)))"
   ]
  },
  {
   "cell_type": "code",
   "execution_count": 121,
   "id": "f888c0c7",
   "metadata": {},
   "outputs": [
    {
     "name": "stdout",
     "output_type": "stream",
     "text": [
      "88\n"
     ]
    }
   ],
   "source": [
    "# Nested List:\n",
    "#  -6.   -5.     -4.       -3.        -2.    -1.\n",
    "# [10 , 10.20 , 30+40j , [1,2,3,4] , True , None]\n",
    "#  1.    2.      3.       4.          5.     6.\n",
    "    \n",
    "    \n",
    "# lst = [10 , 10.20 , 30+40j , [1,2,3,4] , True , None]\n",
    "# print(lst[3][1])\n",
    "\n",
    "# lst1 = [10, 33, 44, [52, 39 ,[23, 34, [99, 88, 77]]]]\n",
    "# print(lst1[3][-1][-1][1])"
   ]
  },
  {
   "cell_type": "code",
   "execution_count": 149,
   "id": "60ff338b",
   "metadata": {},
   "outputs": [
    {
     "name": "stdout",
     "output_type": "stream",
     "text": [
      "Before append  2002571998336\n",
      "after append  2002571998336 [10, 10.2, (30+40j), [1, 2, 3, 4], True, None, 111]\n",
      "[10, 10.2, (30+40j), [1, 2, 3, 4], True, None, ['a', 'b', 'c', 'd']]\n",
      "[10, 10.2, (30+40j), [1, 2, 3, 4], True, None, ['a', 'b', 'c', 'd'], 'a', 'b', 'c', 'd']\n"
     ]
    }
   ],
   "source": [
    "#  List Methods \n",
    "\n",
    "# print(dir(list))\n",
    "# 'append', 'clear', 'copy', 'count', 'extend', 'index', 'insert', 'pop', 'remove', 'reverse', 'sort'\n",
    "\n",
    "# adding elements to the list\n",
    "\n",
    "# Append -  adds the value to the end of the list .\n",
    "\n",
    "# lst =  [ 10 , 10.20 , 30+40j , [1,2,3,4] , True , None]\n",
    "# print('Before append ' , id(lst))\n",
    "# lst.append(111)\n",
    "# print('after append ' , id(lst), lst)\n",
    "\n",
    "# extend - extends a  list  to another  list \n",
    "# it adds elements individually inside the existing list \n",
    "\n",
    "# lst =  [ 10 , 10.20 , 30+40j , [1,2,3,4] , True , None]\n",
    "# lst1 = ['a','b','c','d']\n",
    "\n",
    "# lst.append(lst1)\n",
    "# print(lst)\n",
    "\n",
    "\n",
    "# lst2 = ['a','b','c','d']\n",
    "# lst.extend(lst2)\n",
    "\n",
    "# print(lst)\n"
   ]
  },
  {
   "cell_type": "code",
   "execution_count": 150,
   "id": "fd9ab49e",
   "metadata": {},
   "outputs": [
    {
     "name": "stdout",
     "output_type": "stream",
     "text": [
      "[10, 10.2, (30+40j), 111, [1, 2, 3, 4], True, None]\n"
     ]
    }
   ],
   "source": [
    "# insert(index ,value)\n",
    "\n",
    "lst = [ 10 , 10.20 , 30+40j , [1,2,3,4] , True , None]\n",
    "lst.insert(3, 111)\n",
    "print(lst)\n",
    "\n"
   ]
  },
  {
   "cell_type": "code",
   "execution_count": 159,
   "id": "b31c85b3",
   "metadata": {},
   "outputs": [
    {
     "name": "stdout",
     "output_type": "stream",
     "text": [
      "[]\n"
     ]
    }
   ],
   "source": [
    "# pop , remove , clear \n",
    "\n",
    "# pop() - removes the last element from  the list \n",
    "# returns index error if list is empty\n",
    "# it returns the values which has been removed\n",
    "\n",
    "# lst = [10,20,30,40]\n",
    "# lst.pop()\n",
    "# print(lst)\n",
    "\n",
    "# pop(ind) - removes the element specified at the given index\n",
    "# returns index error if list is empty or index does not exist\n",
    "# it returns the values which has been removed\n",
    "\n",
    "# lst = [ 10 , 10.20 , 30+40j , [1,2,3,4] , True , None]\n",
    "# lst.pop(2)\n",
    "# print(lst)\n",
    "\n",
    "\n",
    "# remove(val) - removes the first occurence of the value specified from the list\n",
    "# returns valueError if the value is not present in the list\n",
    "\n",
    "# lst = [ 10 , 10.20 , 30+40j , [1,2,3,4] , True , None , 10]\n",
    "# lst.remove(30+40j)\n",
    "# print(lst)\n",
    "\n",
    "# lst.remove(2)\n",
    "# print(lst)\n",
    "\n",
    "# lst.remove(10)\n",
    "# print(lst)\n",
    "\n",
    "# clear() - clears the list or deletes all the elements of the list\n",
    "# returns empty list \n",
    "\n",
    "# lst = [ 10 , 10.20 , 30+40j , [1,2,3,4] , True , None , 10]\n",
    "# lst.clear()\n",
    "# print(lst)"
   ]
  },
  {
   "cell_type": "code",
   "execution_count": 161,
   "id": "d95899fe",
   "metadata": {},
   "outputs": [
    {
     "name": "stdout",
     "output_type": "stream",
     "text": [
      "3\n",
      "2\n"
     ]
    }
   ],
   "source": [
    "# count(val) -  counts the no of occurence of the value in the list\n",
    "\n",
    "# lst = [10,20,30,  10, 40, 30,  50,60, 10]\n",
    "# print(lst.count(10))\n",
    "\n",
    "# index(val) - gives the index of the fisrt occurence of the element inside the list\n",
    "# gives valueError if the value is not present in the list\n",
    "# print(lst.index(30))"
   ]
  },
  {
   "cell_type": "code",
   "execution_count": 167,
   "id": "31c06a6a",
   "metadata": {},
   "outputs": [
    {
     "name": "stdout",
     "output_type": "stream",
     "text": [
      "[10, None, True, [1, 2, 3, 4], (30+40j), 10.2, 10]\n",
      "[10, 10, 10, 20, 30, 30, 40, 50, 60]\n",
      "[60, 50, 40, 30, 30, 20, 10, 10, 10]\n"
     ]
    }
   ],
   "source": [
    "# reverse - \n",
    "\n",
    "lst = [ 10 , 10.20 , 30+40j , [1,2,3,4] , True , None , 10]\n",
    "lst.reverse()\n",
    "print(lst)\n",
    "\n",
    "# lst.sort()\n",
    "# print(lst) # we get TypeError as  '<' not supported between instances of 'NoneType' and 'int' \n",
    "\n",
    "lst = [10,20,30,  10, 40, 30,  50,60, 10]\n",
    "lst.sort()  #  default - ascending order sorting \n",
    "print(lst)\n",
    "\n",
    "lst.sort(reverse = True)   #  Descending order \n",
    "print(lst)\n"
   ]
  },
  {
   "cell_type": "code",
   "execution_count": null,
   "id": "9af255e9",
   "metadata": {},
   "outputs": [],
   "source": [
    "# CORE PYTHON PROGRAMING by Nageswar Rao "
   ]
  }
 ],
 "metadata": {
  "kernelspec": {
   "display_name": "Python 3 (ipykernel)",
   "language": "python",
   "name": "python3"
  },
  "language_info": {
   "codemirror_mode": {
    "name": "ipython",
    "version": 3
   },
   "file_extension": ".py",
   "mimetype": "text/x-python",
   "name": "python",
   "nbconvert_exporter": "python",
   "pygments_lexer": "ipython3",
   "version": "3.9.12"
  }
 },
 "nbformat": 4,
 "nbformat_minor": 5
}

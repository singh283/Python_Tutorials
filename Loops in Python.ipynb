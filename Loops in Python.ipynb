{
 "cells": [
  {
   "cell_type": "code",
   "execution_count": null,
   "id": "1b8ae59f",
   "metadata": {},
   "outputs": [],
   "source": [
    "# Conditional statement in Python \n",
    "    # if elif else \n",
    "# Loops control in Python\n",
    "    # for , while \n",
    "    # break , continue"
   ]
  },
  {
   "cell_type": "code",
   "execution_count": 3,
   "id": "a6594236",
   "metadata": {},
   "outputs": [
    {
     "name": "stdout",
     "output_type": "stream",
     "text": [
      "first if block\n",
      "In Else block\n"
     ]
    }
   ],
   "source": [
    "# if 1:\n",
    "#     print('first if block')\n",
    "# if 0:\n",
    "#     print('second if block')\n",
    "# else:\n",
    "#     print('In Else block')\n",
    "\n",
    "# Here if the first if condn is True python will also check other subsequent if condn and \n",
    "# \"if the LAST if condn is not True then will also execute the else block corresponding to it  .\n",
    "    "
   ]
  },
  {
   "cell_type": "code",
   "execution_count": 4,
   "id": "34390327",
   "metadata": {},
   "outputs": [
    {
     "name": "stdout",
     "output_type": "stream",
     "text": [
      "first if block\n"
     ]
    }
   ],
   "source": [
    "# if 1:\n",
    "#     print('first if block')\n",
    "# elif 1:\n",
    "#     print('second if block')\n",
    "# else:\n",
    "#     print('In Else block')\n",
    "    \n",
    "# Here if the first if condn is True python will not check other elif (even if they are True) and the else construct  ."
   ]
  },
  {
   "cell_type": "code",
   "execution_count": 16,
   "id": "627d74a6",
   "metadata": {},
   "outputs": [
    {
     "name": "stdout",
     "output_type": "stream",
     "text": [
      "Enter the year  : 2020\n",
      "2020 is a leap year\n"
     ]
    }
   ],
   "source": [
    "# Laep Year \n",
    "\n",
    "#  if year is divisible by 100 then check if it is  also divisible by 400  - True - Leap year\n",
    "#  if year is divisible by 100 then check if it is not divisible by 400  - True - Not a Leap year\n",
    "#  if year is divisible by 100 then check if it is also divisible by 4  - True - Leap year\n",
    "\n",
    "# year = eval(input('Enter the year  : '))\n",
    "\n",
    "# if year%4 == 0 :\n",
    "#     if year%100 != 0:\n",
    "#         print(f'{year} is a leap year')\n",
    "#     elif year%100 == 0 :\n",
    "#         if year%400 == 0:\n",
    "#             print(f'{year} is a leap year')\n",
    "#         else:\n",
    "#             print(f'{year} is not a leap year')       \n",
    "# else:\n",
    "#     print(f'{year} is not a leap year')"
   ]
  },
  {
   "cell_type": "code",
   "execution_count": 13,
   "id": "3d541952",
   "metadata": {},
   "outputs": [
    {
     "name": "stdout",
     "output_type": "stream",
     "text": [
      "Enter the year  : 2000\n",
      "2000 is a leap year\n"
     ]
    }
   ],
   "source": [
    "# year = eval(input('Enter the year  : '))\n",
    "\n",
    "# if year%4 == 0 :\n",
    "#     if year%100 == 0 :\n",
    "#         if year%400 == 0:\n",
    "#             print(f'{year} is a leap year')\n",
    "#         else:\n",
    "#             print(f'{year} is not a leap year')\n",
    "#     else:\n",
    "#         print(f'{year} is a leap year')\n",
    "# else:\n",
    "#     print(f'{year} is not a leap year')"
   ]
  },
  {
   "cell_type": "code",
   "execution_count": 22,
   "id": "f26858f1",
   "metadata": {},
   "outputs": [
    {
     "name": "stdout",
     "output_type": "stream",
     "text": [
      "enter the letter : 'A'\n",
      "A is a vowel \n"
     ]
    }
   ],
   "source": [
    "#  WAP to check if the character input is a vowel or consonant \n",
    "\n",
    "# letter = eval(input('enter the letter : '))\n",
    "\n",
    "# if letter.lower() in ('a', 'e', 'i', 'o', 'u'):\n",
    "#     print(f'{letter} is a vowel ')\n",
    "# else:\n",
    "#     print(f'{letter} is a consonant ')"
   ]
  },
  {
   "cell_type": "code",
   "execution_count": 27,
   "id": "e6b31e70",
   "metadata": {},
   "outputs": [
    {
     "data": {
      "text/plain": [
       "'e'"
      ]
     },
     "execution_count": 27,
     "metadata": {},
     "output_type": "execute_result"
    }
   ],
   "source": [
    "False or 'e'"
   ]
  },
  {
   "cell_type": "code",
   "execution_count": 9,
   "id": "471fcc8d",
   "metadata": {},
   "outputs": [
    {
     "name": "stdout",
     "output_type": "stream",
     "text": [
      "enter the password: 'welcome123'\n",
      "This is 1 attempt \n",
      "password is not correct !!\n",
      "enter the password: 'Welcome123'\n",
      "This is 2 attempt \n",
      "password is correct ...\n"
     ]
    }
   ],
   "source": [
    "# Loops in Python \n",
    "\n",
    "# pass_store = 'Welcome123'\n",
    "\n",
    "# user_pass = eval(input('enter the password: '))\n",
    "\n",
    "# for i in range(0,3):\n",
    "#     if i <= 2 :\n",
    "#         print(f'This is {i+1} attempt ')\n",
    "#         if (user_pass == pass_store):\n",
    "#             print('password is correct ...')\n",
    "#             break\n",
    "#         else:\n",
    "#             print('password is not correct !!')\n",
    "#             user_pass = eval(input('enter the password: '))\n",
    "#     else:\n",
    "#         print('Sorry , You have exhausted all the Attempts !!') \n",
    "#         break     "
   ]
  },
  {
   "cell_type": "code",
   "execution_count": 31,
   "id": "a907d6a7",
   "metadata": {},
   "outputs": [
    {
     "name": "stdout",
     "output_type": "stream",
     "text": [
      "['__add__', '__class__', '__contains__', '__delattr__', '__dir__', '__doc__', '__eq__', '__format__', '__ge__', '__getattribute__', '__getitem__', '__getnewargs__', '__gt__', '__hash__', '__init__', '__init_subclass__', '__iter__', '__le__', '__len__', '__lt__', '__mod__', '__mul__', '__ne__', '__new__', '__reduce__', '__reduce_ex__', '__repr__', '__rmod__', '__rmul__', '__setattr__', '__sizeof__', '__str__', '__subclasshook__', 'capitalize', 'casefold', 'center', 'count', 'encode', 'endswith', 'expandtabs', 'find', 'format', 'format_map', 'index', 'isalnum', 'isalpha', 'isascii', 'isdecimal', 'isdigit', 'isidentifier', 'islower', 'isnumeric', 'isprintable', 'isspace', 'istitle', 'isupper', 'join', 'ljust', 'lower', 'lstrip', 'maketrans', 'partition', 'removeprefix', 'removesuffix', 'replace', 'rfind', 'rindex', 'rjust', 'rpartition', 'rsplit', 'rstrip', 'split', 'splitlines', 'startswith', 'strip', 'swapcase', 'title', 'translate', 'upper', 'zfill']\n"
     ]
    }
   ],
   "source": [
    "# Iterable - any object that implements __iter__ function \n",
    "\n",
    "# print(dir(str))"
   ]
  },
  {
   "cell_type": "code",
   "execution_count": 20,
   "id": "3275e1f3",
   "metadata": {},
   "outputs": [
    {
     "name": "stdout",
     "output_type": "stream",
     "text": [
      "[0, 1, 2, 3, 4, 5, 6, 7, 8, 9]\n",
      "[11, 12, 13, 14, 15, 16, 17, 18, 19]\n",
      "[]\n",
      "[20, 19, 18, 17, 16, 15, 14, 13, 12]\n",
      "[0, 1, 2, 3, 4, 5]\n"
     ]
    }
   ],
   "source": [
    "# range(start , stop , step)\n",
    "# generates a seq of nos from start to stop(exclusive) \n",
    "\n",
    "# start = 0 , step = 1 \n",
    "\n",
    "#step - +ve then generates the seq of no in forward direction ----------->\n",
    "#step - -ve then generates the seq of no in backward direction ----------->\n",
    "\n",
    "# print(list(range(10)))\n",
    "# print(list(range(11,20, 1)))\n",
    "# print(list(range(11,20, -1)))\n",
    "# print(list(range(20,11, -1)))\n",
    "\n",
    "# my_str = 'Python'    \n",
    "# print(list(range(len(my_str))))"
   ]
  },
  {
   "cell_type": "code",
   "execution_count": 15,
   "id": "717b72c2",
   "metadata": {},
   "outputs": [
    {
     "name": "stdout",
     "output_type": "stream",
     "text": [
      "0\n",
      "0\n",
      "0\n",
      "1\n",
      "2\n",
      "1\n",
      "2\n",
      "4\n",
      "4\n",
      "3\n",
      "6\n",
      "9\n",
      "4\n",
      "8\n",
      "16\n"
     ]
    }
   ],
   "source": [
    "# for i in range(5):\n",
    "#     print(i)\n",
    "#     print(i*2)\n",
    "#     print(i**2)"
   ]
  },
  {
   "cell_type": "code",
   "execution_count": 37,
   "id": "0f4b26b8",
   "metadata": {},
   "outputs": [
    {
     "name": "stdout",
     "output_type": "stream",
     "text": [
      "P\n",
      "\n",
      "y\n",
      "\n",
      "t\n",
      "\n",
      "h\n",
      "\n",
      "o\n",
      "\n",
      "n\n",
      "\n",
      "=================\n",
      "\n",
      "0\n",
      "\n",
      "P\n",
      "1\n",
      "\n",
      "y\n",
      "2\n",
      "\n",
      "t\n",
      "3\n",
      "\n",
      "h\n",
      "4\n",
      "\n",
      "o\n",
      "5\n",
      "\n",
      "n\n",
      "=================\n",
      "\n",
      "-1\n",
      "\n",
      "n\n",
      "-2\n",
      "\n",
      "o\n",
      "-3\n",
      "\n",
      "h\n",
      "-4\n",
      "\n",
      "t\n",
      "-5\n",
      "\n",
      "y\n",
      "-6\n",
      "\n",
      "P\n",
      "=================\n",
      "\n",
      "1\n",
      "\n",
      "2\n",
      "\n",
      "3\n",
      "\n",
      "4\n",
      "\n",
      "=================\n",
      "\n",
      "1\n",
      "\n",
      "2\n",
      "\n",
      "3\n",
      "\n",
      "4\n",
      "\n",
      "=================\n",
      "\n",
      "1\n",
      "\n",
      "2\n",
      "\n",
      "3\n",
      "\n",
      "4\n",
      "\n",
      "=================\n",
      "\n",
      "1\n",
      "100\n",
      "2\n",
      "200\n",
      "3\n",
      "300\n",
      "4\n",
      "400\n",
      "P\n",
      "\n",
      "y\n",
      "\n",
      "t\n",
      "\n",
      "h\n",
      "\n",
      "o\n",
      "\n",
      "n\n",
      "\n"
     ]
    }
   ],
   "source": [
    "# for i  in 'Python':\n",
    "#     print(i)\n",
    "#     print()\n",
    "\n",
    "# print('=================\\n')\n",
    "\n",
    "\n",
    "# my_str = 'Python'    \n",
    "# for i in range(len(my_str)):\n",
    "#     print(i)\n",
    "#     print()\n",
    "#     print(my_str[i])\n",
    "\n",
    "# print('=================\\n')\n",
    "\n",
    "# my_str = 'Python'    \n",
    "# for i in range(-1 , -len(my_str)-1, -1):\n",
    "#     print(i)\n",
    "#     print()\n",
    "#     print(my_str[i])\n",
    "\n",
    "    \n",
    "# print('=================\\n')\n",
    "\n",
    "\n",
    "# for i in (1,2,3,4):\n",
    "#     print(i)\n",
    "#     print()\n",
    "    \n",
    "    \n",
    "# print('=================\\n')\n",
    "\n",
    "\n",
    "# for i in [1,2,3,4]:\n",
    "#     print(i)\n",
    "#     print()\n",
    "    \n",
    "# print('=================\\n')\n",
    "\n",
    "\n",
    "# for i in {1:100,2:200,3:300,4:400}:\n",
    "#     print(i)\n",
    "#     print()  \n",
    "    \n",
    "    \n",
    "# print('=================\\n')\n",
    "\n",
    "# d = {1:100,2:200,3:300,4:400}\n",
    "# for i in d:\n",
    "#     print(i)\n",
    "#     print(d[i]) \n",
    "    \n",
    "    \n",
    "# my_str = 'Python'    \n",
    "# for i in my_str:\n",
    "#     print(i)\n",
    "#     print()   "
   ]
  },
  {
   "cell_type": "code",
   "execution_count": 39,
   "id": "470a6aab",
   "metadata": {},
   "outputs": [
    {
     "name": "stdout",
     "output_type": "stream",
     "text": [
      "(0, 'P') <class 'tuple'>\n",
      "\n",
      "(1, 'y') <class 'tuple'>\n",
      "\n",
      "(2, 't') <class 'tuple'>\n",
      "\n",
      "(3, 'h') <class 'tuple'>\n",
      "\n",
      "(4, 'o') <class 'tuple'>\n",
      "\n",
      "(5, 'n') <class 'tuple'>\n",
      "\n"
     ]
    }
   ],
   "source": [
    "#Enumerate - gives index and the value at the index in \n",
    "# enumerate(iterable, start=0)\n",
    "# iterable - a sequence, an iterator, or objects that supports iteration\n",
    "# start – is the position in the iterator from where the counting starts.\n",
    "# Default is 0.\n",
    "# returns a TUPLE consisting of index and the value at that index \n",
    "\n",
    "# for i  in enumerate('Python'):\n",
    "#     print(i, type(i))\n",
    "#     print()"
   ]
  },
  {
   "cell_type": "code",
   "execution_count": 4,
   "id": "a727e74e",
   "metadata": {},
   "outputs": [
    {
     "name": "stdout",
     "output_type": "stream",
     "text": [
      "enter the password: jklnbk\n",
      "The password is incorrect !!\n",
      "Re-enter the correct password ... \n",
      "Python123\n",
      "The password is correct\n"
     ]
    }
   ],
   "source": [
    "# While loop \n",
    "\n",
    "# orig_pwd = 'Python123'\n",
    "# user_pwd = input('enter the password: ')\n",
    "\n",
    "# while orig_pwd != user_pwd:\n",
    "#     print('The password is incorrect !!')\n",
    "#     print('Re-enter the correct password ... ')\n",
    "#     user_pwd = input()\n",
    "# else:\n",
    "#     print('The password is correct')"
   ]
  },
  {
   "cell_type": "code",
   "execution_count": 19,
   "id": "546d069d",
   "metadata": {},
   "outputs": [
    {
     "name": "stdout",
     "output_type": "stream",
     "text": [
      "enter the number: 98765\n",
      "35\n"
     ]
    }
   ],
   "source": [
    "#  Take a num as input and find the sum of it's digits\n",
    "\n",
    "# input_num = input('enter the number: ')\n",
    "# str_len = len(input_num)\n",
    "# res = 0\n",
    "\n",
    "# while str_len > 0:\n",
    "    \n",
    "#     res += eval(input_num[str_len -1])\n",
    "#     str_len -= 1\n",
    "\n",
    "\n",
    "# print(res)   "
   ]
  },
  {
   "cell_type": "code",
   "execution_count": 37,
   "id": "c3c5ee38",
   "metadata": {},
   "outputs": [
    {
     "name": "stdout",
     "output_type": "stream",
     "text": [
      "enter the number: 5\n",
      "120\n"
     ]
    }
   ],
   "source": [
    "# factorial of a no \n",
    "\n",
    "# input_num = int(input('enter the number: '))\n",
    "# res = 1\n",
    "\n",
    "# for i in range(1, input_num + 1):\n",
    "#         res *= i\n",
    "# print(res)  \n",
    "\n",
    "\n",
    "# input_num = int(input('enter the number: '))\n",
    "# res = 1\n",
    "\n",
    "# for i in range(1, input_num + 1):\n",
    "#         res *= i\n",
    "# print(res)  "
   ]
  },
  {
   "cell_type": "code",
   "execution_count": 38,
   "id": "ef599fd0",
   "metadata": {},
   "outputs": [
    {
     "name": "stdout",
     "output_type": "stream",
     "text": [
      "enter the string : This is Python Class\n",
      "ssalC nohtyP si sihT\n"
     ]
    }
   ],
   "source": [
    "#  Take a string from user  and reverse it using loop  \n",
    "\n",
    "# input_str = input('enter the string : ')\n",
    "# str_len = len(input_str)\n",
    "# reverse_str = '' \n",
    "\n",
    "# while str_len > 0:\n",
    "#     reverse_str += input_str[str_len-1]\n",
    "#     str_len -= 1\n",
    "\n",
    "# print(reverse_str)"
   ]
  },
  {
   "cell_type": "code",
   "execution_count": 42,
   "id": "a6af6a1e",
   "metadata": {},
   "outputs": [
    {
     "name": "stdout",
     "output_type": "stream",
     "text": [
      "0\n",
      "1\n",
      "2\n",
      "3\n",
      "4\n",
      "5\n",
      "7\n",
      "8\n",
      "9\n"
     ]
    }
   ],
   "source": [
    "# continue -  skips the current iteration  \n",
    "\n",
    "# lst =  list(range(10))\n",
    "\n",
    "# for i in lst:\n",
    "#     if i == 6:\n",
    "#         continue\n",
    "#     else:\n",
    "#         print(i)\n"
   ]
  }
 ],
 "metadata": {
  "kernelspec": {
   "display_name": "Python 3 (ipykernel)",
   "language": "python",
   "name": "python3"
  },
  "language_info": {
   "codemirror_mode": {
    "name": "ipython",
    "version": 3
   },
   "file_extension": ".py",
   "mimetype": "text/x-python",
   "name": "python",
   "nbconvert_exporter": "python",
   "pygments_lexer": "ipython3",
   "version": "3.9.12"
  }
 },
 "nbformat": 4,
 "nbformat_minor": 5
}

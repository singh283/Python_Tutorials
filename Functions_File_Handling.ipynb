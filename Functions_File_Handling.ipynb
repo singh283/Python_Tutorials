{
 "cells": [
  {
   "cell_type": "code",
   "execution_count": 7,
   "id": "b48b2379",
   "metadata": {},
   "outputs": [
    {
     "name": "stdout",
     "output_type": "stream",
     "text": [
      "['This', 'is', 'Python', 'Class'] <class 'list'> 4\n",
      "Class Python is This\n"
     ]
    }
   ],
   "source": [
    "# in_str = 'This is Python Class'\n",
    "# lst = []\n",
    "\n",
    "# lst = list(in_str.split())\n",
    "\n",
    "# print(lst, type(lst) , len(lst))\n",
    "\n",
    "# out_str = str(' '.join(lst[::-1]))\n",
    "\n",
    "# print(out_str)"
   ]
  },
  {
   "cell_type": "code",
   "execution_count": 42,
   "id": "6e309c34",
   "metadata": {},
   "outputs": [
    {
     "name": "stdout",
     "output_type": "stream",
     "text": [
      "ssalC nohtyP si sihT\n"
     ]
    }
   ],
   "source": [
    "# in_str = 'This is Python Class'\n",
    "# lst = []\n",
    "# out_str = '' \n",
    "\n",
    "# for i  in range(len(in_str)):\n",
    "#     if in_str[i] == ' ' :\n",
    "#         out_str = ' ' + out_str\n",
    "#     else:\n",
    "#         out_str = in_str[i] + out_str\n",
    "        \n",
    "# print(out_str)"
   ]
  },
  {
   "cell_type": "code",
   "execution_count": 12,
   "id": "14df4bf8",
   "metadata": {},
   "outputs": [
    {
     "name": "stdout",
     "output_type": "stream",
     "text": [
      "['ssalC', 'nohtyP', 'si', 'sihT']\n",
      "sihT si nohtyP ssalC\n"
     ]
    }
   ],
   "source": [
    "# in_str = 'This is Python Class'\n",
    "# out_str = '' \n",
    "# out_lst = [] \n",
    "\n",
    "\n",
    "# for i  in range(-1, -len(in_str)-1, -1):\n",
    "#     if in_str[i] == ' ' :\n",
    "#         out_lst.append(out_str)\n",
    "#         out_str= ''\n",
    "#     else:\n",
    "#         out_str = out_str + in_str[i] \n",
    "\n",
    "# out_lst.append(out_str)\n",
    "# print(out_lst)\n",
    "\n",
    "# out_lst = str(' '.join(out_lst[::-1]))\n",
    "        \n",
    "# print(out_lst)"
   ]
  },
  {
   "cell_type": "code",
   "execution_count": 7,
   "id": "20cf812a",
   "metadata": {},
   "outputs": [
    {
     "name": "stdout",
     "output_type": "stream",
     "text": [
      "['This', 'is', 'Python', 'Class']\n",
      "Class Python is This\n"
     ]
    }
   ],
   "source": [
    "# in_str = 'This is Python Class'\n",
    "# out_str = '' \n",
    "# out_lst = [] \n",
    "\n",
    "\n",
    "# for i  in range(len(in_str)):\n",
    "#     if in_str[i] == ' ' :\n",
    "#         out_lst.append(out_str)\n",
    "#         out_str= ''\n",
    "#     else:\n",
    "#         out_str = out_str + in_str[i] \n",
    "\n",
    "# out_lst.append(out_str)\n",
    "# print(out_lst)\n",
    "\n",
    "# out_lst = str(' '.join(out_lst[::-1]))\n",
    "        \n",
    "# print(out_lst)"
   ]
  },
  {
   "cell_type": "code",
   "execution_count": 14,
   "id": "e9f6084a",
   "metadata": {},
   "outputs": [
    {
     "name": "stdout",
     "output_type": "stream",
     "text": [
      "['sihT', 'si', 'nohtyP', 'ssalC']\n",
      "ssalC nohtyP si sihT\n"
     ]
    }
   ],
   "source": [
    "# in_str = 'This is Python Class'\n",
    "# out_str = '' \n",
    "# out_lst = [] \n",
    "\n",
    "\n",
    "# for i  in range(len(in_str)):\n",
    "#     if in_str[i] == ' ' :\n",
    "#         out_lst.append(out_str)\n",
    "#         out_str= ''\n",
    "#     else:\n",
    "#         out_str = in_str[i] + out_str\n",
    "\n",
    "# out_lst.append(out_str)\n",
    "# print(out_lst)\n",
    "\n",
    "# out_lst = str(' '.join(out_lst[::-1]))\n",
    "        \n",
    "# print(out_lst)"
   ]
  },
  {
   "cell_type": "code",
   "execution_count": 1,
   "id": "234eab90",
   "metadata": {},
   "outputs": [
    {
     "name": "stdout",
     "output_type": "stream",
     "text": [
      "__name__ is : sqrt\n",
      "Enter the number: 25\n",
      "sqrt of 25  is :  5.0\n",
      "__main__\n"
     ]
    }
   ],
   "source": [
    "# import sqrt\n",
    "# print(__name__)\n",
    "\n",
    "# when we are importing any python script (module) in current module and if the import module has any  executable code whicc is \n",
    "#  not written within __main__ namespace then it gets executed because after importing that  module is running under current namespace\n",
    "# and here in this current module that value of __name__ is '__main__'\n",
    "\n",
    "# However if we want that  while imporitng the required module into current module it should not execute the executable code \n",
    "# while importing we need to put the executable statements and function calling  inside __name__ = '__main__' block"
   ]
  },
  {
   "cell_type": "code",
   "execution_count": 6,
   "id": "579d9f83",
   "metadata": {},
   "outputs": [
    {
     "name": "stdout",
     "output_type": "stream",
     "text": [
      "__main__\n"
     ]
    }
   ],
   "source": [
    "# import sqrt_dup\n",
    "\n",
    "# print(__name__)\n",
    "\n",
    "# here we have put all the executable statements and function calling  inside __name__ = '__main__' block so while importing this \n",
    "# module here it is not excuting the statements and excutables \n",
    "\n",
    "# Because inside that module(\"sqrt_dup\") the value of __name__ is the file name and not __main__ so enclosing statements \n",
    "# are  not executed .\n",
    "\n",
    "# however  if we copy+paste the complete code from that module OR remove the condition \n",
    "# if __name__ == '__main__'  \n",
    "# then it will start executing because the code will be excuting under current module and here the value of __name__ is '_main_'"
   ]
  },
  {
   "cell_type": "code",
   "execution_count": 4,
   "id": "0497540c",
   "metadata": {},
   "outputs": [
    {
     "name": "stdout",
     "output_type": "stream",
     "text": [
      "__name__ is : __main__\n",
      "Enter the number: 25\n",
      "sqrt of 25  is :  5.0\n"
     ]
    }
   ],
   "source": [
    "# from math import sqrt\n",
    "\n",
    "\n",
    "# def find_sqrt(num):\n",
    "# \tres =  sqrt(num)\n",
    "# \tprint(f'sqrt of {num}  is : ' , res)\n",
    "\n",
    "# print('__name__ is :', __name__)\n",
    "\n",
    "\n",
    "# if __name__ == '__main__':\n",
    "#     num = eval(input('Enter the number: '))\n",
    "#     find_sqrt(num)"
   ]
  },
  {
   "cell_type": "code",
   "execution_count": null,
   "id": "26a50cfc",
   "metadata": {},
   "outputs": [],
   "source": [
    "# file handling in Python \n",
    "\n",
    "# Types of file \n",
    "#     1.Text file \n",
    "#     2.Binary file \n",
    "    \n",
    "# f = open('file_name.ext',  mode )\n",
    "# f.read()\n",
    "# f.write()\n",
    "# f.close()\n",
    "\n",
    "# In above case file needs to be closed at the end of the program else it will throw the error.\n",
    "\n",
    "\n",
    "# with open('file_name.ext',  mode ) as f: \n",
    "#     f.read()\n",
    "#     f.write()\n",
    "    \n",
    "    \n",
    "# In case of with even if the file is not closed at the end of program , it will be handled automatically.\n"
   ]
  },
  {
   "cell_type": "code",
   "execution_count": null,
   "id": "172af98e",
   "metadata": {},
   "outputs": [],
   "source": [
    "#  Modes of opereation in text files :\n",
    "\n",
    "# read  - r\n",
    "# write - w\n",
    "# read and write -  r+\n",
    "# write and read - w+\n",
    "# append - a+\n",
    "# append and read - a+\n",
    "\n",
    "#  Modes of operation in Binary files:\n",
    "\n",
    "# read  - rb\n",
    "# write - wb\n",
    "# read and write -  r+b\n",
    "# write and read - w+b\n",
    "# append - a+b\n",
    "# append and read - a+b\n"
   ]
  },
  {
   "cell_type": "code",
   "execution_count": 19,
   "id": "d0018c44",
   "metadata": {},
   "outputs": [
    {
     "name": "stdout",
     "output_type": "stream",
     "text": [
      "Cursor position just after opening the file :  0\n",
      "Copy of the Certificate from Financial Institution for the interest payable on Housing \n",
      "loan giving the break up of interest and principal repayment for the current financial \n",
      "year 2022-23 and the date of loan sanction.\n",
      "\n",
      "SSY passbook copy for the deposit made in the FY2022-23.\n",
      "\n",
      "LIC premium receipt for FY2022-23.\n",
      "\n",
      "Tuition fees paid during the FY2022-23, admission fees and  donations are not considered for Tax exemption.\n",
      "\n",
      "Medical insurance premium paid  during the FY2022-23 under sec 80D for tax exemption.\n",
      "Cursor position after reading the whole file :  509\n"
     ]
    }
   ],
   "source": [
    "# File object considers the content of the file as a string .\n",
    "\n",
    "#  read  - r\n",
    "\n",
    "# If the file exist then it will open the file in read mode and places the cursor at the begining of the file .\n",
    "# If the file does not exist it will throw 'filenotfound' error.\n",
    "# In this mode you are only  allowed to read the file .\n",
    "\n",
    "# with open('file.py' , 'r') as f:    FileNotFoundError: [Errno 2] No such file or directory: 'file.py'\n",
    "#     f.read()\n",
    "\n",
    "# with open('Tax_proof.txt' , 'r') as f:\n",
    "#     print('Cursor position just after opening the file : ', f.tell())\n",
    "#     print(f.read())\n",
    "#     print('Cursor position after reading the whole file : ', f.tell())  \n",
    "\n",
    "    \n",
    "# So there are 218 characters in this file "
   ]
  },
  {
   "cell_type": "code",
   "execution_count": 23,
   "id": "c700f118",
   "metadata": {},
   "outputs": [
    {
     "name": "stdout",
     "output_type": "stream",
     "text": [
      "Cursor position just after opening the file :  0\n",
      "Copy of the Certificate from Financial Institution for the interest payable on Housing \n",
      "loan giving the break up of interest and principal repayment for the current financial \n",
      "year 2022-23 and the date of loan sanction.\n",
      "\n",
      "SSY passbook copy for the deposit made in the FY2022-23.\n",
      "\n",
      "LIC premium receipt for FY2022-23.\n",
      "\n",
      "Tuition fees paid during the FY2022-23, admission fees and  donations are not considered for Tax exemption.\n",
      "\n",
      "Medical insurance premium paid  during the FY2022-23 under sec 80D for tax exemption.\n",
      "Cursor position after reading the whole file :  509\n",
      "cial Institution for the interest payable on Housing \n",
      "loan giving the break up of interest and principal repayment for the current financial \n",
      "year 2022-23 and the date of loan sanction.\n",
      "\n",
      "SSY passbook copy for the deposit made in the FY2022-23.\n",
      "\n",
      "LIC premium receipt for FY2022-23.\n",
      "\n",
      "Tuition fees paid during the FY2022-23, admission fees and  donations are not considered for Tax exemption.\n",
      "\n",
      "Medical insurance premium paid  during the FY2022-23 under sec 80D for tax exemption.\n",
      " ***** End ******* \n"
     ]
    }
   ],
   "source": [
    "#  read an write  - r+\n",
    "\n",
    "# If the file exist then it will open the file in read mode and places the cursor at the begining of the file .\n",
    "# If the file does not exist it will throw 'filenotfound' error.\n",
    "# In this mode you are only  allowed to read and write the file .\n",
    "\n",
    "\n",
    "\n",
    "# with open('Tax_proof.txt' , 'r+') as f:\n",
    "#     print('Cursor position just after opening the file : ', f.tell())\n",
    "#     print(f.read())\n",
    "#     print('Cursor position after reading the whole file : ', f.tell())  \n",
    "#     f.write('\\n ***** End ******* ')\n",
    "#     f.seek(0)   # This will place the curor at the begining of the file and if we write any content after it file content \n",
    "#                 # will be overwritten with whatever content we want to write in the file.\n",
    "#     f.write('Tax Proof Submission Guidelines \\n') \n",
    "#     print(f.read())"
   ]
  },
  {
   "cell_type": "code",
   "execution_count": 5,
   "id": "a06586e0",
   "metadata": {},
   "outputs": [
    {
     "name": "stdout",
     "output_type": "stream",
     "text": [
      "Cursor position just after opening the file :  0\n",
      "Cursor position after reading the whole file :  0\n"
     ]
    }
   ],
   "source": [
    "# with open('Tax_proof.txt' , 'r+') as f:\n",
    "#     print('Cursor position just after opening the file : ', f.tell())\n",
    "#     print('Cursor position after reading the whole file : ', f.tell())  \n",
    "#     f.read()\n",
    "#     f.write('\\n ***** End ******* ')\n",
    "#     f.seek(0)\n",
    "#     f.write('Tax Proof Submission Guidelines\\n' + content) \n",
    "# #     print(f.read())"
   ]
  },
  {
   "cell_type": "code",
   "execution_count": 7,
   "id": "d68e7cfc",
   "metadata": {},
   "outputs": [
    {
     "name": "stdout",
     "output_type": "stream",
     "text": [
      "Cursor position just after opening the file :  0\n",
      "Cursor position after reading the whole file :  0\n"
     ]
    }
   ],
   "source": [
    "#  write  - w\n",
    "\n",
    "# If the file exist then it will open the file in write mode and DELETES the content of the file and overw\n",
    "# If the file does not exist it will give a new name to the file \n",
    "# In this mode you are only  allowed to write and not read the file .\n",
    "\n",
    "\n",
    "# with open('Tax_proof.txt' , 'w') as f:\n",
    "#     print('Cursor position just after opening the file : ', f.tell())\n",
    "#     print('Cursor position after reading the whole file : ', f.tell())  \n",
    "#     f.read()   # UnsupportedOperation: not readable and THE CONTENT OF THE FILE IS DELETED , will now have empty file \n",
    "#     f.write('\\n ***** End ******* ')\n",
    "    \n",
    "    \n",
    "    \n",
    "# with open('Tax_proof.txt' , 'w') as f:\n",
    "#     print('Cursor position just after opening the file : ', f.tell())\n",
    "#     print('Cursor position after reading the whole file : ', f.tell())  \n",
    "#     f.write('\\n ***** End ******* ')\n",
    "\n",
    "\n",
    "\n",
    "#  write and read mode  - w+\n",
    "\n",
    "# If the file exist then it will open the file in write mode and DELETES the content of the file and overw\n",
    "# If the file does not exist it will give a new name to the file \n",
    "# In this mode you are only  allowed to write and read the file ."
   ]
  }
 ],
 "metadata": {
  "kernelspec": {
   "display_name": "Python 3 (ipykernel)",
   "language": "python",
   "name": "python3"
  },
  "language_info": {
   "codemirror_mode": {
    "name": "ipython",
    "version": 3
   },
   "file_extension": ".py",
   "mimetype": "text/x-python",
   "name": "python",
   "nbconvert_exporter": "python",
   "pygments_lexer": "ipython3",
   "version": "3.9.12"
  }
 },
 "nbformat": 4,
 "nbformat_minor": 5
}

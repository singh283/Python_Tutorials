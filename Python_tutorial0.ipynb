{
 "cells": [
  {
   "cell_type": "code",
   "execution_count": null,
   "id": "b1efcb9a",
   "metadata": {},
   "outputs": [],
   "source": [
    "# Python Implementation\n",
    "\n",
    "CPython\n",
    "Jpython\n",
    "Iron Python\n",
    "Ruby Python\n",
    "PyPy -- Thonny Editor  \n",
    "Anaconda Python "
   ]
  },
  {
   "cell_type": "code",
   "execution_count": null,
   "id": "3615497b",
   "metadata": {},
   "outputs": [],
   "source": [
    "#Extensibility  -  can run code written in  other PL into python\n",
    "#Embedded - can run python code in other PL  "
   ]
  },
  {
   "cell_type": "markdown",
   "id": "63860323",
   "metadata": {},
   "source": [
    "# Python Components \n",
    "     Expressions and Statements \n",
    "     Block and Indentation\n",
    "     Comments\n",
    "     Escape sequence\n",
    "     Data Types\n",
    "     Operators"
   ]
  },
  {
   "cell_type": "code",
   "execution_count": null,
   "id": "f27f9e94",
   "metadata": {},
   "outputs": [],
   "source": [
    "#  Expression is a combination of literals and identifiers which gives result after  execution \n",
    "#  Statements is a combination of literals and identifiers which does not gives result after  execution "
   ]
  },
  {
   "cell_type": "code",
   "execution_count": 1,
   "id": "716417c6",
   "metadata": {},
   "outputs": [],
   "source": [
    "# Block - if , else , elif ,  for , with , while ,  def ,  class,  try, except ,  finally "
   ]
  },
  {
   "cell_type": "code",
   "execution_count": 2,
   "id": "cb1089b7",
   "metadata": {},
   "outputs": [],
   "source": [
    "# Escape sequence "
   ]
  },
  {
   "cell_type": "code",
   "execution_count": 3,
   "id": "c58bf87b",
   "metadata": {},
   "outputs": [
    {
     "ename": "SyntaxError",
     "evalue": "EOL while scanning string literal (2542024061.py, line 1)",
     "output_type": "error",
     "traceback": [
      "\u001b[1;36m  Input \u001b[1;32mIn [3]\u001b[1;36m\u001b[0m\n\u001b[1;33m    print('This\u001b[0m\n\u001b[1;37m                ^\u001b[0m\n\u001b[1;31mSyntaxError\u001b[0m\u001b[1;31m:\u001b[0m EOL while scanning string literal\n"
     ]
    }
   ],
   "source": [
    "print('This \n",
    "is \n",
    "Python ')\n",
    "      \n",
    "# in case of multi line string the quotes is not working so here we can use '\\'  to avoid the error"
   ]
  },
  {
   "cell_type": "code",
   "execution_count": 5,
   "id": "2d702d60",
   "metadata": {},
   "outputs": [
    {
     "name": "stdout",
     "output_type": "stream",
     "text": [
      "This is Python \n"
     ]
    }
   ],
   "source": [
    "print('This \\\n",
    "is \\\n",
    "Python ')"
   ]
  },
  {
   "cell_type": "code",
   "execution_count": 6,
   "id": "10d6dff0",
   "metadata": {},
   "outputs": [],
   "source": [
    "# Datatypes : \n",
    "# Fundamental data types - int , string , float , boolean , complex \n",
    "# Derived Datatypes - list ,  Tuples ,  dictionary ,  set ,range "
   ]
  },
  {
   "cell_type": "markdown",
   "id": "d4cd99e8",
   "metadata": {},
   "source": [
    "# taking input from user "
   ]
  },
  {
   "cell_type": "code",
   "execution_count": 11,
   "id": "7c732cdc",
   "metadata": {},
   "outputs": [
    {
     "name": "stdout",
     "output_type": "stream",
     "text": [
      "enter first no: 10\n",
      "enter second no: 20\n",
      "30\n"
     ]
    }
   ],
   "source": [
    "num1 = eval(input('enter first no: '))\n",
    "num2 = eval(input('enter second no: '))\n",
    "print(num1 + num2)"
   ]
  },
  {
   "cell_type": "code",
   "execution_count": 21,
   "id": "bb9ce893",
   "metadata": {},
   "outputs": [
    {
     "name": "stdout",
     "output_type": "stream",
     "text": [
      "30 <class 'int'>\n",
      "['P', 'y', 't', 'h', 'o', 'n']\n",
      "['[', '1', '0', ',', '2', '0', ',', '3', '0', ',', '4', '0', ']'] <class 'list'>\n",
      "[10, 20, 30, 40] <class 'list'>\n"
     ]
    }
   ],
   "source": [
    "# input function converts everything to string so we have to typecast it in  order to  perform any mathematical function .\n",
    "# eval('expr') -  function \n",
    "\n",
    "a = eval('10+20')\n",
    "print(a , type(a))\n",
    "\n",
    "res = list('Python')\n",
    "print(res)\n",
    "\n",
    "res = list('[10,20,30,40]') \n",
    "print(res, type(res))\n",
    "\n",
    "# each elements of the string becomes the individual element of the list. \n",
    "# but our expectation is to get the result as [10,20,30,40] so we will use eval function \n",
    "# to evaluate the given string which is a list to its core type (list) and not as a string \n",
    "\n",
    "res = eval('[10,20,30,40]')\n",
    "print(res, type(res))\n"
   ]
  },
  {
   "cell_type": "code",
   "execution_count": 25,
   "id": "23c1fedc",
   "metadata": {},
   "outputs": [
    {
     "name": "stdout",
     "output_type": "stream",
     "text": [
      "10 20 30 40 50\n",
      "10,20,30,40,50\n",
      "one:two:three\n"
     ]
    }
   ],
   "source": [
    "# Print FUNCTION  \n",
    "\n",
    "# sep , end\n",
    "\n",
    "print(10,20,30,40,50)\n",
    "\n",
    "print(10,20,30,40,50, sep =',') \n",
    "print('one', 'two', 'three' , sep =':') "
   ]
  },
  {
   "cell_type": "code",
   "execution_count": 27,
   "id": "1ffaf003",
   "metadata": {},
   "outputs": [
    {
     "name": "stdout",
     "output_type": "stream",
     "text": [
      "10\n",
      "20\n",
      "30\n",
      "40\n"
     ]
    }
   ],
   "source": [
    "print(10)\n",
    "print(20)\n",
    "print(30)\n",
    "print(40)"
   ]
  },
  {
   "cell_type": "code",
   "execution_count": 30,
   "id": "0f6ce3c1",
   "metadata": {},
   "outputs": [
    {
     "name": "stdout",
     "output_type": "stream",
     "text": [
      "10\n",
      "20\n",
      "30\n",
      "40\n",
      "10 20 30 40 "
     ]
    }
   ],
   "source": [
    "# in above print statement we are getting the results in new line because by default in every print function there is \n",
    "# 'end' attribute  which is set to \\n \n",
    "print(10, end = '\\n')\n",
    "print(20, end = '\\n')\n",
    "print(30, end = '\\n')\n",
    "print(40, end = '\\n')\n",
    "\n",
    "print(10, end = ' ')\n",
    "print(20, end = ' ')\n",
    "print(30, end = ' ')\n",
    "print(40, end = ' ')"
   ]
  },
  {
   "cell_type": "code",
   "execution_count": 32,
   "id": "787bf890",
   "metadata": {},
   "outputs": [
    {
     "name": "stdout",
     "output_type": "stream",
     "text": [
      "enter the first no: 10\n",
      "enter the second no: 20\n",
      "The sum of 10 and 20 is 30\n"
     ]
    }
   ],
   "source": [
    "# Output formatting \n",
    "\n",
    "val1 = eval(input('enter the first no: '))\n",
    "val2 = eval(input('enter the second no: '))\n",
    "print(f'The sum of {val1} and {val2} is {val1 + val2}')"
   ]
  },
  {
   "cell_type": "code",
   "execution_count": null,
   "id": "52a73f52",
   "metadata": {},
   "outputs": [],
   "source": [
    "# Operators \n",
    "    1. Arithmetic - +, -, *, /(Float division),//(Floor Division), %(Modulo Operation), ** (Exponent)\n",
    "    2. Comparison >, < ,>= ,<= \n",
    "    3. Logical   and or not \n",
    "    4. Equality  ==\n",
    "    5. Bitwise   & (and), |(or), ^ (xor), ~ (negation) , <<(Left shift) , >> (right shift)\n",
    "    6. Assignment  = \n",
    "    7. Compound assignment  += , -= , *= , /=, //=,%= , **= , &=, !=, ^=, ~= , <<= , >>=\n",
    "    8. Membership  in , not in \n",
    "    9. Identity   is , is not \n",
    "    10.Ternary    expr if cond else expr \n",
    "    11. Operator Precedence "
   ]
  },
  {
   "cell_type": "code",
   "execution_count": 12,
   "id": "040af71e",
   "metadata": {},
   "outputs": [
    {
     "name": "stdout",
     "output_type": "stream",
     "text": [
      "3.3333333333333335\n",
      "3\n",
      "1\n",
      "3.3333333333333335 <class 'float'>\n",
      "3.3333333333333335 <class 'float'>\n",
      "9\n",
      "10\n",
      "1000\n",
      "1000\n"
     ]
    }
   ],
   "source": [
    "# 1. Arithmetic - +, -, *, /(Float division),//(Floor Division), %(Modulo Operation), ** (Exponent)\n",
    "\n",
    "print(10/3)   # Float Division  - the division operation happens until the capacity of a float number\n",
    "print(10//3)  # Floor Division  -  quotient without decimal part\n",
    "print(10%3)   # Modulo -  remainder \n",
    "\n",
    "a = 10/3\n",
    "print(a , type(a))\n",
    "\n",
    "b = 10.0/3\n",
    "print(b , type(b))\n",
    "\n",
    "# ceil value - highest nearest whole value \n",
    "# floor value - lowest  nearest whole value \n",
    "\n",
    "import math as m\n",
    "print(m.floor(9.0009))  \n",
    "print(m.ceil(9.0009))\n",
    "\n",
    "print(10**3)\n",
    "print(pow(10,3 ))\n",
    "\n",
    "\n"
   ]
  },
  {
   "cell_type": "code",
   "execution_count": 7,
   "id": "6a7e6a29",
   "metadata": {},
   "outputs": [
    {
     "name": "stdout",
     "output_type": "stream",
     "text": [
      "String Concat -->  LearnPython\n",
      "List Concat -->  [10, 20, 30, 40, 10, 20, 30, 40]\n",
      "Tuple Concat -->  (10, 20, 30, 40, 10, 20, 30, 40)\n",
      "LearnPython\n",
      "Learn\n",
      "Python\n"
     ]
    }
   ],
   "source": [
    "# Concatenation '+'  Sequence Type\n",
    "# both operand should be of same seq type \n",
    "# Concatenation operation  creates a new object \n",
    "\n",
    "print('String Concat --> ' , 'Learn'+'Python')\n",
    "print('List Concat --> ' , [10,20,30,40] + [10,20,30,40])\n",
    "print('Tuple Concat --> ' , (10,20,30,40) + (10,20,30,40))\n",
    "\n",
    "\n",
    "str1 = 'Learn'\n",
    "str2 = 'Python'\n",
    "print(str1 + str2)\n",
    "print(str1)\n",
    "print(str2)\n"
   ]
  },
  {
   "cell_type": "code",
   "execution_count": 5,
   "id": "a551e078",
   "metadata": {},
   "outputs": [
    {
     "name": "stdout",
     "output_type": "stream",
     "text": [
      "pythonpythonpython\n",
      "3.0\n"
     ]
    }
   ],
   "source": [
    "# Repetition  '*'  Sequence type\n",
    "# One operand should be sequence and other should be int , takes only int \n",
    "# this also creates a new object \n",
    "\n",
    "print('python' * 3 )\n",
    "#print('python' * 3.0 ) -- can't multiply sequence by non-int of type 'float' \n",
    "#print('python' * 'python') -- can't multiply sequence by non-int of type 'str' \n"
   ]
  },
  {
   "cell_type": "code",
   "execution_count": 20,
   "id": "43085416",
   "metadata": {},
   "outputs": [
    {
     "name": "stdout",
     "output_type": "stream",
     "text": [
      "True\n",
      "True\n",
      "True\n",
      "False\n",
      "True\n",
      "True\n",
      "False\n",
      "True\n",
      "False\n",
      "True\n"
     ]
    }
   ],
   "source": [
    "# Comparison Operator - <, <= , > , >=\n",
    "# Return Boolean values \n",
    "# It works with only similar data types except int and float \n",
    "\n",
    "print(10 < 20)\n",
    "print(1 < 3.0)\n",
    "print(3.1 < 3.3)\n",
    "#print( 30 < 30 + 0j)  error  should be of same datatype\n",
    "#print('python' < 30)  error  should be of same datatype \n",
    " # element by element comparison in case of string \n",
    "print('python' < 'python')\n",
    "print('Python' < 'python')\n",
    "print('Python' < 'Pythons')\n",
    "print('Pythons1' < 'Pythons')  \n",
    "print('10' < '9') # 10 is not less than 9 but since in string we do element by element comparison and 1 comes before 9 \n",
    "# or we can say 1 is less than 9 so Overall result is TRUE \n",
    "\n",
    "print('10' < '00')\n",
    "\n",
    "print(10<20<30>3<=3>=1) # In this combined expression if all conditions are True then only overall result is True,\n",
    "#  if any of the conditions evalutes to be False , whole overall result will be false .\n",
    "\n",
    "\n"
   ]
  },
  {
   "cell_type": "code",
   "execution_count": 30,
   "id": "906b6a67",
   "metadata": {},
   "outputs": [
    {
     "name": "stdout",
     "output_type": "stream",
     "text": [
      "False\n",
      "False\n",
      "False\n",
      "True\n",
      "False\n"
     ]
    }
   ],
   "source": [
    "#Equality Operator == , !=  \n",
    "# returns boolean  value True or False \n",
    "# It compares the content \n",
    "# It works with different datatypes  \n",
    "\n",
    "print(10 == 20)\n",
    "print('A' == 65 )  \n",
    "print('Python' == 'python')\n",
    "print('Python' == 'Python')\n",
    "\n",
    "print(10 ==10!= 20!=20) # if any of the condition is False then overall result will become False"
   ]
  },
  {
   "cell_type": "code",
   "execution_count": null,
   "id": "f5f06836",
   "metadata": {},
   "outputs": [],
   "source": [
    "#Logical Operator  and , or ,  not \n",
    "#They work with  logic and logic should always be evaluated as True or False \n",
    "\n",
    "# and Truth table (gives importance to False value , if any value is False the result will be False )\n",
    "#True and True = True\n",
    "#True and False = False\n",
    "#False and True = False\n",
    "#False and False = True \n",
    "\n",
    "# or Truth table (gives importance to True value , if any value is True the result will be True )\n",
    "#True or True = True\n",
    "#True or False = True\n",
    "#False or True = True\n",
    "#False or False = False \n",
    "\n",
    "# not Truth table \n",
    "# not True = False \n",
    "# not False = True\n",
    "\n",
    "\n",
    "\n",
    "\n"
   ]
  }
 ],
 "metadata": {
  "kernelspec": {
   "display_name": "Python 3 (ipykernel)",
   "language": "python",
   "name": "python3"
  },
  "language_info": {
   "codemirror_mode": {
    "name": "ipython",
    "version": 3
   },
   "file_extension": ".py",
   "mimetype": "text/x-python",
   "name": "python",
   "nbconvert_exporter": "python",
   "pygments_lexer": "ipython3",
   "version": "3.9.12"
  }
 },
 "nbformat": 4,
 "nbformat_minor": 5
}
